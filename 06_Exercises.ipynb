{
 "cells": [
  {
   "cell_type": "markdown",
   "metadata": {
    "slideshow": {
     "slide_type": "slide"
    }
   },
   "source": [
    "# Pandas Data Engineering\n",
    "\n",
    "### Python for Data Engineering\n",
    "\n",
    "Exercise:\n",
    "\n",
    "Read the titanic csv file in and save as a pandas data frame called ti."
   ]
  },
  {
   "cell_type": "code",
   "execution_count": null,
   "metadata": {},
   "outputs": [],
   "source": []
  },
  {
   "cell_type": "markdown",
   "metadata": {
    "slideshow": {
     "slide_type": "slide"
    }
   },
   "source": [
    "## How do I select rows by index?"
   ]
  },
  {
   "cell_type": "markdown",
   "metadata": {
    "slideshow": {
     "slide_type": "fragment"
    }
   },
   "source": [
    "Exercise:\n",
    "\n",
    "Use the .loc\\[\\] method to select the 'sex' column, 1st, 4th, and 6th rows.\n",
    "\n",
    "Hint: Recall that the locator method `.loc` accepts *row indexes* and column *names*"
   ]
  },
  {
   "cell_type": "code",
   "execution_count": null,
   "metadata": {},
   "outputs": [],
   "source": []
  },
  {
   "cell_type": "markdown",
   "metadata": {
    "slideshow": {
     "slide_type": "slide"
    }
   },
   "source": [
    "## How do I select rows by position?"
   ]
  },
  {
   "cell_type": "markdown",
   "metadata": {
    "slideshow": {
     "slide_type": "fragment"
    }
   },
   "source": [
    "As `.loc` is an index-based method, it does not select elements by position. However `.iloc` selects **both** rows and columns by position.\n",
    "\n",
    "Exercise:\n",
    "\n",
    "Use.iloc to select the survived and sex columns, 1st and 2nd row."
   ]
  },
  {
   "cell_type": "code",
   "execution_count": null,
   "metadata": {},
   "outputs": [],
   "source": []
  },
  {
   "cell_type": "markdown",
   "metadata": {
    "slideshow": {
     "slide_type": "slide"
    }
   },
   "source": [
    "## How do I create new columns?"
   ]
  },
  {
   "cell_type": "markdown",
   "metadata": {
    "slideshow": {
     "slide_type": "fragment"
    }
   },
   "source": [
    "To create a new column \"select\" it using `['colname']` and assign using `=`\n",
    "\n",
    "Exercise\n",
    "\n",
    "1. Select the sex column and use .str.upper() to convert all entries to upper case. Save this as ti\\['new_column'\\].\n",
    "\n",
    "2. Select your new column from ti and use .sample() or .head() to check your previous answer."
   ]
  },
  {
   "cell_type": "code",
   "execution_count": null,
   "metadata": {},
   "outputs": [],
   "source": []
  },
  {
   "cell_type": "code",
   "execution_count": null,
   "metadata": {},
   "outputs": [],
   "source": []
  },
  {
   "cell_type": "markdown",
   "metadata": {
    "slideshow": {
     "slide_type": "fragment"
    }
   },
   "source": [
    "All columns must have the same number of rows; since new columns are *mostly* just derived from existing, this may not be a common issue. "
   ]
  },
  {
   "cell_type": "markdown",
   "metadata": {
    "slideshow": {
     "slide_type": "slide"
    }
   },
   "source": [
    "## How do I group and aggregate data?"
   ]
  },
  {
   "cell_type": "markdown",
   "metadata": {
    "slideshow": {
     "slide_type": "fragment"
    }
   },
   "source": [
    "```\n",
    "df['column-to-be-aggregated'].groupby(\n",
    "    df['values-to-split-on']\n",
    ").summaryfn()\n",
    "```"
   ]
  },
  {
   "cell_type": "markdown",
   "metadata": {
    "slideshow": {
     "slide_type": "fragment"
    }
   },
   "source": [
    "* `SELECT age FROM df GROUP BY survived`\n",
    "* `SELECT age FROM df GROUP BY survived, class`\n",
    "* `SELECT age FROM df WHERE age <= 18 GROUP BY survived, class`"
   ]
  },
  {
   "cell_type": "markdown",
   "metadata": {
    "slideshow": {
     "slide_type": "slide"
    }
   },
   "source": [
    "What is the average age of the Titanic passengers?\n",
    "\n",
    "Exercise:\n",
    "\n",
    "1. Select the fare column.\n",
    "\n",
    "2. Extend your previous answer by using .groupby() with the survived column as the values to split on. Use .mean() as the summary function for each group.\n",
    "\n",
    "3. Select the age column and group into a set of rows for the survivors and a set of rows for those who did not survive. Calculate the mean age for each group."
   ]
  },
  {
   "cell_type": "code",
   "execution_count": null,
   "metadata": {},
   "outputs": [],
   "source": []
  },
  {
   "cell_type": "code",
   "execution_count": null,
   "metadata": {},
   "outputs": [],
   "source": []
  },
  {
   "cell_type": "markdown",
   "metadata": {
    "slideshow": {
     "slide_type": "slide"
    }
   },
   "source": [
    "## How I groupby multiple columns?"
   ]
  },
  {
   "cell_type": "markdown",
   "metadata": {
    "slideshow": {
     "slide_type": "fragment"
    }
   },
   "source": [
    "As in most cases in pandas a single column can be replaced with a list of them:\n",
    "\n",
    "Exercise:\n",
    "\n",
    "Run the below section of code and take a moment to think about how the results were calculated."
   ]
  },
  {
   "cell_type": "code",
   "execution_count": 10,
   "metadata": {
    "slideshow": {
     "slide_type": "fragment"
    }
   },
   "outputs": [
    {
     "data": {
      "text/plain": [
       "survived  class \n",
       "0         First     64.684008\n",
       "          Second    19.412328\n",
       "          Third     13.669364\n",
       "1         First     95.608029\n",
       "          Second    22.055700\n",
       "          Third     13.694887\n",
       "Name: fare, dtype: float64"
      ]
     },
     "execution_count": 10,
     "metadata": {},
     "output_type": "execute_result"
    }
   ],
   "source": [
    "columns = [ti['survived'], ti['class']]\n",
    "ti['fare'].groupby(columns).mean()\n"
   ]
  },
  {
   "cell_type": "markdown",
   "metadata": {
    "slideshow": {
     "slide_type": "slide"
    }
   },
   "source": [
    "## How do I create new factor/group columns?"
   ]
  },
  {
   "cell_type": "markdown",
   "metadata": {
    "slideshow": {
     "slide_type": "fragment"
    }
   },
   "source": [
    "The `pd.cut` method on the pandas library *cuts* a column (ie., bins, groups) using *cut points*...\n",
    "\n",
    "Exercise:\n",
    "\n",
    "1. Run the below section of code and then adapt it so that the age_groups column is saved as a new column in the ti dataframe with a different name: 'Age_Groups'.\n",
    "\n",
    "2. Select the age and age_groups columns\n",
    "\n",
    "3. Extend your previous answer by using .loc to view the rows in which age is 17 - which label was applied for 17 year olds when pd.cut() was used?\n"
   ]
  },
  {
   "cell_type": "code",
   "execution_count": 6,
   "metadata": {
    "slideshow": {
     "slide_type": "fragment"
    }
   },
   "outputs": [],
   "source": [
    "age_groups = pd.cut(\n",
    "    ti['age'], \n",
    "    [0, 17, 30, 50, 70, 100], \n",
    "    labels=[\"child\", \"yadult\", \"adult\", \"senior\", \"vsnr\"]\n",
    ")"
   ]
  },
  {
   "cell_type": "code",
   "execution_count": null,
   "metadata": {},
   "outputs": [],
   "source": []
  },
  {
   "cell_type": "code",
   "execution_count": null,
   "metadata": {},
   "outputs": [],
   "source": []
  },
  {
   "cell_type": "code",
   "execution_count": null,
   "metadata": {},
   "outputs": [],
   "source": []
  },
  {
   "cell_type": "markdown",
   "metadata": {
    "slideshow": {
     "slide_type": "slide"
    }
   },
   "source": [
    "## How do I use columns that aren't part of the dataframe?"
   ]
  },
  {
   "cell_type": "markdown",
   "metadata": {
    "slideshow": {
     "slide_type": "fragment"
    }
   },
   "source": [
    "You can use the new column in `groupby` directly:"
   ]
  },
  {
   "cell_type": "code",
   "execution_count": 27,
   "metadata": {
    "slideshow": {
     "slide_type": "fragment"
    }
   },
   "outputs": [
    {
     "data": {
      "text/plain": [
       "embark_town  age   \n",
       "Cherbourg    child     0.750000\n",
       "             yadult    0.580000\n",
       "             adult     0.585366\n",
       "             senior    0.615385\n",
       "             vsnr      0.000000\n",
       "Queenstown   child     0.428571\n",
       "             yadult    0.444444\n",
       "             adult     0.111111\n",
       "             senior    0.000000\n",
       "             vsnr      0.000000\n",
       "Southampton  child     0.487805\n",
       "             yadult    0.303797\n",
       "             adult     0.400000\n",
       "             senior    0.279070\n",
       "             vsnr      0.500000\n",
       "Name: survived, dtype: float64"
      ]
     },
     "execution_count": 27,
     "metadata": {},
     "output_type": "execute_result"
    }
   ],
   "source": [
    "columns = [ ti['embark_town'], age_groups ]\n",
    "\n",
    "ti['survived'].groupby(columns).mean()"
   ]
  },
  {
   "cell_type": "markdown",
   "metadata": {
    "slideshow": {
     "slide_type": "slide"
    }
   },
   "source": [
    "Or we can add this back into the dataframe:"
   ]
  },
  {
   "cell_type": "code",
   "execution_count": 28,
   "metadata": {
    "slideshow": {
     "slide_type": "fragment"
    }
   },
   "outputs": [],
   "source": [
    "ti['ageg'] = age_groups"
   ]
  },
  {
   "cell_type": "markdown",
   "metadata": {
    "slideshow": {
     "slide_type": "slide"
    }
   },
   "source": [
    "Aside: the `range` function provides a handy way of specifying groups,"
   ]
  },
  {
   "cell_type": "code",
   "execution_count": 35,
   "metadata": {
    "slideshow": {
     "slide_type": "fragment"
    }
   },
   "outputs": [
    {
     "data": {
      "text/plain": [
       "fare\n",
       "(0, 50]       0.324022\n",
       "(50, 100]     0.654206\n",
       "(100, 150]    0.791667\n",
       "(150, 200]    0.666667\n",
       "(200, 250]    0.636364\n",
       "Name: survived, dtype: float64"
      ]
     },
     "execution_count": 35,
     "metadata": {},
     "output_type": "execute_result"
    }
   ],
   "source": [
    "ti['survived'].groupby(pd.cut(ti['fare'], range(0, 300, 50))).mean()"
   ]
  },
  {
   "cell_type": "markdown",
   "metadata": {
    "slideshow": {
     "slide_type": "slide"
    }
   },
   "source": [
    "## How do I import data from an excel file?"
   ]
  },
  {
   "cell_type": "markdown",
   "metadata": {
    "slideshow": {
     "slide_type": "fragment"
    }
   },
   "source": [
    "The `read_excel` function imports data:\n",
    "\n",
    "Exercise:\n",
    "\n",
    "Use pd.read_excel() to read from the file titanic.xlsx . Save this dataframe as raw."
   ]
  },
  {
   "cell_type": "code",
   "execution_count": null,
   "metadata": {},
   "outputs": [],
   "source": []
  },
  {
   "cell_type": "markdown",
   "metadata": {
    "slideshow": {
     "slide_type": "slide"
    }
   },
   "source": [
    "## How do I select different excel sheets?\n",
    "\n",
    "Exercise:\n",
    "\n",
    "Open the .xlsx file in Excel.\n",
    "\n",
    "Run the below section of code and check what data has been read into the pandas dataframe."
   ]
  },
  {
   "cell_type": "code",
   "execution_count": 63,
   "metadata": {
    "scrolled": true,
    "slideshow": {
     "slide_type": "fragment"
    }
   },
   "outputs": [],
   "source": [
    "sheet1 = pd.read_excel('titanic.xlsx',  sheet_name=0)"
   ]
  },
  {
   "cell_type": "markdown",
   "metadata": {
    "slideshow": {
     "slide_type": "slide"
    }
   },
   "source": [
    "## How do I rename columns?"
   ]
  },
  {
   "cell_type": "code",
   "execution_count": 11,
   "metadata": {
    "slideshow": {
     "slide_type": "fragment"
    }
   },
   "outputs": [],
   "source": [
    "new = ti.rename(columns={\n",
    "    'survived': 'P_Survival',\n",
    "    'age': 'X_Age',\n",
    "    'sex': 'X_Sex'\n",
    "})"
   ]
  },
  {
   "cell_type": "markdown",
   "metadata": {
    "slideshow": {
     "slide_type": "slide"
    }
   },
   "source": [
    "## How do I remove columns?"
   ]
  },
  {
   "cell_type": "markdown",
   "metadata": {
    "slideshow": {
     "slide_type": "fragment"
    }
   },
   "source": [
    "Columns can be \"removed\" simply by selecting a subset of the ones you wish to keep:"
   ]
  },
  {
   "cell_type": "code",
   "execution_count": 13,
   "metadata": {
    "slideshow": {
     "slide_type": "fragment"
    }
   },
   "outputs": [
    {
     "data": {
      "text/html": [
       "<div>\n",
       "<style scoped>\n",
       "    .dataframe tbody tr th:only-of-type {\n",
       "        vertical-align: middle;\n",
       "    }\n",
       "\n",
       "    .dataframe tbody tr th {\n",
       "        vertical-align: top;\n",
       "    }\n",
       "\n",
       "    .dataframe thead th {\n",
       "        text-align: right;\n",
       "    }\n",
       "</style>\n",
       "<table border=\"1\" class=\"dataframe\">\n",
       "  <thead>\n",
       "    <tr style=\"text-align: right;\">\n",
       "      <th></th>\n",
       "      <th>P_Survival</th>\n",
       "      <th>X_Age</th>\n",
       "      <th>X_Sex</th>\n",
       "    </tr>\n",
       "  </thead>\n",
       "  <tbody>\n",
       "    <tr>\n",
       "      <th>50</th>\n",
       "      <td>0</td>\n",
       "      <td>7.0</td>\n",
       "      <td>male</td>\n",
       "    </tr>\n",
       "  </tbody>\n",
       "</table>\n",
       "</div>"
      ],
      "text/plain": [
       "    P_Survival  X_Age X_Sex\n",
       "50           0    7.0  male"
      ]
     },
     "execution_count": 13,
     "metadata": {},
     "output_type": "execute_result"
    }
   ],
   "source": [
    "selected = ['P_Survival', 'X_Age', 'X_Sex']\n",
    "\n",
    "new = new[selected]\n",
    "new.sample()"
   ]
  },
  {
   "cell_type": "markdown",
   "metadata": {
    "slideshow": {
     "slide_type": "slide"
    }
   },
   "source": [
    "Or by `drop`ing,"
   ]
  },
  {
   "cell_type": "code",
   "execution_count": 20,
   "metadata": {
    "slideshow": {
     "slide_type": "fragment"
    }
   },
   "outputs": [
    {
     "data": {
      "text/html": [
       "<div>\n",
       "<style scoped>\n",
       "    .dataframe tbody tr th:only-of-type {\n",
       "        vertical-align: middle;\n",
       "    }\n",
       "\n",
       "    .dataframe tbody tr th {\n",
       "        vertical-align: top;\n",
       "    }\n",
       "\n",
       "    .dataframe thead th {\n",
       "        text-align: right;\n",
       "    }\n",
       "</style>\n",
       "<table border=\"1\" class=\"dataframe\">\n",
       "  <thead>\n",
       "    <tr style=\"text-align: right;\">\n",
       "      <th></th>\n",
       "      <th>survived</th>\n",
       "      <th>sex</th>\n",
       "      <th>age</th>\n",
       "    </tr>\n",
       "  </thead>\n",
       "  <tbody>\n",
       "    <tr>\n",
       "      <th>26</th>\n",
       "      <td>0</td>\n",
       "      <td>male</td>\n",
       "      <td>NaN</td>\n",
       "    </tr>\n",
       "  </tbody>\n",
       "</table>\n",
       "</div>"
      ],
      "text/plain": [
       "    survived   sex  age\n",
       "26         0  male  NaN"
      ]
     },
     "execution_count": 20,
     "metadata": {},
     "output_type": "execute_result"
    }
   ],
   "source": [
    "smaller = ti.copy()\n",
    "smaller.drop(columns=['pclass', 'sibsp', 'parch', 'fare',\n",
    "       'embarked', 'class', 'who', 'adult_male', 'deck', 'embark_town',\n",
    "       'alive', 'alone']).sample()"
   ]
  },
  {
   "cell_type": "markdown",
   "metadata": {
    "slideshow": {
     "slide_type": "slide"
    }
   },
   "source": [
    "## How do I change the type of a column?"
   ]
  },
  {
   "cell_type": "markdown",
   "metadata": {
    "slideshow": {
     "slide_type": "fragment"
    }
   },
   "source": [
    "The `astype` function *converts*, which requires a sensible conversion to exist:"
   ]
  },
  {
   "cell_type": "code",
   "execution_count": 27,
   "metadata": {
    "slideshow": {
     "slide_type": "fragment"
    }
   },
   "outputs": [],
   "source": [
    "ti['y'] = ti['survived'].astype(bool)"
   ]
  },
  {
   "cell_type": "code",
   "execution_count": 28,
   "metadata": {
    "slideshow": {
     "slide_type": "fragment"
    }
   },
   "outputs": [
    {
     "data": {
      "text/plain": [
       "771    False\n",
       "Name: y, dtype: bool"
      ]
     },
     "execution_count": 28,
     "metadata": {},
     "output_type": "execute_result"
    }
   ],
   "source": [
    "ti['y'].sample()"
   ]
  },
  {
   "cell_type": "markdown",
   "metadata": {
    "slideshow": {
     "slide_type": "slide"
    }
   },
   "source": [
    "This will not work with text as it isnt clear, eg., that \"male\" should be `True` (or `False`). The default for text to boolean is: if there is any text it will save it as True, and if it's an empty string it will save it as False (not very helpful in this case).\n",
    "\n",
    "Here then, just use a test:"
   ]
  },
  {
   "cell_type": "code",
   "execution_count": 32,
   "metadata": {
    "slideshow": {
     "slide_type": "fragment"
    }
   },
   "outputs": [
    {
     "data": {
      "text/plain": [
       "623    True\n",
       "Name: sex_cat, dtype: bool"
      ]
     },
     "execution_count": 32,
     "metadata": {},
     "output_type": "execute_result"
    }
   ],
   "source": [
    "ti['sex_cat'] = ti['sex'] == \"male\"\n",
    "\n",
    "ti['sex_cat'].sample()"
   ]
  },
  {
   "cell_type": "markdown",
   "metadata": {
    "slideshow": {
     "slide_type": "slide"
    }
   },
   "source": [
    "## How do I join datasets?"
   ]
  },
  {
   "cell_type": "markdown",
   "metadata": {
    "slideshow": {
     "slide_type": "fragment"
    }
   },
   "source": [
    "* `pd.concat`\n",
    "    * gluing at the end using index position\n",
    "* `df.merge`\n",
    "    * sql-like\n",
    "    * joining columns togther\n",
    "    * based on column which overlaps"
   ]
  },
  {
   "cell_type": "code",
   "execution_count": 28,
   "metadata": {
    "slideshow": {
     "slide_type": "fragment"
    }
   },
   "outputs": [
    {
     "data": {
      "text/html": [
       "<div>\n",
       "<style scoped>\n",
       "    .dataframe tbody tr th:only-of-type {\n",
       "        vertical-align: middle;\n",
       "    }\n",
       "\n",
       "    .dataframe tbody tr th {\n",
       "        vertical-align: top;\n",
       "    }\n",
       "\n",
       "    .dataframe thead th {\n",
       "        text-align: right;\n",
       "    }\n",
       "</style>\n",
       "<table border=\"1\" class=\"dataframe\">\n",
       "  <thead>\n",
       "    <tr style=\"text-align: right;\">\n",
       "      <th></th>\n",
       "      <th>location</th>\n",
       "      <th>value_x</th>\n",
       "      <th>city</th>\n",
       "      <th>value_y</th>\n",
       "    </tr>\n",
       "  </thead>\n",
       "  <tbody>\n",
       "    <tr>\n",
       "      <th>0</th>\n",
       "      <td>london</td>\n",
       "      <td>1</td>\n",
       "      <td>london</td>\n",
       "      <td>6</td>\n",
       "    </tr>\n",
       "    <tr>\n",
       "      <th>1</th>\n",
       "      <td>leeds</td>\n",
       "      <td>2</td>\n",
       "      <td>leeds</td>\n",
       "      <td>7</td>\n",
       "    </tr>\n",
       "    <tr>\n",
       "      <th>2</th>\n",
       "      <td>manchester</td>\n",
       "      <td>3</td>\n",
       "      <td>manchester</td>\n",
       "      <td>8</td>\n",
       "    </tr>\n",
       "  </tbody>\n",
       "</table>\n",
       "</div>"
      ],
      "text/plain": [
       "     location  value_x        city  value_y\n",
       "0      london        1      london        6\n",
       "1       leeds        2       leeds        7\n",
       "2  manchester        3  manchester        8"
      ]
     },
     "execution_count": 28,
     "metadata": {},
     "output_type": "execute_result"
    }
   ],
   "source": [
    "df1 = pd.DataFrame({'location': ['london', 'leeds', 'manchester'],\n",
    "               'value': [1, 2, 3]}\n",
    ")\n",
    "df2 = pd.DataFrame({'city': ['london', 'leeds', 'manchester'],\n",
    "                     'value': [ 6, 7, 8]})\n",
    "\n",
    "df1.merge(df2, left_on='location', right_on='city')"
   ]
  },
  {
   "cell_type": "markdown",
   "metadata": {
    "slideshow": {
     "slide_type": "skip"
    }
   },
   "source": [
    "## Appendix"
   ]
  },
  {
   "cell_type": "markdown",
   "metadata": {
    "slideshow": {
     "slide_type": "skip"
    }
   },
   "source": [
    "Download and save the files needed for this module:"
   ]
  },
  {
   "cell_type": "code",
   "execution_count": 3,
   "metadata": {},
   "outputs": [],
   "source": [
    "import seaborn as sns\n",
    "sns.load_dataset('titanic').to_excel('titanic.xlsx', index=False)\n",
    "sns.load_dataset('tips').to_csv('tips.csv', index=False)\n",
    "sns.load_dataset('titanic').to_csv('titanic.csv', index=False)"
   ]
  },
  {
   "cell_type": "markdown",
   "metadata": {
    "slideshow": {
     "slide_type": "slide"
    }
   },
   "source": [
    "## How do I create a column using a conditional business rule?"
   ]
  },
  {
   "cell_type": "markdown",
   "metadata": {
    "slideshow": {
     "slide_type": "fragment"
    }
   },
   "source": [
    "The `numpy` library provides additional tools that are useful with pandas, eg., the `.select` method runs a test *over a column* to select values:"
   ]
  },
  {
   "cell_type": "code",
   "execution_count": 5,
   "metadata": {
    "slideshow": {
     "slide_type": "fragment"
    }
   },
   "outputs": [
    {
     "data": {
      "text/plain": [
       "array('YES', dtype='<U21')"
      ]
     },
     "execution_count": 5,
     "metadata": {},
     "output_type": "execute_result"
    }
   ],
   "source": [
    "import numpy as np\n",
    "np.select([ True, False], [\"YES\", \"NO\" ])"
   ]
  },
  {
   "cell_type": "code",
   "execution_count": 8,
   "metadata": {
    "slideshow": {
     "slide_type": "slide"
    }
   },
   "outputs": [
    {
     "data": {
      "text/plain": [
       "493    71.0\n",
       "Name: measure, dtype: float64"
      ]
     },
     "execution_count": 8,
     "metadata": {},
     "output_type": "execute_result"
    }
   ],
   "source": [
    "import numpy as np\n",
    "\n",
    "conditions =  [ti['sex'] == 'male', ti['sex'] != 'male']\n",
    "options    =  [ti['age'], ti['fare']]\n",
    "\n",
    "ti['measure'] = np.select(conditions, options)\n",
    "ti['measure'].sample()"
   ]
  },
  {
   "cell_type": "markdown",
   "metadata": {
    "slideshow": {
     "slide_type": "slide"
    }
   },
   "source": [
    "## Exercise\n",
    "\n",
    "* show the first ten rows of:\n",
    "    * the first ten cols\n",
    "    * the last ten cols\n",
    "    * see 'How do I select rows by position?'\n",
    "    \n",
    "* add a column to the dataframe `is_adult` which tests the `age` col\n",
    "    * see 'How do I create new columns?'\n",
    "    \n",
    "* rename the `pclass` column to `passgener_class`\n",
    "    * see 'How do I rename columns?'\n",
    "    "
   ]
  },
  {
   "cell_type": "markdown",
   "metadata": {
    "slideshow": {
     "slide_type": "slide"
    }
   },
   "source": [
    "    \n",
    "## Exercise  \n",
    "* Consider the following groupby which uses `agg` to run several summarizing operations...\n",
    "\n",
    "```python\n",
    "cols = ti['sex']\n",
    "ti['age'].groupby(cols).agg(['mean', 'median', 'count'])\n",
    "```\n",
    "\n",
    "* with this as a tempalte, report similar measures for:\n",
    "* survived by sex\n",
    "* survived by embark_town\n",
    "* survived by adult_male"
   ]
  },
  {
   "cell_type": "markdown",
   "metadata": {
    "slideshow": {
     "slide_type": "slide"
    }
   },
   "source": [
    "* Consider the following code which defines groups then uses them in a groupby...\n",
    "\n",
    "```python\n",
    "groups = [0, 12, 18, 30, 65, 100]\n",
    "names = [\"Child\", \"Teen\", \"YAdult\", \"Adult\", \"Retired\"]\n",
    "\n",
    "age_groups = pd.cut( ti['age'], groups, labels=names )\n",
    "ti['survived'].groupby(age_groups).mean()\n",
    "```\n",
    "\n",
    "* with this code as a template,\n",
    "* the rate of survival for different fare groups\n",
    "* eg., 0 to 10, 10 to 50, 50 to 100, 100 to 1000, etc."
   ]
  },
  {
   "cell_type": "code",
   "execution_count": null,
   "metadata": {},
   "outputs": [],
   "source": []
  }
 ],
 "metadata": {
  "celltoolbar": "Slideshow",
  "kernelspec": {
   "display_name": "Python 3 (ipykernel)",
   "language": "python",
   "name": "python3"
  },
  "language_info": {
   "codemirror_mode": {
    "name": "ipython",
    "version": 3
   },
   "file_extension": ".py",
   "mimetype": "text/x-python",
   "name": "python",
   "nbconvert_exporter": "python",
   "pygments_lexer": "ipython3",
   "version": "3.9.12"
  }
 },
 "nbformat": 4,
 "nbformat_minor": 4
}
