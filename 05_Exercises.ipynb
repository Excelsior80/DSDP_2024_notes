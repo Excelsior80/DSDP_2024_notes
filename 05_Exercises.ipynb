{
 "cells": [
  {
   "cell_type": "markdown",
   "metadata": {
    "slideshow": {
     "slide_type": "slide"
    }
   },
   "source": [
    "# Python for Data Science & Analysis \n",
    "## Intro to Pandas for Data Querying"
   ]
  },
  {
   "cell_type": "markdown",
   "metadata": {
    "slideshow": {
     "slide_type": "slide"
    }
   },
   "source": [
    "# Part 1: What is EDA?"
   ]
  },
  {
   "cell_type": "markdown",
   "metadata": {
    "slideshow": {
     "slide_type": "slide"
    }
   },
   "source": [
    "## What is a standard *Technical* EDA workflow?\n"
   ]
  },
  {
   "cell_type": "markdown",
   "metadata": {
    "slideshow": {
     "slide_type": "fragment"
    }
   },
   "source": [
    "### The Ideal Method\n",
    "\n",
    "There is NO single method for EDA ..."
   ]
  },
  {
   "cell_type": "markdown",
   "metadata": {
    "slideshow": {
     "slide_type": "skip"
    }
   },
   "source": [
    "### Non-Ideal Method\n",
    "\n",
    "#### Summary of Method\n",
    "* data quality, structure, etc. metrics\n",
    "    * `.info()`\n",
    "* descriptive stats for all single columns\n",
    "* descriptive stats for all pairs of columns\n",
    "    * ie., correlation\n",
    "* domain-specific row subsets\n",
    "    * all single cols, all pairs \n",
    "* introduce factoring columns\n",
    "    * ie., groupby\n",
    "    * factor all single columns\n",
    "* introduce domain-specific novel columns\n",
    "    * eg., bmi from w/h^2\n",
    "* domain-specific visuals\n",
    "    * eg., geo-plotting for geo data\n",
    "* lightweight predictive modelling\n",
    "    * eg., linear regression, etc. \n",
    "    \n",
    "    "
   ]
  },
  {
   "cell_type": "markdown",
   "metadata": {
    "slideshow": {
     "slide_type": "skip"
    }
   },
   "source": [
    "#### Technical EDA\n",
    "\n",
    "* Step 0. Show all key data quality metrics (mostly non-statistical, quality checks)\n",
    "    * missing data, descriptive stats of all columns...\n",
    "* Step 1. Plot all univariate (single-columns) distributions\n",
    "    * `.describe()`\n",
    "    * eg., `sns.distplot` for *all* single columns\n",
    "* Step 2. Plot all plausible group'd (factored or groupby) univariate distribtions\n",
    "    * ie., subset rows of a single column (based on something domain specific)\n",
    "    * plot distributions of those\n",
    "* Step 3. Show all multivariate (multi-column, correlation) descriptive statistics\n",
    "    * correlation coefs between all pairs of columns, etc.\n",
    "* Step 4. Plot all multivariate distributions\n",
    "    * eg., start with linear regression for all pairs of variables\n",
    "    * eg., group contintous columns by discrete columns\n",
    "* Step 5a. Introduce more domain-specific querying\n",
    "    * ie., domain-specific `WHERE` conditions\n",
    "    * subset rows and repeat (0 - 4)\n",
    "    * subset columns and rows and repeat (0 - 4)\n",
    "* Step 5b. Introduce facotoring columns (derived columns for groupby)\n",
    "    * aka. enrichment, feature engineering (aka. adding a column)\n",
    "    * grouping an exsiting real-number column by meaningful categories\n",
    "        * eg., young, old, etc.\n",
    "    * then use this col on others\n",
    "    * this captures higher-level (heirachical) patterns\n",
    "* Step 5c. (Maybe:) Derived continuous columns \n",
    "    * eg., bmi from weight/height\n",
    "    * plots, etc.\n",
    "* Step 6. (Maybe:) Introduce novel domain-specific visualizations\n",
    "    * eg., geo maps, techincal heatmaps, ...\n",
    "* Step 7. Lightweight Stat Modelling\n",
    "    * linear regression = regression (continuous)\n",
    "        * simple trend prediction\n",
    "    * logistic regression = classification (discete)\n",
    "        * sorting data points into groups (labels/classes/etc.)"
   ]
  },
  {
   "cell_type": "markdown",
   "metadata": {
    "slideshow": {
     "slide_type": "slide"
    }
   },
   "source": [
    "# Part 2: EDA with Pandas\n",
    "\n",
    "Exercise:\n",
    "\n",
    "Import pandas and read in the titanic csv file as a dataframe saved as df.\n",
    "\n"
   ]
  },
  {
   "cell_type": "code",
   "execution_count": null,
   "metadata": {},
   "outputs": [],
   "source": []
  },
  {
   "cell_type": "markdown",
   "metadata": {
    "slideshow": {
     "slide_type": "slide"
    }
   },
   "source": [
    "## How do we EDA with Pandas?"
   ]
  },
  {
   "cell_type": "markdown",
   "metadata": {
    "slideshow": {
     "slide_type": "fragment"
    }
   },
   "source": [
    "* data quality, structure, etc. metrics\n",
    "    * $\\rightarrow$ `.info()`\n",
    "* descriptive stats for all single columns\n",
    "    * $\\rightarrow$ `.describe()`, `.mean()`, `.value_counts()`\n",
    "* descriptive stats for all pairs of columns\n",
    "    * $\\rightarrow$ `.corr()`\n",
    "* domain-specific row subsets\n",
    "    * $\\rightarrow$ `df.loc`\n",
    "* introduce factoring columns \n",
    "    * $\\rightarrow$ `.groupby`\n",
    "* introduce domain-specific novel columns\n",
    "    * $\\rightarrow$ `df['bmi'] = df['w'] / df['h'] ** 2`\n",
    "* domain-specific visuals\n",
    "    * $\\rightarrow$ `df.plot`\n",
    "    "
   ]
  },
  {
   "cell_type": "markdown",
   "metadata": {
    "slideshow": {
     "slide_type": "slide"
    }
   },
   "source": [
    "## How do I understand the structure of a dataset?\n",
    "\n",
    "Exercise:\n",
    "\n",
    "Use .info() to view the structure of your dataframe."
   ]
  },
  {
   "cell_type": "code",
   "execution_count": null,
   "metadata": {},
   "outputs": [],
   "source": []
  },
  {
   "cell_type": "markdown",
   "metadata": {
    "slideshow": {
     "slide_type": "slide"
    }
   },
   "source": [
    "## How do I find possible relations between columns?"
   ]
  },
  {
   "cell_type": "markdown",
   "metadata": {
    "slideshow": {
     "slide_type": "fragment"
    }
   },
   "source": [
    "A correlation coefficient is a value between -1 and 1 (inclusive) that measures the strength of correlation between two variables (columns) in the data.\n",
    "\n",
    "A coefficient of 1 is perfect positive correlation (when visualised on a scatter plot, points appear in a perfect straight line with a positive gradient).\n",
    "\n",
    "A coefficient of -1 is perfect negative correlation (when visualised on a scatter plot, points appear in a perfect straight line with a negative gradient).\n",
    "\n",
    "If there is no correlation the coefficient will be 0.\n",
    "\n",
    "When visualising data on a scatter plot if the data points create an elliptical shape then they are said to have a bivariate normal distribution (and later we will see that this means that *linear* regression may be appropriate).\n",
    "\n",
    "The more circular the ellipse is, the less correlated the variables are. If the ellipse is longer and thinner then the coefficient of correlation will be closer to -1 or 1.\n",
    "\n",
    "**Important**\n",
    "\n",
    "Just because two variables are correlated doesn't mean one has caused the other.\n",
    "\n",
    "For example, if there is a correlation between ice cream sales and murder rates it would most likely be incorrect to say that selling more ice creams causes more murders. Sometimes a correlation is spurious, and sometimes it may be another underlying variable (e.g. temperature - which when high might cause more ice cream sales and more hot tempers!).\n",
    "\n",
    "Calculating a correlation coefficient is part of exploring the data to look for links that should then be further investigated.\n",
    "\n",
    "We can do this quickly in a data set with many possible pairs of columns, using the .corr() method.\n",
    "\n",
    "Exercise:\n",
    "\n",
    "Use the dataframe method .corr() to see the correlation coefficients between all the pairs of variables. Notice which ones are closer to 1 or -1."
   ]
  },
  {
   "cell_type": "code",
   "execution_count": null,
   "metadata": {},
   "outputs": [],
   "source": []
  },
  {
   "cell_type": "markdown",
   "metadata": {
    "slideshow": {
     "slide_type": "slide"
    }
   },
   "source": [
    "A score of $1$ means that the two columns *contain the same information*. $0$ means they are *random* with respect each other (ie., no predictiability between them). Numbers outside these suggest some level of shared information between columns. "
   ]
  },
  {
   "cell_type": "markdown",
   "metadata": {
    "slideshow": {
     "slide_type": "fragment"
    }
   },
   "source": [
    "We are interested in the sign & magnitude of these entires... above, we can see: strong negative between survived and pclass (class 1 $\\rightarrow$ 3, survival). "
   ]
  },
  {
   "cell_type": "markdown",
   "metadata": {
    "slideshow": {
     "slide_type": "fragment"
    }
   },
   "source": [
    "Aside: the options are\n",
    "\n",
    "* pearson : standard correlation coefficient\n",
    "* kendall : Kendall Tau correlation coefficient\n",
    "* spearman : Spearman rank correlation\n",
    "\n",
    "At this stage we don't get into which to use when, but some of you may enjoy reading further about these now you are aware of them."
   ]
  },
  {
   "cell_type": "markdown",
   "metadata": {
    "slideshow": {
     "slide_type": "slide"
    }
   },
   "source": [
    "## How do I select columns from a dataframe?\n",
    "\n",
    "Exercise:\n",
    "\n",
    "1) Use addressing to select the age column from the dataframe.\n",
    "\n",
    "2) Select the age and fare columns from the dataframe."
   ]
  },
  {
   "cell_type": "code",
   "execution_count": null,
   "metadata": {},
   "outputs": [],
   "source": []
  },
  {
   "cell_type": "code",
   "execution_count": null,
   "metadata": {},
   "outputs": [],
   "source": []
  },
  {
   "cell_type": "markdown",
   "metadata": {
    "slideshow": {
     "slide_type": "slide"
    }
   },
   "source": [
    "## How do I select rows from a dataframe?"
   ]
  },
  {
   "cell_type": "markdown",
   "metadata": {
    "slideshow": {
     "slide_type": "fragment"
    }
   },
   "source": [
    "If you wish to obtain a subset of rows, you should use `.loc` (\"locate\").\n",
    "\n",
    "\n",
    "We use `df.loc` to locate rows,\n",
    "\n",
    "`df.loc[  row-indexs,  column-names ]`\n",
    "\n",
    "Exercise:\n",
    "\n",
    "1) Select the first row from the age column.\n",
    "\n",
    "2) Select the first 5 rows from the age and fare columns.\n",
    "\n",
    "3) Select the 1st, 11th, and 8th rows from the survived column (in that order)."
   ]
  },
  {
   "cell_type": "code",
   "execution_count": null,
   "metadata": {},
   "outputs": [],
   "source": []
  },
  {
   "cell_type": "code",
   "execution_count": null,
   "metadata": {},
   "outputs": [],
   "source": []
  },
  {
   "cell_type": "code",
   "execution_count": null,
   "metadata": {},
   "outputs": [],
   "source": []
  },
  {
   "cell_type": "markdown",
   "metadata": {
    "slideshow": {
     "slide_type": "slide"
    }
   },
   "source": [
    "## How do I select rows on cleaned datasets?"
   ]
  },
  {
   "cell_type": "markdown",
   "metadata": {
    "slideshow": {
     "slide_type": "fragment"
    }
   },
   "source": [
    "Operations which modify the indexes of a datset (eg., by removing them), may produce suprising results when used with `.loc`:\n",
    "\n",
    "Exercise:\n",
    "\n",
    "1) Use the dataframe method .dropna() to remove the rows with NAs in. Save this as clean.\n",
    "\n",
    "2) Display the first 5 rows and all columns of the clean dataframe.\n",
    "\n",
    "3) Display the first 5 rows and all columns of the original dataframe and compare.\n",
    "\n",
    "4) What happens if you try to address row 2 in the clean data set?"
   ]
  },
  {
   "cell_type": "code",
   "execution_count": null,
   "metadata": {},
   "outputs": [],
   "source": []
  },
  {
   "cell_type": "markdown",
   "metadata": {
    "slideshow": {
     "slide_type": "fragment"
    }
   },
   "source": [
    "We have dropped rows indexed `0, 2, ...`, so they don't show up. "
   ]
  },
  {
   "cell_type": "markdown",
   "metadata": {
    "slideshow": {
     "slide_type": "slide"
    }
   },
   "source": [
    "## How does Pandas indexing differ from lists?"
   ]
  },
  {
   "cell_type": "markdown",
   "metadata": {
    "slideshow": {
     "slide_type": "fragment"
    }
   },
   "source": [
    "With `.loc`, you cannot use negative indexes. Indexes refer to a *column* (the index column) not to a sequence position.\n",
    "\n",
    "Reminder:"
   ]
  },
  {
   "cell_type": "code",
   "execution_count": 1,
   "metadata": {
    "slideshow": {
     "slide_type": "fragment"
    }
   },
   "outputs": [
    {
     "data": {
      "text/plain": [
       "[2, 3]"
      ]
     },
     "execution_count": 1,
     "metadata": {},
     "output_type": "execute_result"
    }
   ],
   "source": [
    "data = [1, 2, 3]\n",
    "data[-2:]"
   ]
  },
  {
   "cell_type": "code",
   "execution_count": 2,
   "metadata": {
    "slideshow": {
     "slide_type": "fragment"
    }
   },
   "outputs": [
    {
     "data": {
      "text/plain": [
       "[1, 2, 3]"
      ]
     },
     "execution_count": 2,
     "metadata": {},
     "output_type": "execute_result"
    }
   ],
   "source": [
    "data[0:3]"
   ]
  },
  {
   "cell_type": "markdown",
   "metadata": {
    "slideshow": {
     "slide_type": "slide"
    }
   },
   "source": [
    "## How do I use comparison operators to filter rows?\n",
    "\n",
    "If we want a subset of rows, we should use `df.loc`...\n",
    "\n",
    "Let's look at an example before explaining how it works... \n",
    "\n",
    "Exercise:\n",
    "\n",
    "Run the below section of code to create a boolean column called query (with True or False if they survived).\n",
    "\n",
    "The query column is used to select just the rows where the passenger survived, then the fare column only is selected, then the mean average of this column is found.\n",
    "\n",
    "After the comma you will see a very similar piece of code, except that ~query has been used (NOT query) meaning that the rows that have NOT True that they survived (ie they didn't survive), the fare column is selected and averaged."
   ]
  },
  {
   "cell_type": "code",
   "execution_count": 5,
   "metadata": {
    "slideshow": {
     "slide_type": "fragment"
    }
   },
   "outputs": [
    {
     "data": {
      "text/plain": [
       "(48.39540760233917, 22.117886885245877)"
      ]
     },
     "execution_count": 5,
     "metadata": {},
     "output_type": "execute_result"
    }
   ],
   "source": [
    "query = df['survived'] == 1\n",
    "\n",
    "df.loc[  query ,  'fare'  ].mean(),  df.loc[ ~query, 'fare'].mean()\n"
   ]
  },
  {
   "cell_type": "markdown",
   "metadata": {
    "slideshow": {
     "slide_type": "fragment"
    }
   },
   "source": [
    "The query is a *comparison* across every entry in the `survived` column which yield a `True` or a `False`:"
   ]
  },
  {
   "cell_type": "code",
   "execution_count": 10,
   "metadata": {
    "scrolled": true,
    "slideshow": {
     "slide_type": "fragment"
    }
   },
   "outputs": [
    {
     "data": {
      "text/plain": [
       "0      False\n",
       "1       True\n",
       "2       True\n",
       "3       True\n",
       "4      False\n",
       "       ...  \n",
       "886    False\n",
       "887     True\n",
       "888    False\n",
       "889     True\n",
       "890    False\n",
       "Name: survived, Length: 891, dtype: bool"
      ]
     },
     "execution_count": 10,
     "metadata": {},
     "output_type": "execute_result"
    }
   ],
   "source": [
    "query\n"
   ]
  },
  {
   "cell_type": "markdown",
   "metadata": {
    "slideshow": {
     "slide_type": "slide"
    }
   },
   "source": [
    "When used as a filter, a boolean column such as `query`, selects the indexes of the rows which are `True`. "
   ]
  },
  {
   "cell_type": "code",
   "execution_count": null,
   "metadata": {
    "slideshow": {
     "slide_type": "fragment"
    }
   },
   "outputs": [],
   "source": [
    "query_index = [1, 2, 3, 887, 889]"
   ]
  },
  {
   "cell_type": "markdown",
   "metadata": {
    "slideshow": {
     "slide_type": "fragment"
    }
   },
   "source": [
    "When we use that query as an index, the rows corresponding to the `True` values are selected:\n",
    "\n",
    "Exercise:\n",
    "\n",
    "1) Create a query (a column of True/False entries) where the fare is greater than or equal to 500.\n",
    "\n",
    "2) Use your query to select the rows where the fare is 500 or more and view the age column."
   ]
  },
  {
   "cell_type": "code",
   "execution_count": null,
   "metadata": {},
   "outputs": [],
   "source": []
  },
  {
   "cell_type": "markdown",
   "metadata": {
    "slideshow": {
     "slide_type": "fragment"
    }
   },
   "source": [
    "When using a comparison as index, pandas will run the comparison over every row and *keep the row indexes* where the comparison comes out `True`. "
   ]
  },
  {
   "cell_type": "markdown",
   "metadata": {
    "slideshow": {
     "slide_type": "slide"
    }
   },
   "source": [
    "## What are the standard comparison operators?"
   ]
  },
  {
   "cell_type": "markdown",
   "metadata": {
    "slideshow": {
     "slide_type": "fragment"
    }
   },
   "source": [
    "* `==` is equal to\n",
    "* `!=` is not equal to\n",
    "* `>` is greater than\n",
    "* `<`\n",
    "* `>=` is greater than or equal to\n",
    "* `<=` \n",
    "* `df.isin(set)` rows are in `set`\n",
    "* EXTRA:\n",
    "    * pandas has a wide variety of other comparison operators\n",
    "    * eg., `df['embark_town'].str.contains('*town')`\n",
    "        * \"which `embark_town` end in `town` ?\""
   ]
  },
  {
   "cell_type": "markdown",
   "metadata": {
    "slideshow": {
     "slide_type": "slide"
    }
   },
   "source": [
    "### Example"
   ]
  },
  {
   "cell_type": "markdown",
   "metadata": {
    "slideshow": {
     "slide_type": "fragment"
    }
   },
   "source": [
    "Locate the rows where the class is \"in\" `{First, Third}`, select the fare column, take the average.\n",
    "\n",
    "\n",
    "`SELECT mean(fare) FROM df WHERE class IN (\"First\", \"Third\")`\n",
    "\n",
    "Exercise:\n",
    "\n",
    "1) Create a query that selects the class column and uses .isin(\\['First', 'Third'\\]) to make a column with True if a passenger is in 1st or 3rd class.\n",
    "\n",
    "2) Use this query to find the mean fare paid by the passengers who were in 1st or 3rd class."
   ]
  },
  {
   "cell_type": "code",
   "execution_count": null,
   "metadata": {},
   "outputs": [],
   "source": []
  },
  {
   "cell_type": "markdown",
   "metadata": {
    "slideshow": {
     "slide_type": "slide"
    }
   },
   "source": [
    "Average `fare` for second and third class passengers:\n",
    "\n",
    "Exercise:\n",
    "\n",
    "Find the mean fare for passengers who were not in first class.\n",
    "\n",
    "Hint: Your query to narrow the rows down needs to have the class column not equal (!=) to 'First'."
   ]
  },
  {
   "cell_type": "code",
   "execution_count": null,
   "metadata": {},
   "outputs": [],
   "source": []
  },
  {
   "cell_type": "markdown",
   "metadata": {
    "slideshow": {
     "slide_type": "fragment"
    }
   },
   "source": [
    "EXTRA:\n",
    "\n",
    "Exercise:\n",
    "\n",
    "1) Create a query that uses the 'embark_town' column with .str.contains('tow?n').\n",
    "\n",
    "2) What does the regex pattern 'tow?n' match to apart from 'town' ?"
   ]
  },
  {
   "cell_type": "code",
   "execution_count": null,
   "metadata": {},
   "outputs": [],
   "source": []
  },
  {
   "cell_type": "markdown",
   "metadata": {
    "slideshow": {
     "slide_type": "slide"
    }
   },
   "source": [
    "## How do I combine comparisons?"
   ]
  },
  {
   "cell_type": "markdown",
   "metadata": {
    "slideshow": {
     "slide_type": "fragment"
    }
   },
   "source": [
    "In python, the logical operators are `and`, `or`, `not`... these do not work with pandas (, and many other data process libraries).\n",
    "\n",
    "These are not designed to work *across* a dataset; ie., down columns: to use this way, you'd need to loop."
   ]
  },
  {
   "cell_type": "code",
   "execution_count": 11,
   "metadata": {
    "slideshow": {
     "slide_type": "fragment"
    }
   },
   "outputs": [
    {
     "data": {
      "text/plain": [
       "True"
      ]
     },
     "execution_count": 11,
     "metadata": {},
     "output_type": "execute_result"
    }
   ],
   "source": [
    "(\"@\" not in \"mburgess@qa.com\") and (len(\"M\") == 1) or (\"London\".isalpha())\n"
   ]
  },
  {
   "cell_type": "markdown",
   "metadata": {
    "slideshow": {
     "slide_type": "fragment"
    }
   },
   "source": [
    "We must always bracket comparison before combining them (if there is only one, it is optional)..."
   ]
  },
  {
   "cell_type": "markdown",
   "metadata": {
    "slideshow": {
     "slide_type": "slide"
    }
   },
   "source": [
    "#### `&` $\\equiv$ AND "
   ]
  },
  {
   "cell_type": "code",
   "execution_count": 19,
   "metadata": {
    "slideshow": {
     "slide_type": "fragment"
    }
   },
   "outputs": [
    {
     "data": {
      "text/plain": [
       "0      False\n",
       "1       True\n",
       "2       True\n",
       "3       True\n",
       "4      False\n",
       "       ...  \n",
       "886    False\n",
       "887     True\n",
       "888    False\n",
       "889     True\n",
       "890    False\n",
       "Length: 891, dtype: bool"
      ]
     },
     "execution_count": 19,
     "metadata": {},
     "output_type": "execute_result"
    }
   ],
   "source": [
    "(df['age'] <= 50) & (df['survived'] == 1)\n"
   ]
  },
  {
   "cell_type": "code",
   "execution_count": 20,
   "metadata": {
    "slideshow": {
     "slide_type": "slide"
    }
   },
   "outputs": [
    {
     "data": {
      "text/plain": [
       "65.58441111111112"
      ]
     },
     "execution_count": 20,
     "metadata": {},
     "output_type": "execute_result"
    }
   ],
   "source": [
    "df.loc[ \n",
    "      (df['age'] >= 50) & (df['survived'] == 1) # row index filter\n",
    "    , 'fare'                                    # selecting columns\n",
    "].mean() # query\n"
   ]
  },
  {
   "cell_type": "markdown",
   "metadata": {
    "slideshow": {
     "slide_type": "slide"
    }
   },
   "source": [
    "### `|` $\\equiv$ OR"
   ]
  },
  {
   "cell_type": "code",
   "execution_count": 20,
   "metadata": {
    "slideshow": {
     "slide_type": "fragment"
    }
   },
   "outputs": [
    {
     "data": {
      "text/plain": [
       "0      False\n",
       "1       True\n",
       "2       True\n",
       "3       True\n",
       "4      False\n",
       "       ...  \n",
       "886    False\n",
       "887     True\n",
       "888    False\n",
       "889     True\n",
       "890    False\n",
       "Length: 891, dtype: bool"
      ]
     },
     "execution_count": 20,
     "metadata": {},
     "output_type": "execute_result"
    }
   ],
   "source": [
    "(df['age'] >= 50) | (df['survived'] == 1)\n"
   ]
  },
  {
   "cell_type": "code",
   "execution_count": 22,
   "metadata": {
    "slideshow": {
     "slide_type": "fragment"
    }
   },
   "outputs": [
    {
     "data": {
      "text/plain": [
       "0.5166666666666667"
      ]
     },
     "execution_count": 22,
     "metadata": {},
     "output_type": "execute_result"
    }
   ],
   "source": [
    "df.loc[ (df['age'] >= 50) | (df['fare'] >= 100), 'survived'].mean()\n"
   ]
  },
  {
   "cell_type": "markdown",
   "metadata": {
    "slideshow": {
     "slide_type": "slide"
    }
   },
   "source": [
    "### `~` $\\equiv$ NOT"
   ]
  },
  {
   "cell_type": "code",
   "execution_count": 23,
   "metadata": {
    "slideshow": {
     "slide_type": "fragment"
    }
   },
   "outputs": [
    {
     "data": {
      "text/plain": [
       "0      True\n",
       "1      True\n",
       "2      True\n",
       "3      True\n",
       "4      True\n",
       "       ... \n",
       "886    True\n",
       "887    True\n",
       "888    True\n",
       "889    True\n",
       "890    True\n",
       "Length: 891, dtype: bool"
      ]
     },
     "execution_count": 23,
     "metadata": {},
     "output_type": "execute_result"
    }
   ],
   "source": [
    "~((df['age'] >= 50) | (df['fare'] >= 100))\n"
   ]
  },
  {
   "cell_type": "code",
   "execution_count": 24,
   "metadata": {
    "slideshow": {
     "slide_type": "fragment"
    }
   },
   "outputs": [
    {
     "data": {
      "text/plain": [
       "0.3631647211413748"
      ]
     },
     "execution_count": 24,
     "metadata": {},
     "output_type": "execute_result"
    }
   ],
   "source": [
    "df.loc[ ~((df['age'] >= 50) | (df['fare'] >= 100)), 'survived'].mean()\n"
   ]
  },
  {
   "cell_type": "markdown",
   "metadata": {
    "slideshow": {
     "slide_type": "slide"
    }
   },
   "source": [
    "## How do I compute the frequency of matches?"
   ]
  },
  {
   "cell_type": "markdown",
   "metadata": {
    "slideshow": {
     "slide_type": "fragment"
    }
   },
   "source": [
    "A mean across a column of booleans (ie., a comparison) counts `True` as `1` and therefore counts the frequency of rows which match the comparison."
   ]
  },
  {
   "cell_type": "code",
   "execution_count": 25,
   "metadata": {
    "slideshow": {
     "slide_type": "fragment"
    }
   },
   "outputs": [
    {
     "data": {
      "text/plain": [
       "0.13468013468013468"
      ]
     },
     "execution_count": 25,
     "metadata": {},
     "output_type": "execute_result"
    }
   ],
   "source": [
    "((df['age'] >= 50) | (df['fare'] >= 100)).mean()\n"
   ]
  },
  {
   "cell_type": "code",
   "execution_count": 26,
   "metadata": {
    "slideshow": {
     "slide_type": "fragment"
    }
   },
   "outputs": [
    {
     "data": {
      "text/plain": [
       "0.75"
      ]
     },
     "execution_count": 26,
     "metadata": {},
     "output_type": "execute_result"
    }
   ],
   "source": [
    "results = [True, True, False, True]\n",
    "\n",
    "sum(results)/len(results)"
   ]
  },
  {
   "cell_type": "markdown",
   "metadata": {
    "slideshow": {
     "slide_type": "slide"
    }
   },
   "source": [
    "## Aside: In sumary..\n",
    "\n",
    "\n",
    "* `&` and\n",
    "* `|` or\n",
    "* `~` not"
   ]
  },
  {
   "cell_type": "markdown",
   "metadata": {
    "slideshow": {
     "slide_type": "slide"
    }
   },
   "source": [
    "## Exercise (30 min)\n",
    "\n",
    "* create your own notebook, and with the `titanic` dataset "
   ]
  },
  {
   "cell_type": "markdown",
   "metadata": {
    "slideshow": {
     "slide_type": "slide"
    }
   },
   "source": [
    "* building on any prior solutions...\n",
    "    * compute *and* interpret\n",
    "        * .info()\n",
    "        * provide comments which describe the data quality based on `.info()`\n",
    "* descriptive stats for all pairs of columns\n",
    "    * .corr()\n",
    "    * interpret & provide comments around which columns show association\n",
    "    * what columns \"make sense\" correlated? can you explain why?"
   ]
  },
  {
   "cell_type": "markdown",
   "metadata": {
    "slideshow": {
     "slide_type": "slide"
    }
   },
   "source": [
    "* select the first five rows (not using `head`) for:\n",
    "    * all columns\n",
    "    * age column\n",
    "    * age and fare columns\n",
    "    * select rows `[0, 3, 5]`\n",
    "    * select the last five rows:\n",
    "        * HINTS: the last row has an index of `len(df)`\n",
    "            * `len(df) - 5 : len(df)`\n",
    "        * HINTS: `:` means \"all\"\n",
    "            * from the beginning to the end\n",
    "* find the rates of survival for different age groups\n",
    "    * `.loc[ ... , 'age']`\n",
    "    * `df['age'] <= 18`\n",
    "    * ` (df['age'] < ...) & (df['age'] > ...)`"
   ]
  },
  {
   "cell_type": "markdown",
   "metadata": {},
   "source": [
    "## Extension\n",
    "\n",
    "Start to create your own Pandas cheat sheet using the full official documentation:\n",
    "\n",
    "* Using the Pandas user guide: https://pandas.pydata.org/docs/user_guide/10min.html\n",
    "* You may like to explore more functions available for descriptive statistics: https://pandas.pydata.org/docs/user_guide/basics.html#descriptive-statistics\n"
   ]
  }
 ],
 "metadata": {
  "celltoolbar": "Slideshow",
  "kernelspec": {
   "display_name": "Python 3 (ipykernel)",
   "language": "python",
   "name": "python3"
  },
  "language_info": {
   "codemirror_mode": {
    "name": "ipython",
    "version": 3
   },
   "file_extension": ".py",
   "mimetype": "text/x-python",
   "name": "python",
   "nbconvert_exporter": "python",
   "pygments_lexer": "ipython3",
   "version": "3.9.12"
  }
 },
 "nbformat": 4,
 "nbformat_minor": 4
}
