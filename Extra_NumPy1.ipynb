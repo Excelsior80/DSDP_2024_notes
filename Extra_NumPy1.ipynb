{
 "cells": [
  {
   "cell_type": "code",
   "execution_count": 13,
   "metadata": {},
   "outputs": [],
   "source": [
    "import numpy as np"
   ]
  },
  {
   "cell_type": "markdown",
   "metadata": {},
   "source": [
    "# NumPy with Simulation \n",
    "\n",
    "In this notebook we will look at numpy, however to illustrate its use we will consider the task of simulating a dataset. This is one of the major uses of numpy, but also, provides a context for understanding its features. \n",
    "\n",
    "We will start by considering quite complex examples, taking as a given how numpy works, and then reflect on these to explain more about the numpy library and how it helps. "
   ]
  },
  {
   "cell_type": "markdown",
   "metadata": {},
   "source": [
    "## Background on NumPy\n",
    "NumPy is the foundation of nearly all analytical programming in python. It provides the basic data structure for fast data processing: the `array`.\n",
    "\n",
    "\n",
    "### NumPy `array`s\n",
    "An array is a homogenous sequential data collection. In sequence in memory, each block has the same data type, and the memory can be acceessed as a collection. \n",
    "\n",
    "The numpy library is very big and has lots of mathematical operations; in general, it may not be clear what these are for. By choosing some context for using numpy, eg., simulation of data, we can explore a meanignful part of the library and show some applications. \n",
    "\n",
    "## Simulating Data\n",
    "\n",
    "Goal of simulating a dataset is to produce a set of points, ie., $(x_1, x_2, y)$ which are distributed according to some target distribution which models (, represents) a phenomenon of interest. \n",
    "\n",
    "That is, when I look at the values of $x_1$ I should see a sequence which \"looks-like\" a real world sequence of measurements. This simulate sequence may, eg., have the same mean as the real-world one; and vary in the same way.\n",
    "\n",
    "We simulate datasets for lots of reasons:\n",
    "\n",
    "* You have a limited dataset (make more data)\n",
    "* You want to explore an existing dataset (simulate possibilities)\n",
    "* You want to make statistical inferences (simulate to understand)\n",
    "\n",
    "Will the simulation be informative?  (Yes | No)\n",
    "\n",
    "* \"No Surpises\" simulation / debugging\n",
    "    * the simulation is not informative\n",
    "    * data is used as input into a previously unexplored process\n",
    "    * the process is verified to produce results from known assumptions\n",
    "* \"No Suprises\" wrt mathematics, but informative / bootstrapping\n",
    "    * the simulation is not informative\n",
    "    * ie., you could find out the result via analytical mathematics\n",
    "    * but you simulate to make your life easier\n",
    "    * e.g, in a hypothesis test, you simulate an alternative\n",
    "* \"Limited Suprises\" EDA via Generation of Data (ie., simulation)\n",
    "    * use a simulation to build a dataset which looks real-world\n",
    "    * evolve the simulation to get close\n",
    "    * review the simulation to understand precise empirical values\n",
    "* Suprises\n",
    "    * eg., bayseian modelling, statistical modelling\n",
    "    * simulations are sufficienly complex that results are non-obvious\n",
    "    * explaining complex phenomena\n",
    "    * providing predictive results\n",
    "       \n",
    "Aside:\n",
    "\n",
    "If you have a pre-existing scientific-explanatory model of an enviornment, a simulation is often likely to yield higher-qualtity data than you can collect. And therefore naive techniques on real-world data can produce inferiror solution to problems."
   ]
  },
  {
   "cell_type": "markdown",
   "metadata": {},
   "source": [
    "# Simulating & Debugging"
   ]
  },
  {
   "cell_type": "markdown",
   "metadata": {},
   "source": [
    "Suppose you're working on a predictive project which uses a linear regression to predict a $\\hat{y}$, say a profit, and you are given a *risk* score.\n",
    "\n",
    "NB. A *risk* describes how well any particular (regression) model will perform. Eg., we could imagine it estimates the likely amount profit we will lose if we mispredict."
   ]
  },
  {
   "cell_type": "markdown",
   "metadata": {},
   "source": [
    "Suppose we are a cinema looking to offer discounts to our older customers, we really need to get an accurate picture of what they are going to spend...\n",
    "\n",
    "* $x$ : Age\n",
    "* $y$ : Profit\n",
    "* $(w, b)$ : Slope, Intercept\n",
    "* $\\hat{y} = wx + b$ : Prediction\n",
    "\n",
    "The question for our score is: *does our linear model give us good answers for older people*."
   ]
  },
  {
   "cell_type": "code",
   "execution_count": 43,
   "metadata": {},
   "outputs": [],
   "source": [
    "def risk(x, w, b, y):\n",
    "    yhat = w*x + b\n",
    "    \n",
    "    # if age is over 50\n",
    "    if x > 50:\n",
    "        # compute a certain risk on profit\n",
    "        return (y - yhat) ** 4\n",
    "    else:\n",
    "        # otherwas compute a lower risk on profit\n",
    "        return (y - yhat) ** 2\n"
   ]
  },
  {
   "cell_type": "code",
   "execution_count": 44,
   "metadata": {},
   "outputs": [
    {
     "data": {
      "text/plain": [
       "10.2"
      ]
     },
     "execution_count": 44,
     "metadata": {},
     "output_type": "execute_result"
    }
   ],
   "source": [
    "w, b = 0.2, 4\n",
    "\n",
    "x_my_age = 31\n",
    "y_my_profit = 10\n",
    "yhat_profit = w*x_my_age + b\n",
    "\n",
    "yhat_profit"
   ]
  },
  {
   "cell_type": "markdown",
   "metadata": {},
   "source": [
    "Naive view:"
   ]
  },
  {
   "cell_type": "code",
   "execution_count": 45,
   "metadata": {},
   "outputs": [
    {
     "data": {
      "text/plain": [
       "0.039999999999999716"
      ]
     },
     "execution_count": 45,
     "metadata": {},
     "output_type": "execute_result"
    }
   ],
   "source": [
    "(yhat_profit - y_my_profit) ** 2"
   ]
  },
  {
   "cell_type": "code",
   "execution_count": 46,
   "metadata": {},
   "outputs": [
    {
     "data": {
      "text/plain": [
       "0.039999999999999716"
      ]
     },
     "execution_count": 46,
     "metadata": {},
     "output_type": "execute_result"
    }
   ],
   "source": [
    "risk(x_my_age, w, b, y_my_profit)"
   ]
  },
  {
   "cell_type": "markdown",
   "metadata": {},
   "source": [
    "Much worse if we're 60..."
   ]
  },
  {
   "cell_type": "code",
   "execution_count": 47,
   "metadata": {},
   "outputs": [
    {
     "data": {
      "text/plain": [
       "1296.0"
      ]
     },
     "execution_count": 47,
     "metadata": {},
     "output_type": "execute_result"
    }
   ],
   "source": [
    "risk(60, w, b, y_my_profit)"
   ]
  },
  {
   "cell_type": "markdown",
   "metadata": {},
   "source": [
    "### Simulating to Understand More"
   ]
  },
  {
   "cell_type": "code",
   "execution_count": 16,
   "metadata": {},
   "outputs": [],
   "source": [
    "from statistics import mean"
   ]
  },
  {
   "cell_type": "markdown",
   "metadata": {},
   "source": [
    "Start with known assumptions and figure it out...\n",
    "\n",
    "Here we simulate $(x, y)$ dataset by simulating `100` points from `0 to 1` and assuming they will yield $2x + 1$ profit.."
   ]
  },
  {
   "cell_type": "code",
   "execution_count": 48,
   "metadata": {},
   "outputs": [],
   "source": [
    "xs = np.linspace(0, 100, 100) # ages from 0 to 100\n",
    "ys = 2*xs + 1 # compute 100 predictions"
   ]
  },
  {
   "cell_type": "markdown",
   "metadata": {},
   "source": [
    "Apply score... to check what it does.."
   ]
  },
  {
   "cell_type": "code",
   "execution_count": 49,
   "metadata": {},
   "outputs": [
    {
     "data": {
      "text/plain": [
       "0.0"
      ]
     },
     "execution_count": 49,
     "metadata": {},
     "output_type": "execute_result"
    }
   ],
   "source": [
    "mean([ risk(x, 2, 1, y) for x, y in zip(xs, ys) ])"
   ]
  },
  {
   "cell_type": "markdown",
   "metadata": {},
   "source": [
    "So we have verified that the score makes sense if we use *correct* $w, b$.. what happens if we are slightly out on the, eg., $b$."
   ]
  },
  {
   "cell_type": "code",
   "execution_count": 57,
   "metadata": {},
   "outputs": [],
   "source": [
    "scores = []\n",
    "for b in np.arange(-100, 100, 0.1):\n",
    "    scores.append( mean([ risk(x, 2, b, y) for x, y in zip(xs, ys) ]) )"
   ]
  },
  {
   "cell_type": "code",
   "execution_count": 58,
   "metadata": {},
   "outputs": [
    {
     "data": {
      "image/png": "[encoded data removed]",
      "text/plain": [
       "<Figure size 432x288 with 1 Axes>"
      ]
     },
     "metadata": {
      "needs_background": "light"
     },
     "output_type": "display_data"
    }
   ],
   "source": [
    "import seaborn as sns\n",
    "\n",
    "sns.lineplot(np.arange(-100, 100, 0.1), scores);"
   ]
  },
  {
   "cell_type": "markdown",
   "metadata": {},
   "source": [
    "Intrepretation: We observe a high risk when $|b| > 50$ "
   ]
  },
  {
   "cell_type": "markdown",
   "metadata": {},
   "source": [
    "# NumPy: Using Arrays\n",
    "\n",
    "How can we use numpy to acheive this sort of data analysis...\n",
    "\n",
    "NumPy == array"
   ]
  },
  {
   "cell_type": "markdown",
   "metadata": {},
   "source": [
    "### Constructing Arrays"
   ]
  },
  {
   "cell_type": "code",
   "execution_count": 25,
   "metadata": {},
   "outputs": [
    {
     "data": {
      "text/plain": [
       "<function numpy.array>"
      ]
     },
     "execution_count": 25,
     "metadata": {},
     "output_type": "execute_result"
    }
   ],
   "source": [
    "np.array"
   ]
  },
  {
   "cell_type": "markdown",
   "metadata": {},
   "source": [
    "We can convert from python lists to numpy arrays, and thereby obtain a fast and more space efficient data strucutre..."
   ]
  },
  {
   "cell_type": "code",
   "execution_count": 26,
   "metadata": {},
   "outputs": [],
   "source": [
    "x_age = np.array([18, 21, 33, 49]) "
   ]
  },
  {
   "cell_type": "markdown",
   "metadata": {},
   "source": [
    "data type:"
   ]
  },
  {
   "cell_type": "code",
   "execution_count": 27,
   "metadata": {},
   "outputs": [
    {
     "data": {
      "text/plain": [
       "dtype('int32')"
      ]
     },
     "execution_count": 27,
     "metadata": {},
     "output_type": "execute_result"
    }
   ],
   "source": [
    "x_age.dtype"
   ]
  },
  {
   "cell_type": "markdown",
   "metadata": {},
   "source": [
    "size in bytes"
   ]
  },
  {
   "cell_type": "code",
   "execution_count": 28,
   "metadata": {},
   "outputs": [
    {
     "data": {
      "text/plain": [
       "4"
      ]
     },
     "execution_count": 28,
     "metadata": {},
     "output_type": "execute_result"
    }
   ],
   "source": [
    "x_age.size"
   ]
  },
  {
   "cell_type": "code",
   "execution_count": 29,
   "metadata": {},
   "outputs": [
    {
     "data": {
      "text/plain": [
       "(4,)"
      ]
     },
     "execution_count": 29,
     "metadata": {},
     "output_type": "execute_result"
    }
   ],
   "source": [
    "x_age.shape # 4 elements in sequence (unstructured sequence)"
   ]
  },
  {
   "cell_type": "code",
   "execution_count": 30,
   "metadata": {},
   "outputs": [
    {
     "data": {
      "text/plain": [
       "7.0"
      ]
     },
     "execution_count": 30,
     "metadata": {},
     "output_type": "execute_result"
    }
   ],
   "source": [
    "import sys\n",
    "sys.getsizeof(2)/x_age.size"
   ]
  },
  {
   "cell_type": "markdown",
   "metadata": {},
   "source": [
    "### Making an Array\n",
    "\n",
    "We can also ask numpy to generate arrays."
   ]
  },
  {
   "cell_type": "markdown",
   "metadata": {},
   "source": [
    "An array-range from $23$ to $30$ in steps of $0.5$..."
   ]
  },
  {
   "cell_type": "code",
   "execution_count": 31,
   "metadata": {},
   "outputs": [],
   "source": [
    "x_temp = np.arange(23, 30, 0.5)"
   ]
  },
  {
   "cell_type": "markdown",
   "metadata": {},
   "source": [
    "Preivew: list slicing works with numpy arrays"
   ]
  },
  {
   "cell_type": "code",
   "execution_count": 32,
   "metadata": {},
   "outputs": [
    {
     "data": {
      "text/plain": [
       "array([27.5, 28. , 28.5, 29. , 29.5])"
      ]
     },
     "execution_count": 32,
     "metadata": {},
     "output_type": "execute_result"
    }
   ],
   "source": [
    "x_temp[-5:]"
   ]
  },
  {
   "cell_type": "markdown",
   "metadata": {},
   "source": [
    "We can ask for repetitions, zeros, ones (`eye`)..."
   ]
  },
  {
   "cell_type": "code",
   "execution_count": 33,
   "metadata": {},
   "outputs": [
    {
     "data": {
      "text/plain": [
       "(array([0., 0., 0., 0., 0.]), array([2, 2, 2, 2, 2, 2, 2, 2, 2, 2]))"
      ]
     },
     "execution_count": 33,
     "metadata": {},
     "output_type": "execute_result"
    }
   ],
   "source": [
    "np.zeros(5), np.repeat(2, 10)"
   ]
  },
  {
   "cell_type": "markdown",
   "metadata": {},
   "source": [
    "### Aside: simulating a chance event with `repeat`"
   ]
  },
  {
   "cell_type": "markdown",
   "metadata": {},
   "source": [
    "You can repeat sequences, here for example, eg., you get binary $y$ with a $p_{+} = \\frac{1}{3}$..."
   ]
  },
  {
   "cell_type": "code",
   "execution_count": 19,
   "metadata": {},
   "outputs": [
    {
     "data": {
      "text/plain": [
       "array([0, 0, 0, 0, 0, 0, 0, 0, 0, 0, 1, 1, 1, 1, 1])"
      ]
     },
     "execution_count": 19,
     "metadata": {},
     "output_type": "execute_result"
    }
   ],
   "source": [
    "y_success_fail = np.repeat([0, 0, 1], 5)\n",
    "y_success_fail"
   ]
  },
  {
   "cell_type": "code",
   "execution_count": 20,
   "metadata": {},
   "outputs": [
    {
     "data": {
      "text/plain": [
       "0.3333333333333333"
      ]
     },
     "execution_count": 20,
     "metadata": {},
     "output_type": "execute_result"
    }
   ],
   "source": [
    "y_success_fail.mean()"
   ]
  },
  {
   "cell_type": "markdown",
   "metadata": {},
   "source": [
    "eg., Fraud|NotFraud, Like|NotLike..."
   ]
  },
  {
   "cell_type": "markdown",
   "metadata": {},
   "source": [
    "## Simulation of Random Data\n",
    "\n",
    "Consider a real-world sequence of height measurements -- in any given population -- $1.7, 1.8, 1.5, 1.4, \\dots$\n",
    "\n",
    "To simulate this we want such an equivalent *realistic* sequence. Eg., suppose I wish for any significant subset of this sequence to have about the same mean, and in addition, for these means to be within a consistent range. \n",
    "\n",
    "I therefore believe that height is *normally distributed*. To simulate a dataset for height I wish to produce points $(h_0, \\dots, h_N)$ which are  $ h \\sim \\mathcal{N}(\\mu,\\,\\sigma^{2})$ ie., such that `mean(h)` is $\\mu$, `std(h)` is $\\sigma$ etc. \n",
    "\n",
    "I choose some simulation / distribution parameters *and generate* a dataset which is appromxiately described by those parameters (here: `N`, `h_mu`, `h_sigma`). "
   ]
  },
  {
   "cell_type": "code",
   "execution_count": 21,
   "metadata": {},
   "outputs": [
    {
     "data": {
      "text/plain": [
       "array([161.84996198, 153.6208339 , 175.59351102, 173.12069396,\n",
       "       182.75354446])"
      ]
     },
     "execution_count": 21,
     "metadata": {},
     "output_type": "execute_result"
    }
   ],
   "source": [
    "h_mu = 170 # mean, height in cm\n",
    "h_sigma = 15  # variability, in cm\n",
    "\n",
    "N = 10 # number of points / resolution, or one kind of quality of the simulation\n",
    "\n",
    "x_height = np.random.normal(h_mu, h_sigma, N)\n",
    "x_height[:5]"
   ]
  },
  {
   "cell_type": "code",
   "execution_count": 22,
   "metadata": {},
   "outputs": [
    {
     "data": {
      "text/plain": [
       "(165.17636495298814, 9.026763467547978)"
      ]
     },
     "execution_count": 22,
     "metadata": {},
     "output_type": "execute_result"
    }
   ],
   "source": [
    "x_height.mean(), x_height.std()"
   ]
  },
  {
   "cell_type": "markdown",
   "metadata": {},
   "source": [
    "Numbers occuring with the same change from $0$ to $1$..."
   ]
  },
  {
   "cell_type": "code",
   "execution_count": 28,
   "metadata": {},
   "outputs": [
    {
     "data": {
      "text/plain": [
       "array([0.5812585 , 0.85401195, 0.83633292, 0.72973793, 0.2595456 ,\n",
       "       0.07589158, 0.02183993, 0.36244907, 0.77001015, 0.7013123 ])"
      ]
     },
     "execution_count": 28,
     "metadata": {},
     "output_type": "execute_result"
    }
   ],
   "source": [
    "np.random.uniform(0, 1, 10)"
   ]
  },
  {
   "cell_type": "markdown",
   "metadata": {},
   "source": [
    "## Exercise (15min)\n",
    "Consider `Examples 1` and `Examples 2` and produce two simulations.\n",
    "* Code one simulation by-hand with fixed entires.\n",
    "* Code another using random numbers.\n",
    "\n",
    "### Steps\n",
    "* Chose a problem domain (eg., retail, health, etc.).\n",
    "* Chose a case where you can measure two things and predict one.\n",
    "* Simluate the predicted thing *from* the two known things. \n",
    "    * first hand-code values\n",
    "    * use `np.random.normal`\n",
    "\n",
    "* eg., health\n",
    "* $y$ : sleep_hours, $x_1$ : amount_of_caffine (ml of coffee), $x_2$ : room_temp_of_bedroom (deg C)\n",
    "\n",
    "HINT: copy, paste, modify"
   ]
  },
  {
   "cell_type": "markdown",
   "metadata": {},
   "source": [
    "### Examples 1"
   ]
  },
  {
   "cell_type": "code",
   "execution_count": 41,
   "metadata": {},
   "outputs": [
    {
     "data": {
      "image/png": "[encoded data removed]",
      "text/plain": [
       "<Figure size 432x288 with 1 Axes>"
      ]
     },
     "metadata": {
      "needs_background": "light"
     },
     "output_type": "display_data"
    }
   ],
   "source": [
    "x_ages = np.array([1, 2, 3, 4, 5, 6, 7, 8])\n",
    "x_visits = np.array([2, 1, 2, 1, 2, 2, 2, 2])\n",
    "profit = 0.1*x_ages + 0.5*x_visits + 2\n",
    "\n",
    "sns.regplot(x_ages, profit);"
   ]
  },
  {
   "cell_type": "markdown",
   "metadata": {},
   "source": [
    "### Examples 2"
   ]
  },
  {
   "cell_type": "code",
   "execution_count": 37,
   "metadata": {},
   "outputs": [
    {
     "data": {
      "image/png": "[encoded data removed]",
      "text/plain": [
       "<Figure size 432x288 with 1 Axes>"
      ]
     },
     "metadata": {
      "needs_background": "light"
     },
     "output_type": "display_data"
    }
   ],
   "source": [
    "import seaborn as sns\n",
    "\n",
    "ages = np.random.normal(30, 5, 200)\n",
    "visits = np.random.normal(2, 1, 200) # visits to cinema / mo\n",
    "profit = 0.1 * ages + 0.5 * visits + 2\n",
    "\n",
    "sns.regplot(ages, profit);"
   ]
  },
  {
   "cell_type": "markdown",
   "metadata": {},
   "source": [
    "## Eg., Solution"
   ]
  },
  {
   "cell_type": "code",
   "execution_count": 63,
   "metadata": {},
   "outputs": [
    {
     "data": {
      "image/png": "[encoded data removed]",
      "text/plain": [
       "<Figure size 432x288 with 1 Axes>"
      ]
     },
     "metadata": {
      "needs_background": "light"
     },
     "output_type": "display_data"
    }
   ],
   "source": [
    "import seaborn as sns\n",
    "\n",
    "coffee = np.random.normal(600, 200, 200)\n",
    "temp = np.random.normal(20, 3, 200) \n",
    "hours = 0.5 * (coffee/100) + 0.1 * (temp/2) + 2\n",
    "\n",
    "#eg., with error\n",
    "\n",
    "errors = np.random.normal(0, 0.5, 200)\n",
    "hours += errors\n",
    "\n",
    "sns.regplot(coffee, hours);"
   ]
  },
  {
   "cell_type": "markdown",
   "metadata": {},
   "source": [
    "# NumPy: The Details"
   ]
  },
  {
   "cell_type": "markdown",
   "metadata": {},
   "source": [
    "## Broadcasting (Vectorization)\n",
    "Notice that when we have applied an operation to an array, we have applied to every element.."
   ]
  },
  {
   "cell_type": "markdown",
   "metadata": {},
   "source": [
    "Numerical operations are \"broadcast\" (or, more technically, vectorized); that is, they run *across* the array, element-wise. \n",
    "\n",
    "\n",
    "Vector: a one-column array structure. "
   ]
  },
  {
   "cell_type": "markdown",
   "metadata": {},
   "source": [
    "$2\\vec{v}$"
   ]
  },
  {
   "cell_type": "code",
   "execution_count": 74,
   "metadata": {},
   "outputs": [
    {
     "data": {
      "text/plain": [
       "array([2, 4])"
      ]
     },
     "execution_count": 74,
     "metadata": {},
     "output_type": "execute_result"
    }
   ],
   "source": [
    "2 * np.array([1, 2])"
   ]
  },
  {
   "cell_type": "markdown",
   "metadata": {},
   "source": [
    "Arrays are operated on *element-wise*..."
   ]
  },
  {
   "cell_type": "code",
   "execution_count": 75,
   "metadata": {},
   "outputs": [
    {
     "data": {
      "text/plain": [
       "array([1, 5, 5])"
      ]
     },
     "execution_count": 75,
     "metadata": {},
     "output_type": "execute_result"
    }
   ],
   "source": [
    "np.array([2, 4, 6]) + np.array([-1, 1, -1])"
   ]
  },
  {
   "cell_type": "code",
   "execution_count": 76,
   "metadata": {},
   "outputs": [
    {
     "data": {
      "text/plain": [
       "array([-2,  4, -6])"
      ]
     },
     "execution_count": 76,
     "metadata": {},
     "output_type": "execute_result"
    }
   ],
   "source": [
    "np.array([2, 4, 6]) * np.array([-1, 1, -1])"
   ]
  },
  {
   "cell_type": "code",
   "execution_count": 77,
   "metadata": {},
   "outputs": [
    {
     "data": {
      "text/plain": [
       "array([3, 3, 7])"
      ]
     },
     "execution_count": 77,
     "metadata": {},
     "output_type": "execute_result"
    }
   ],
   "source": [
    "np.array([2, 4, 6]) - np.array([-1, 1, -1])"
   ]
  },
  {
   "cell_type": "code",
   "execution_count": 78,
   "metadata": {},
   "outputs": [
    {
     "data": {
      "text/plain": [
       "array([-2.,  4., -6.])"
      ]
     },
     "execution_count": 78,
     "metadata": {},
     "output_type": "execute_result"
    }
   ],
   "source": [
    "np.array([2, 4, 6]) / np.array([-1, 1, -1])"
   ]
  },
  {
   "cell_type": "markdown",
   "metadata": {},
   "source": [
    "### Aside:"
   ]
  },
  {
   "cell_type": "code",
   "execution_count": 79,
   "metadata": {},
   "outputs": [
    {
     "data": {
      "text/plain": [
       "-4"
      ]
     },
     "execution_count": 79,
     "metadata": {},
     "output_type": "execute_result"
    }
   ],
   "source": [
    "np.array([2, 4, 6]) @ np.array([-1, 1, -1])"
   ]
  },
  {
   "cell_type": "markdown",
   "metadata": {},
   "source": [
    "Element-wise multiplication, *then*, addition."
   ]
  },
  {
   "cell_type": "code",
   "execution_count": 80,
   "metadata": {},
   "outputs": [
    {
     "data": {
      "text/plain": [
       "-4"
      ]
     },
     "execution_count": 80,
     "metadata": {},
     "output_type": "execute_result"
    }
   ],
   "source": [
    "(2 * -1) + (4 * 1) + (6 * -1)"
   ]
  },
  {
   "cell_type": "markdown",
   "metadata": {},
   "source": [
    "```python\n",
    "prediction = w1 * x1 + w2 * x2 + b\n",
    "\n",
    "prediction = np.array([w1, w2, b]) @ np.array([x1, x2])\n",
    "\n",
    "prediction = W @ X\n",
    "```"
   ]
  },
  {
   "cell_type": "markdown",
   "metadata": {},
   "source": [
    "Interpretation: Weighted sum (ie., a total weighted by importance of each element)"
   ]
  },
  {
   "cell_type": "code",
   "execution_count": 81,
   "metadata": {},
   "outputs": [
    {
     "data": {
      "text/plain": [
       "4.0"
      ]
     },
     "execution_count": 81,
     "metadata": {},
     "output_type": "execute_result"
    }
   ],
   "source": [
    "np.array([0.1, 0.8, 0.1]) @ np.array([2, 4, 6])"
   ]
  },
  {
   "cell_type": "code",
   "execution_count": 82,
   "metadata": {},
   "outputs": [
    {
     "data": {
      "text/plain": [
       "4.0"
      ]
     },
     "execution_count": 82,
     "metadata": {},
     "output_type": "execute_result"
    }
   ],
   "source": [
    "0.1*2 + 0.8*4 + 0.1*6"
   ]
  },
  {
   "cell_type": "markdown",
   "metadata": {},
   "source": [
    "$f(x; w) = w_0 + w_1x$  `= w @ [1, x]`"
   ]
  },
  {
   "cell_type": "markdown",
   "metadata": {},
   "source": [
    "##NumPy Indexing"
   ]
  },
  {
   "cell_type": "markdown",
   "metadata": {},
   "source": [
    "In numpy we can use slicing notation to pull out subsets of data. *However* *arrays* can have some structure that requires us to slice in particular ways.\n",
    "\n",
    "### Array Structure\n",
    "* unstructured : sequences of numbers\n",
    "* vectors: sequence of numbers *in one column*\n",
    "* matrices : sequence of numbers *in rows, and columns*\n",
    "* ...\n"
   ]
  },
  {
   "cell_type": "markdown",
   "metadata": {},
   "source": [
    "Unstructured"
   ]
  },
  {
   "cell_type": "code",
   "execution_count": 66,
   "metadata": {},
   "outputs": [
    {
     "data": {
      "text/plain": [
       "array([1, 2, 3])"
      ]
     },
     "execution_count": 66,
     "metadata": {},
     "output_type": "execute_result"
    }
   ],
   "source": [
    "x = np.array([1, 2, 3])\n",
    "x"
   ]
  },
  {
   "cell_type": "markdown",
   "metadata": {},
   "source": [
    "A sequence of 3"
   ]
  },
  {
   "cell_type": "code",
   "execution_count": 67,
   "metadata": {},
   "outputs": [
    {
     "data": {
      "text/plain": [
       "(3,)"
      ]
     },
     "execution_count": 67,
     "metadata": {},
     "output_type": "execute_result"
    }
   ],
   "source": [
    "x.shape # shape, aka structure"
   ]
  },
  {
   "cell_type": "code",
   "execution_count": 68,
   "metadata": {},
   "outputs": [
    {
     "data": {
      "text/plain": [
       "array([[1],\n",
       "       [2],\n",
       "       [3]])"
      ]
     },
     "execution_count": 68,
     "metadata": {},
     "output_type": "execute_result"
    }
   ],
   "source": [
    "v = np.array([\n",
    "    [1],\n",
    "    [2],\n",
    "    [3]\n",
    "]) # vector, 1d columnar array\n",
    "\n",
    "v"
   ]
  },
  {
   "cell_type": "markdown",
   "metadata": {},
   "source": [
    "A sequence of 3 rows, 1 col"
   ]
  },
  {
   "cell_type": "code",
   "execution_count": 69,
   "metadata": {},
   "outputs": [
    {
     "data": {
      "text/plain": [
       "(3, 1)"
      ]
     },
     "execution_count": 69,
     "metadata": {},
     "output_type": "execute_result"
    }
   ],
   "source": [
    "v.shape"
   ]
  },
  {
   "cell_type": "code",
   "execution_count": 79,
   "metadata": {},
   "outputs": [],
   "source": [
    "M = np.array([\n",
    "    [1, 2],\n",
    "    [2, 4],\n",
    "    [0, 1]\n",
    "])"
   ]
  },
  {
   "cell_type": "code",
   "execution_count": 80,
   "metadata": {},
   "outputs": [
    {
     "data": {
      "text/plain": [
       "array([[1, 2],\n",
       "       [2, 4],\n",
       "       [0, 1]])"
      ]
     },
     "execution_count": 80,
     "metadata": {},
     "output_type": "execute_result"
    }
   ],
   "source": [
    "M # matrix, 2d array "
   ]
  },
  {
   "cell_type": "markdown",
   "metadata": {},
   "source": [
    "The shape here is 3 rows, 2 cols...."
   ]
  },
  {
   "cell_type": "code",
   "execution_count": 81,
   "metadata": {},
   "outputs": [
    {
     "data": {
      "text/plain": [
       "(3, 2)"
      ]
     },
     "execution_count": 81,
     "metadata": {},
     "output_type": "execute_result"
    }
   ],
   "source": [
    "M.shape"
   ]
  },
  {
   "cell_type": "markdown",
   "metadata": {},
   "source": [
    "Aside:\n",
    "\n",
    "The type gives a clue to how far this can go... n-dimensional"
   ]
  },
  {
   "cell_type": "code",
   "execution_count": 82,
   "metadata": {},
   "outputs": [
    {
     "data": {
      "text/plain": [
       "numpy.ndarray"
      ]
     },
     "execution_count": 82,
     "metadata": {},
     "output_type": "execute_result"
    }
   ],
   "source": [
    "type(M)"
   ]
  },
  {
   "cell_type": "code",
   "execution_count": 84,
   "metadata": {},
   "outputs": [
    {
     "data": {
      "text/plain": [
       "(4, 3, 2)"
      ]
     },
     "execution_count": 84,
     "metadata": {},
     "output_type": "execute_result"
    }
   ],
   "source": [
    "tensor = np.array([M, M, M, M])\n",
    "tensor.shape"
   ]
  },
  {
   "cell_type": "code",
   "execution_count": 85,
   "metadata": {},
   "outputs": [
    {
     "data": {
      "text/plain": [
       "array([[[1, 2],\n",
       "        [2, 4],\n",
       "        [0, 1]],\n",
       "\n",
       "       [[1, 2],\n",
       "        [2, 4],\n",
       "        [0, 1]],\n",
       "\n",
       "       [[1, 2],\n",
       "        [2, 4],\n",
       "        [0, 1]],\n",
       "\n",
       "       [[1, 2],\n",
       "        [2, 4],\n",
       "        [0, 1]]])"
      ]
     },
     "execution_count": 85,
     "metadata": {},
     "output_type": "execute_result"
    }
   ],
   "source": [
    "tensor"
   ]
  },
  {
   "cell_type": "markdown",
   "metadata": {},
   "source": [
    "### List Slicing Syntax"
   ]
  },
  {
   "cell_type": "markdown",
   "metadata": {},
   "source": [
    "Recall list slicing:\n",
    "\n",
    "`x[ from_index : to_index ]`\n",
    "\n",
    "* from_index defaults to `0`\n",
    "* to_end defaults to `len(x)`\n",
    "* `x[:]` means *from the beginning to the end*\n",
    "    * ie., in \"raw python\" this just means `x`"
   ]
  },
  {
   "cell_type": "markdown",
   "metadata": {},
   "source": [
    "`:` read as *all*"
   ]
  },
  {
   "cell_type": "code",
   "execution_count": 86,
   "metadata": {},
   "outputs": [
    {
     "data": {
      "text/plain": [
       "array([ 1.12334706,  1.47750048,  2.91005369,  1.28128839,  2.10926941,\n",
       "       -0.23231558,  1.5060741 ,  0.68459292,  3.39805643,  1.51512025])"
      ]
     },
     "execution_count": 86,
     "metadata": {},
     "output_type": "execute_result"
    }
   ],
   "source": [
    "x1[:]"
   ]
  },
  {
   "cell_type": "markdown",
   "metadata": {},
   "source": [
    "first two"
   ]
  },
  {
   "cell_type": "code",
   "execution_count": 87,
   "metadata": {},
   "outputs": [
    {
     "data": {
      "text/plain": [
       "array([1.12334706, 1.47750048])"
      ]
     },
     "execution_count": 87,
     "metadata": {},
     "output_type": "execute_result"
    }
   ],
   "source": [
    "x1[:2]"
   ]
  },
  {
   "cell_type": "markdown",
   "metadata": {},
   "source": [
    "last but 2"
   ]
  },
  {
   "cell_type": "code",
   "execution_count": 88,
   "metadata": {},
   "outputs": [
    {
     "data": {
      "text/plain": [
       "array([3.39805643, 1.51512025])"
      ]
     },
     "execution_count": 88,
     "metadata": {},
     "output_type": "execute_result"
    }
   ],
   "source": [
    "x1[-2:]"
   ]
  },
  {
   "cell_type": "markdown",
   "metadata": {},
   "source": [
    "first two"
   ]
  },
  {
   "cell_type": "code",
   "execution_count": 89,
   "metadata": {},
   "outputs": [
    {
     "data": {
      "text/plain": [
       "array([1.12334706, 1.47750048])"
      ]
     },
     "execution_count": 89,
     "metadata": {},
     "output_type": "execute_result"
    }
   ],
   "source": [
    "x1[0:2]"
   ]
  },
  {
   "cell_type": "markdown",
   "metadata": {},
   "source": [
    "last but 5"
   ]
  },
  {
   "cell_type": "code",
   "execution_count": 90,
   "metadata": {},
   "outputs": [
    {
     "data": {
      "text/plain": [
       "array([14.43838009, 14.33595782, 16.93820971, 22.35961243, 13.51684636])"
      ]
     },
     "execution_count": 90,
     "metadata": {},
     "output_type": "execute_result"
    }
   ],
   "source": [
    "x2[-5:]"
   ]
  },
  {
   "cell_type": "markdown",
   "metadata": {},
   "source": [
    "From the middle to the end..."
   ]
  },
  {
   "cell_type": "code",
   "execution_count": 90,
   "metadata": {},
   "outputs": [
    {
     "data": {
      "text/plain": [
       "array([2, 3])"
      ]
     },
     "execution_count": 90,
     "metadata": {},
     "output_type": "execute_result"
    }
   ],
   "source": [
    "x[ len(x) // 2 : ]"
   ]
  },
  {
   "cell_type": "markdown",
   "metadata": {},
   "source": [
    "Aside:\n",
    "\n",
    "\n",
    "`len(x) // 2`\n",
    "\n",
    "* integer division:\n",
    "    * //\n",
    "* len()\n",
    "    * the length of the array\n",
    "* `//2` \n",
    "    * an index which half way\n"
   ]
  },
  {
   "cell_type": "markdown",
   "metadata": {},
   "source": [
    "### Matrix Slicing (Generalized Slicing)"
   ]
  },
  {
   "cell_type": "markdown",
   "metadata": {},
   "source": [
    "Machine Learning convention:\n",
    "\n",
    "$M^r_c$ -- row index on top, column index on bottom\n",
    "\n",
    "Column index refers to a \"geninue\" variable.\n",
    "Row index is just the index of an observation, ie., an entry in a column. \n",
    "\n",
    "Most formula are defined for *all observations*, ie., formula are not specific to individual observations.\n",
    "\n",
    "Often we leave the row index out, because we mean *all rows*. In python you cannot omit an index, so use `:` ."
   ]
  },
  {
   "cell_type": "code",
   "execution_count": 91,
   "metadata": {},
   "outputs": [
    {
     "data": {
      "text/plain": [
       "array([[1, 2],\n",
       "       [2, 4],\n",
       "       [0, 1]])"
      ]
     },
     "execution_count": 91,
     "metadata": {},
     "output_type": "execute_result"
    }
   ],
   "source": [
    "M"
   ]
  },
  {
   "cell_type": "markdown",
   "metadata": {},
   "source": [
    "$M_{r, c}$ : typical mathematical notation"
   ]
  },
  {
   "cell_type": "markdown",
   "metadata": {},
   "source": [
    "* $M^r_c$ : machine learning convention\n",
    "* $M_c$ : all columns \n",
    "    * `M[:, c]`"
   ]
  },
  {
   "cell_type": "markdown",
   "metadata": {},
   "source": [
    "All rows, the firs column"
   ]
  },
  {
   "cell_type": "code",
   "execution_count": 92,
   "metadata": {},
   "outputs": [
    {
     "data": {
      "text/plain": [
       "array([1, 2, 0])"
      ]
     },
     "execution_count": 92,
     "metadata": {},
     "output_type": "execute_result"
    }
   ],
   "source": [
    "M[:, 0]"
   ]
  },
  {
   "cell_type": "markdown",
   "metadata": {},
   "source": [
    "The second row, first column"
   ]
  },
  {
   "cell_type": "code",
   "execution_count": 93,
   "metadata": {},
   "outputs": [
    {
     "data": {
      "text/plain": [
       "2"
      ]
     },
     "execution_count": 93,
     "metadata": {},
     "output_type": "execute_result"
    }
   ],
   "source": [
    "M[1, 0]"
   ]
  },
  {
   "cell_type": "markdown",
   "metadata": {},
   "source": [
    "In mathematics we often start indexes running at $1$...\n",
    "\n",
    "\n",
    "$y = M_1 + M_2 + 5$\n",
    "\n"
   ]
  },
  {
   "cell_type": "code",
   "execution_count": 94,
   "metadata": {},
   "outputs": [
    {
     "data": {
      "text/plain": [
       "array([ 8, 11,  6])"
      ]
     },
     "execution_count": 94,
     "metadata": {},
     "output_type": "execute_result"
    }
   ],
   "source": [
    "M[:, 0] + M[:, 1] + 5"
   ]
  },
  {
   "cell_type": "markdown",
   "metadata": {},
   "source": [
    "## Example"
   ]
  },
  {
   "cell_type": "markdown",
   "metadata": {},
   "source": [
    "We can keep track of multiple variables in a matrix, ...\n",
    "\n",
    "```python\n",
    "\n",
    "X = np.array([\n",
    "    [x1, x2],\n",
    "    ...\n",
    "])\n",
    "```\n",
    "\n",
    "... rather than a separate x1, x2."
   ]
  },
  {
   "cell_type": "markdown",
   "metadata": {},
   "source": [
    "eg., suppose:\n",
    "\n",
    "* $X = \\{(x_1, x_2), \\dots\\}$ : (Age, Visits)\n",
    "* $y$ : Profit per Customer"
   ]
  },
  {
   "cell_type": "code",
   "execution_count": 100,
   "metadata": {},
   "outputs": [
    {
     "data": {
      "text/plain": [
       "array([4.2, 4.1, 4.7, 4.2, 4.4])"
      ]
     },
     "execution_count": 100,
     "metadata": {},
     "output_type": "execute_result"
    }
   ],
   "source": [
    "X = np.array([\n",
    "    [18, 2],\n",
    "    [19, 1],\n",
    "    [21, 3],\n",
    "    [20, 1],\n",
    "    [22, 1],\n",
    "])\n",
    "\n",
    "y = 0.1 * X[:, 0] + 0.2 * X[:, 1] + 2\n",
    "\n",
    "y"
   ]
  },
  {
   "cell_type": "markdown",
   "metadata": {},
   "source": [
    "Aside: \n",
    "\n",
    "recall numpy has an operation to do just this..."
   ]
  },
  {
   "cell_type": "code",
   "execution_count": 101,
   "metadata": {},
   "outputs": [
    {
     "data": {
      "text/plain": [
       "array([4.2, 4.1, 4.7, 4.2, 4.4])"
      ]
     },
     "execution_count": 101,
     "metadata": {},
     "output_type": "execute_result"
    }
   ],
   "source": [
    "w = np.array([0.1, 0.2])\n",
    "y = X @ w + 2\n",
    "y"
   ]
  },
  {
   "cell_type": "markdown",
   "metadata": {},
   "source": [
    "## Exercise: Indexing Arrays (20min)\n",
    "\n",
    "### In the array `y` above, select:\n",
    "* the first value\n",
    "* last value\n",
    "* extra: middle value\n",
    "* last two values \n",
    "\n",
    "### In the  matrix above, `X`, select:\n",
    "* the first column (all rows)\n",
    "* the last column (all rows)\n",
    "* the first element \n",
    "* the last row of the first column\n",
    "* the first two rows of the last column\n",
    "* the first observation\n",
    "    * the first row, all columns\n",
    "    \n",
    "### Extra:\n",
    "* Rephase your hard-coded simulated datasets above (ie., your x1, x2) as a matrix..\n",
    "* Then compute your prediction \n",
    "* ie., take the example above and re-do for your problem"
   ]
  },
  {
   "cell_type": "code",
   "execution_count": 102,
   "metadata": {},
   "outputs": [
    {
     "data": {
      "text/plain": [
       "array([4.2, 4.1, 4.7, 4.2, 4.4])"
      ]
     },
     "execution_count": 102,
     "metadata": {},
     "output_type": "execute_result"
    }
   ],
   "source": [
    "y"
   ]
  },
  {
   "cell_type": "code",
   "execution_count": 104,
   "metadata": {},
   "outputs": [
    {
     "data": {
      "text/plain": [
       "(4.2, 4.4, 4.7, array([4.2, 4.4]))"
      ]
     },
     "execution_count": 104,
     "metadata": {},
     "output_type": "execute_result"
    }
   ],
   "source": [
    "y[0], y[-1], y[len(y)//2], y[-2:]"
   ]
  },
  {
   "cell_type": "code",
   "execution_count": 103,
   "metadata": {},
   "outputs": [
    {
     "data": {
      "text/plain": [
       "array([[18,  2],\n",
       "       [19,  1],\n",
       "       [21,  3],\n",
       "       [20,  1],\n",
       "       [22,  1]])"
      ]
     },
     "execution_count": 103,
     "metadata": {},
     "output_type": "execute_result"
    }
   ],
   "source": [
    "X"
   ]
  },
  {
   "cell_type": "code",
   "execution_count": 105,
   "metadata": {},
   "outputs": [
    {
     "data": {
      "text/plain": [
       "(array([18, 19, 21, 20, 22]), array([2, 1, 3, 1, 1]), 18, 22, array([2, 1]))"
      ]
     },
     "execution_count": 105,
     "metadata": {},
     "output_type": "execute_result"
    }
   ],
   "source": [
    "X[:, 0], X[:, -1], X[0, 0], X[-1, 0], X[0:2, -1]"
   ]
  },
  {
   "cell_type": "code",
   "execution_count": 106,
   "metadata": {},
   "outputs": [
    {
     "data": {
      "text/plain": [
       "array([18,  2])"
      ]
     },
     "execution_count": 106,
     "metadata": {},
     "output_type": "execute_result"
    }
   ],
   "source": [
    "X[0, :]"
   ]
  },
  {
   "cell_type": "markdown",
   "metadata": {},
   "source": [
    "## Masking"
   ]
  },
  {
   "cell_type": "markdown",
   "metadata": {},
   "source": [
    "Masking is the process of showing and hiding data (pieces of a numpy array) based on a condition; ie., we use True/False to select data."
   ]
  },
  {
   "cell_type": "code",
   "execution_count": 107,
   "metadata": {},
   "outputs": [],
   "source": [
    "ages = np.random.normal(30, 10, 5).astype(np.float16) # .int, float, np.int32, np.float32, np.float64"
   ]
  },
  {
   "cell_type": "markdown",
   "metadata": {},
   "source": [
    "Aside: note the ability to convert to different numeric datatypes. Here float16 is a low-precision number, which has the advantage of slighly more realistic age measurements."
   ]
  },
  {
   "cell_type": "code",
   "execution_count": 108,
   "metadata": {},
   "outputs": [
    {
     "data": {
      "text/plain": [
       "array([33.66, 32.94, 30.69, 25.6 , 18.19], dtype=float16)"
      ]
     },
     "execution_count": 108,
     "metadata": {},
     "output_type": "execute_result"
    }
   ],
   "source": [
    "ages"
   ]
  },
  {
   "cell_type": "markdown",
   "metadata": {},
   "source": [
    "We can apply comparison operators to an array, which are *broadcast* over every element."
   ]
  },
  {
   "cell_type": "code",
   "execution_count": 109,
   "metadata": {},
   "outputs": [
    {
     "data": {
      "text/plain": [
       "array([ True,  True,  True, False, False])"
      ]
     },
     "execution_count": 109,
     "metadata": {},
     "output_type": "execute_result"
    }
   ],
   "source": [
    "ages > 30"
   ]
  },
  {
   "cell_type": "markdown",
   "metadata": {},
   "source": [
    "Aside: \n",
    "* Q. what does the *mean* of a boolean vector (ie., an array of True/False) represent?\n",
    "* A. *percentage* of elements which meet the condition.\n",
    "* A. if the dataset is a *random variable* (ie., an experimental variable) it would be the $P(Age > 30)$"
   ]
  },
  {
   "cell_type": "code",
   "execution_count": 110,
   "metadata": {},
   "outputs": [
    {
     "data": {
      "text/plain": [
       "0.6"
      ]
     },
     "execution_count": 110,
     "metadata": {},
     "output_type": "execute_result"
    }
   ],
   "source": [
    "(ages > 30).mean()"
   ]
  },
  {
   "cell_type": "code",
   "execution_count": 116,
   "metadata": {},
   "outputs": [
    {
     "data": {
      "text/plain": [
       "array([33.66, 32.94, 30.69, 25.6 , 18.19], dtype=float16)"
      ]
     },
     "execution_count": 116,
     "metadata": {},
     "output_type": "execute_result"
    }
   ],
   "source": [
    "ages"
   ]
  },
  {
   "cell_type": "markdown",
   "metadata": {},
   "source": [
    "A sequence of `True`, `False` can be used as an index:"
   ]
  },
  {
   "cell_type": "code",
   "execution_count": 114,
   "metadata": {},
   "outputs": [
    {
     "data": {
      "text/plain": [
       "array([32.94, 25.6 ], dtype=float16)"
      ]
     },
     "execution_count": 114,
     "metadata": {},
     "output_type": "execute_result"
    }
   ],
   "source": [
    "ages[ [False, True, False, True, False] ] # mask, False = Hide, True = Show"
   ]
  },
  {
   "cell_type": "code",
   "execution_count": 115,
   "metadata": {},
   "outputs": [
    {
     "data": {
      "text/plain": [
       "array([32.94], dtype=float16)"
      ]
     },
     "execution_count": 115,
     "metadata": {},
     "output_type": "execute_result"
    }
   ],
   "source": [
    "ages[ [False, True, False, False, False] ] # False = Hides, True = Shows"
   ]
  },
  {
   "cell_type": "markdown",
   "metadata": {},
   "source": [
    "Recall: a test on an array is *broadcast* so only those elements which *pass* evaluate to True. \n",
    "\n",
    "By *filtering* (ie., indexing) on this test, you *show* only those elements which match. "
   ]
  },
  {
   "cell_type": "code",
   "execution_count": 118,
   "metadata": {},
   "outputs": [
    {
     "data": {
      "text/plain": [
       "array([25.6 , 18.19], dtype=float16)"
      ]
     },
     "execution_count": 118,
     "metadata": {},
     "output_type": "execute_result"
    }
   ],
   "source": [
    "ages[ ages < 30 ]"
   ]
  },
  {
   "cell_type": "code",
   "execution_count": 119,
   "metadata": {},
   "outputs": [
    {
     "data": {
      "text/plain": [
       "array([33.66, 32.94, 30.69], dtype=float16)"
      ]
     },
     "execution_count": 119,
     "metadata": {},
     "output_type": "execute_result"
    }
   ],
   "source": [
    "ages[ ages > 30 ] # ages WHERE ages > 30"
   ]
  },
  {
   "cell_type": "markdown",
   "metadata": {},
   "source": [
    "You don't necessary think through the detail of this process. Mostly, you'll just go straight to writing the comparsion."
   ]
  },
  {
   "cell_type": "markdown",
   "metadata": {},
   "source": [
    "#### Advanced Comparsions: Boolean Broadcast Operators"
   ]
  },
  {
   "cell_type": "markdown",
   "metadata": {},
   "source": [
    "The default python boolean operators are *not* broadcast; ie., they don't work with numpy arrays."
   ]
  },
  {
   "cell_type": "code",
   "execution_count": 120,
   "metadata": {},
   "outputs": [
    {
     "data": {
      "text/plain": [
       "True"
      ]
     },
     "execution_count": 120,
     "metadata": {},
     "output_type": "execute_result"
    }
   ],
   "source": [
    "(5 > 1) and (0 < 1)"
   ]
  },
  {
   "cell_type": "markdown",
   "metadata": {},
   "source": [
    "NumPy provdies alternatives which are `&` for AND, and `|` for OR..."
   ]
  },
  {
   "cell_type": "code",
   "execution_count": 121,
   "metadata": {},
   "outputs": [
    {
     "data": {
      "text/plain": [
       "array([ True,  True,  True,  True, False])"
      ]
     },
     "execution_count": 121,
     "metadata": {},
     "output_type": "execute_result"
    }
   ],
   "source": [
    "(ages > 20)"
   ]
  },
  {
   "cell_type": "code",
   "execution_count": 123,
   "metadata": {},
   "outputs": [
    {
     "data": {
      "text/plain": [
       "array([False, False, False,  True,  True])"
      ]
     },
     "execution_count": 123,
     "metadata": {},
     "output_type": "execute_result"
    }
   ],
   "source": [
    "(ages < 30)"
   ]
  },
  {
   "cell_type": "code",
   "execution_count": 124,
   "metadata": {},
   "outputs": [
    {
     "data": {
      "text/plain": [
       "array([False, False, False,  True, False])"
      ]
     },
     "execution_count": 124,
     "metadata": {},
     "output_type": "execute_result"
    }
   ],
   "source": [
    "(ages > 20) & (ages < 30)"
   ]
  },
  {
   "cell_type": "code",
   "execution_count": 125,
   "metadata": {},
   "outputs": [
    {
     "data": {
      "text/plain": [
       "array([25.6], dtype=float16)"
      ]
     },
     "execution_count": 125,
     "metadata": {},
     "output_type": "execute_result"
    }
   ],
   "source": [
    "ages[ (ages > 20) & (ages < 30) ]"
   ]
  },
  {
   "cell_type": "code",
   "execution_count": 130,
   "metadata": {},
   "outputs": [
    {
     "data": {
      "text/plain": [
       "array([25.6 , 18.19], dtype=float16)"
      ]
     },
     "execution_count": 130,
     "metadata": {},
     "output_type": "execute_result"
    }
   ],
   "source": [
    "ages[ (ages < 30) | (ages > 35)  ]"
   ]
  },
  {
   "cell_type": "markdown",
   "metadata": {},
   "source": [
    "## Exercise"
   ]
  },
  {
   "cell_type": "code",
   "execution_count": 131,
   "metadata": {},
   "outputs": [
    {
     "data": {
      "text/plain": [
       "array([4.2, 4.1, 4.7, 4.2, 4.4])"
      ]
     },
     "execution_count": 131,
     "metadata": {},
     "output_type": "execute_result"
    }
   ],
   "source": [
    "y"
   ]
  },
  {
   "cell_type": "code",
   "execution_count": 132,
   "metadata": {},
   "outputs": [
    {
     "data": {
      "text/plain": [
       "array([[18,  2],\n",
       "       [19,  1],\n",
       "       [21,  3],\n",
       "       [20,  1],\n",
       "       [22,  1]])"
      ]
     },
     "execution_count": 132,
     "metadata": {},
     "output_type": "execute_result"
    }
   ],
   "source": [
    "X"
   ]
  },
  {
   "cell_type": "markdown",
   "metadata": {},
   "source": [
    "## Exercise: Indexing Arrays (15 min)\n",
    "\n",
    "### In the array `y` above, select:\n",
    "* values which are exactly `4.2`\n",
    "* values above `4.5`\n",
    "* values below `4.5`\n",
    "* values in the range `4.4` to `4.8` inclusive\n",
    "    * HINT: `&`\n",
    "\n",
    "### EXTRA: In the  matrix above, `X`, select:\n",
    "* HINT: these are *row* queries, so, `X[ ..., somecols]`\n",
    "* The visits column for people under 20\n",
    "    * sum, mean, values\n",
    "* The average age for people who visit `2` or fewer times.\n",
    "* The average age for people who visit *either* exactly `2` or `3` times. \n",
    "    "
   ]
  },
  {
   "cell_type": "code",
   "execution_count": 135,
   "metadata": {},
   "outputs": [],
   "source": [
    "from statistics import mean"
   ]
  },
  {
   "cell_type": "code",
   "execution_count": 136,
   "metadata": {},
   "outputs": [
    {
     "data": {
      "text/plain": [
       "(array([4.2, 4.2]), array([4.7]), array([4.2, 4.1, 4.2, 4.4]), array([4.7]))"
      ]
     },
     "execution_count": 136,
     "metadata": {},
     "output_type": "execute_result"
    }
   ],
   "source": [
    "y[ y == 4.2 ], y[ y > 4.5 ], y[ y < 4.5], y[ (y > 4.4) & (y < 4.8)]"
   ]
  },
  {
   "cell_type": "markdown",
   "metadata": {},
   "source": [
    "`X` where the age column (`X[:, 0]`) is less than `20` ..."
   ]
  },
  {
   "cell_type": "code",
   "execution_count": 137,
   "metadata": {},
   "outputs": [
    {
     "data": {
      "text/plain": [
       "array([2, 1])"
      ]
     },
     "execution_count": 137,
     "metadata": {},
     "output_type": "execute_result"
    }
   ],
   "source": [
    "X[ X[:, 0] < 20, 1]"
   ]
  },
  {
   "cell_type": "code",
   "execution_count": 138,
   "metadata": {},
   "outputs": [
    {
     "data": {
      "text/plain": [
       "(3, 1)"
      ]
     },
     "execution_count": 138,
     "metadata": {},
     "output_type": "execute_result"
    }
   ],
   "source": [
    "sum(X[ X[:, 0] < 20, 1]), mean(X[ X[:, 0] < 20, 1])"
   ]
  },
  {
   "cell_type": "code",
   "execution_count": 140,
   "metadata": {},
   "outputs": [
    {
     "data": {
      "text/plain": [
       "20"
      ]
     },
     "execution_count": 140,
     "metadata": {},
     "output_type": "execute_result"
    }
   ],
   "source": [
    "mean(X[ X[:, 1] < 2, 0])"
   ]
  },
  {
   "cell_type": "code",
   "execution_count": 141,
   "metadata": {},
   "outputs": [
    {
     "data": {
      "text/plain": [
       "19"
      ]
     },
     "execution_count": 141,
     "metadata": {},
     "output_type": "execute_result"
    }
   ],
   "source": [
    "mean(X[ (X[:, 1] == 2) |  (X[:, 1] == 3) , 0])"
   ]
  },
  {
   "cell_type": "markdown",
   "metadata": {},
   "source": [
    "## Appendix: Further Applications & Examples"
   ]
  },
  {
   "cell_type": "markdown",
   "metadata": {},
   "source": [
    "### Hypothesis Testing\n",
    "\n",
    "* In general we have some number of datasets $A, B, \\dots$ which are measurements from some experiment where we have varied a policy between conditions $A, B, \\dots$ and we wish to determine whether these are consistent with some hypothesis.\n",
    "\n",
    "* eg., Suppose you are asked to determine whether a discount on a website is effective at raising profits. Policy A: no discount, Policy B: discount... you wish to see which has a high profit. "
   ]
  },
  {
   "cell_type": "code",
   "execution_count": 143,
   "metadata": {},
   "outputs": [],
   "source": [
    "A_avg_profit_per_product = 10\n",
    "A_var_profit_per_product = 3\n",
    "A_num_products_purchased = 100 \n",
    "\n",
    "B_avg_profit_per_product = 9\n",
    "B_var_profit_per_product = 3\n",
    "B_num_products_purchased = 100 \n",
    "\n",
    "\n",
    "A = np.random.normal(A_avg_profit_per_product, A_var_profit_per_product, A_num_products_purchased)\n",
    "B = np.random.normal(B_avg_profit_per_product, B_var_profit_per_product, B_num_products_purchased)"
   ]
  },
  {
   "cell_type": "markdown",
   "metadata": {},
   "source": [
    "The profit on the first five purchases during the `A` campaign..."
   ]
  },
  {
   "cell_type": "code",
   "execution_count": 145,
   "metadata": {},
   "outputs": [
    {
     "data": {
      "text/plain": [
       "array([ 9.20494353,  7.33608724, 15.59291376, 18.00811418, 10.06090606])"
      ]
     },
     "execution_count": 145,
     "metadata": {},
     "output_type": "execute_result"
    }
   ],
   "source": [
    "A[:5]"
   ]
  },
  {
   "cell_type": "markdown",
   "metadata": {},
   "source": [
    "The question is whether `A` is more profitable than `B`, ie., \n",
    "\n",
    "$P(A > B)$"
   ]
  },
  {
   "cell_type": "code",
   "execution_count": 148,
   "metadata": {},
   "outputs": [
    {
     "data": {
      "text/plain": [
       "0.61"
      ]
     },
     "execution_count": 148,
     "metadata": {},
     "output_type": "execute_result"
    }
   ],
   "source": [
    "(A > B).mean()"
   ]
  },
  {
   "cell_type": "markdown",
   "metadata": {},
   "source": [
    "From this dataset we infer that there is a 61% chance A is more profitable than B...\n",
    "\n",
    "Do we implement A?"
   ]
  },
  {
   "cell_type": "markdown",
   "metadata": {},
   "source": [
    "The probability we are wrong:"
   ]
  },
  {
   "cell_type": "code",
   "execution_count": 149,
   "metadata": {},
   "outputs": [
    {
     "data": {
      "text/plain": [
       "0.39"
      ]
     },
     "execution_count": 149,
     "metadata": {},
     "output_type": "execute_result"
    }
   ],
   "source": [
    "1 - (A > B).mean()"
   ]
  },
  {
   "cell_type": "markdown",
   "metadata": {},
   "source": [
    "Typically we set some tolerance to risk (of being wrong), eg., 20%, and we only affirm the hypothesis if \"being wrong\" is sufficiently improbable..."
   ]
  },
  {
   "cell_type": "code",
   "execution_count": 396,
   "metadata": {},
   "outputs": [
    {
     "data": {
      "text/plain": [
       "False"
      ]
     },
     "execution_count": 396,
     "metadata": {},
     "output_type": "execute_result"
    }
   ],
   "source": [
    "(1 - (A > B).mean()) < 0.2"
   ]
  },
  {
   "cell_type": "markdown",
   "metadata": {},
   "source": [
    "Using 20%, we conclude that we cannot distinguish between A and B.\n",
    "\n",
    "NOTE: we **do not** conclude A and B are the same. "
   ]
  },
  {
   "cell_type": "code",
   "execution_count": 398,
   "metadata": {},
   "outputs": [
    {
     "data": {
      "text/plain": [
       "True"
      ]
     },
     "execution_count": 398,
     "metadata": {},
     "output_type": "execute_result"
    }
   ],
   "source": [
    "\n",
    "A = np.random.normal(10, 0.4, 10_000)\n",
    "B = np.random.normal(9, 0.4, 10_000)\n",
    "\n",
    "((1 - (A > B).mean()) * 100) < 5"
   ]
  },
  {
   "cell_type": "markdown",
   "metadata": {},
   "source": [
    "Here, we conclude with a risk of $5\\%$ that `A` is genuinely more profitable than `B`..."
   ]
  },
  {
   "cell_type": "markdown",
   "metadata": {},
   "source": [
    "### Aside:\n",
    "\n",
    "We are actually computing $P(Data|Hypothesis)$, we should scale by $P(Data)$ to compute $P(Hypothesis|Data)$ via bayes rule. The approach above illustrates the simplicity of the method. "
   ]
  },
  {
   "cell_type": "markdown",
   "metadata": {},
   "source": [
    "### Predictive Analytics (aka Machine Learning)\n",
    "\n",
    "* What do you do about outliers?"
   ]
  },
  {
   "cell_type": "markdown",
   "metadata": {},
   "source": [
    "`!pip install sklearn`"
   ]
  },
  {
   "cell_type": "code",
   "execution_count": 168,
   "metadata": {},
   "outputs": [],
   "source": [
    "from sklearn.linear_model import LinearRegression, Lasso"
   ]
  },
  {
   "cell_type": "code",
   "execution_count": 171,
   "metadata": {},
   "outputs": [
    {
     "data": {
      "image/png": "[encoded data removed]",
      "text/plain": [
       "<Figure size 432x288 with 1 Axes>"
      ]
     },
     "metadata": {
      "needs_background": "light"
     },
     "output_type": "display_data"
    }
   ],
   "source": [
    "import seaborn as sns\n",
    "\n",
    "tips = sns.load_dataset('tips')\n",
    "sns.regplot(tips['total_bill'], tips['total_bill']);"
   ]
  },
  {
   "cell_type": "code",
   "execution_count": 178,
   "metadata": {},
   "outputs": [],
   "source": [
    "X = tips[['total_bill']].values\n",
    "y = tips['tip']"
   ]
  },
  {
   "cell_type": "code",
   "execution_count": 179,
   "metadata": {},
   "outputs": [
    {
     "data": {
      "text/plain": [
       "array([[16.99],\n",
       "       [10.34],\n",
       "       [21.01],\n",
       "       [23.68],\n",
       "       [24.59]])"
      ]
     },
     "execution_count": 179,
     "metadata": {},
     "output_type": "execute_result"
    }
   ],
   "source": [
    "X[:5]"
   ]
  },
  {
   "cell_type": "code",
   "execution_count": 189,
   "metadata": {},
   "outputs": [
    {
     "data": {
      "image/png": "[encoded data removed]",
      "text/plain": [
       "<Figure size 432x288 with 1 Axes>"
      ]
     },
     "metadata": {
      "needs_background": "light"
     },
     "output_type": "display_data"
    }
   ],
   "source": [
    "sns.scatterplot(X.ravel(), y);\n",
    "sns.lineplot(X.ravel(), LinearRegression().fit(X, y).predict(X), color=\"orange\")\n",
    "sns.lineplot(X.ravel(), Lasso().fit(X, y).predict(X), color=\"red\")\n",
    "sns.lineplot(X.ravel(), Lasso(1.5).fit(X, y).predict(X), color=\"green\");"
   ]
  },
  {
   "cell_type": "markdown",
   "metadata": {},
   "source": [
    "### Are datasets without outliers different?\n",
    "\n",
    "Risk I screwed up: $P_{difference} = P((X_{without} > X_{with}) | (X_{without} < X_{with}))$"
   ]
  },
  {
   "cell_type": "markdown",
   "metadata": {},
   "source": [
    "For two groups to be different either one is greater than the other..."
   ]
  },
  {
   "cell_type": "code",
   "execution_count": 303,
   "metadata": {},
   "outputs": [
    {
     "data": {
      "text/plain": [
       "0.6"
      ]
     },
     "execution_count": 303,
     "metadata": {},
     "output_type": "execute_result"
    }
   ],
   "source": [
    "groupA = np.array([10, 10, 10, 10, 10])\n",
    "groupB = np.array([8, 8, 8, 10, 10])\n",
    "\n",
    "((groupA > groupB) | (groupB > groupA)).mean()"
   ]
  },
  {
   "cell_type": "markdown",
   "metadata": {},
   "source": [
    "Better to read this as a $40%$ chance they are the same (which is quite high): there is a `4 in 10` chance our belief about them being different is wrong!"
   ]
  },
  {
   "cell_type": "markdown",
   "metadata": {},
   "source": [
    "For the dataset above, suppose we take $y > \\mu_y \\pm \\sigma_y$ as the condition for $y$ being and outliner... then, "
   ]
  },
  {
   "cell_type": "code",
   "execution_count": 317,
   "metadata": {},
   "outputs": [],
   "source": [
    "high, low = y.mean() + y.std(), y.mean() - y.std()\n",
    "keep = (y > low) & (y < high)\n",
    "\n",
    "ykeep = y[keep]\n",
    "Xkeep = X[keep]"
   ]
  },
  {
   "cell_type": "code",
   "execution_count": 319,
   "metadata": {},
   "outputs": [
    {
     "name": "stdout",
     "output_type": "stream",
     "text": [
      "244 2.99827868852459 1.3836381890011822\n",
      "182 2.798021978021978 0.742416123997692\n"
     ]
    }
   ],
   "source": [
    "print(len(y), y.mean(), y.std())\n",
    "print(len(ykeep), ykeep.mean(), ykeep.std())"
   ]
  },
  {
   "cell_type": "code",
   "execution_count": 323,
   "metadata": {},
   "outputs": [],
   "source": [
    "A = np.random.choice(y.values, len(ykeep))\n",
    "B = ykeep.values"
   ]
  },
  {
   "cell_type": "code",
   "execution_count": 324,
   "metadata": {},
   "outputs": [
    {
     "data": {
      "text/plain": [
       "0.9505494505494505"
      ]
     },
     "execution_count": 324,
     "metadata": {},
     "output_type": "execute_result"
    }
   ],
   "source": [
    "((A > B) | (B > A)).mean()"
   ]
  },
  {
   "cell_type": "markdown",
   "metadata": {},
   "source": [
    "If we assume they are the same, then there is a $5%$, or `1 in 20`, risk we are wrong:"
   ]
  },
  {
   "cell_type": "code",
   "execution_count": 329,
   "metadata": {},
   "outputs": [
    {
     "data": {
      "text/plain": [
       "5.0"
      ]
     },
     "execution_count": 329,
     "metadata": {},
     "output_type": "execute_result"
    }
   ],
   "source": [
    "risk = 1 - ((A > B) | (B > A)).mean()\n",
    "\n",
    "round(risk * 100)"
   ]
  },
  {
   "cell_type": "markdown",
   "metadata": {},
   "source": [
    "Aside:\n",
    "\n",
    "Note, the outlier condition is not a good one... we should really select points in $y$ which are outliers within some range of $X$, eg., consider the high-paying customers who leave extreme tips.\n",
    "\n",
    "This analysis is applied to the whole range of $y$."
   ]
  },
  {
   "cell_type": "markdown",
   "metadata": {},
   "source": [
    "## More on Hypothesis Testing"
   ]
  },
  {
   "cell_type": "markdown",
   "metadata": {},
   "source": [
    "We treat $a$ and $b$ as random variables, ie., where each entry in the sequence $a$ is an indepedent observation of some event $a$:"
   ]
  },
  {
   "cell_type": "code",
   "execution_count": 348,
   "metadata": {},
   "outputs": [],
   "source": [
    "a = np.array([6, 3, 8, 12, 6]) # dice rolls -- weighted by policy A\n",
    "b = np.array([3, 7, 2, 10, 6]) # dice rolls -- weighted by policy B"
   ]
  },
  {
   "cell_type": "markdown",
   "metadata": {},
   "source": [
    "Then $P(a > b)$ is the long-run frequency of the times $a > b$:"
   ]
  },
  {
   "cell_type": "code",
   "execution_count": 347,
   "metadata": {},
   "outputs": [
    {
     "data": {
      "text/plain": [
       "0.8"
      ]
     },
     "execution_count": 347,
     "metadata": {},
     "output_type": "execute_result"
    }
   ],
   "source": [
    "(a > b).mean()"
   ]
  },
  {
   "cell_type": "markdown",
   "metadata": {},
   "source": [
    "Note that \"long run\" means that we need sufficient observations of $a$ and $b$ for our calculation to be accurate."
   ]
  },
  {
   "cell_type": "markdown",
   "metadata": {},
   "source": [
    "We can approximate the question above *by asking* how \"significant\" is a difference in their means..."
   ]
  },
  {
   "cell_type": "code",
   "execution_count": 353,
   "metadata": {},
   "outputs": [
    {
     "data": {
      "text/plain": [
       "0.23984843989200114"
      ]
     },
     "execution_count": 353,
     "metadata": {},
     "output_type": "execute_result"
    }
   ],
   "source": [
    "(a.mean() - b.mean())/(a.std() + b.std())"
   ]
  },
  {
   "cell_type": "markdown",
   "metadata": {},
   "source": [
    "... ie., this would $0$ if the datasets were identical. \n",
    "\n",
    "However comparing *means* in this way is a highly approximate method which tries to characterize all observations by one number (a mean), and use that. It has been, in practice, a very confusing way of teaching hypothesis testing -- which is a simple question of probability that has nothing to do with means. \n",
    "\n",
    "It is simply that a near-zero difference in means happens to occur when the measures are, probabilitically, the same. Though this methods is faliable and tends to give an exagerated confidence in results (ie., the mean ends up not representing the dataset well)."
   ]
  },
  {
   "cell_type": "markdown",
   "metadata": {},
   "source": [
    "Consider the coincidence of one measure being exactly the reverse of another:"
   ]
  },
  {
   "cell_type": "code",
   "execution_count": 394,
   "metadata": {},
   "outputs": [
    {
     "data": {
      "text/plain": [
       "0.0"
      ]
     },
     "execution_count": 394,
     "metadata": {},
     "output_type": "execute_result"
    }
   ],
   "source": [
    "one.mean() - two.mean()"
   ]
  },
  {
   "cell_type": "markdown",
   "metadata": {},
   "source": [
    "Here we conclude `one` and `two` are the same, but they are totally different!"
   ]
  },
  {
   "cell_type": "code",
   "execution_count": 395,
   "metadata": {},
   "outputs": [
    {
     "data": {
      "text/plain": [
       "(array([0, 2, 3, 3, 3, 4, 5, 7, 8, 9]), array([9, 8, 7, 5, 4, 3, 3, 3, 2, 0]))"
      ]
     },
     "execution_count": 395,
     "metadata": {},
     "output_type": "execute_result"
    }
   ],
   "source": [
    "one, two"
   ]
  },
  {
   "cell_type": "markdown",
   "metadata": {},
   "source": [
    "### Aside\n",
    "\n",
    "A basic null hypothesis test, *is just* a comparsion of a measured population $A$ against a simulated dataset, $B$ which represents no-effect. \n",
    "\n",
    "$P(A > 10)$"
   ]
  },
  {
   "cell_type": "code",
   "execution_count": 356,
   "metadata": {},
   "outputs": [
    {
     "data": {
      "text/plain": [
       "0.2"
      ]
     },
     "execution_count": 356,
     "metadata": {},
     "output_type": "execute_result"
    }
   ],
   "source": [
    "(a > 10).mean()"
   ]
  },
  {
   "cell_type": "markdown",
   "metadata": {},
   "source": [
    "NB.\n",
    "$a$, $b$ are *random variables* which means that the particular way they are randomly sequences is *part of* what characterises them.\n",
    "\n",
    "If you sort them they become deterministic, *not* random variables:"
   ]
  },
  {
   "cell_type": "code",
   "execution_count": 386,
   "metadata": {},
   "outputs": [],
   "source": [
    "outcomes = np.random.uniform(0, 10, 10).astype(int)\n",
    "\n",
    "one = np.sort(outcomes)\n",
    "two = np.flip(one)\n",
    "\n",
    "three = np.random.choice(outcomes, 10)\n",
    "four  = np.random.choice(outcomes, 10)"
   ]
  },
  {
   "cell_type": "markdown",
   "metadata": {},
   "source": [
    "Here we generate `10` outcomes at random from the range `0` to `10`:"
   ]
  },
  {
   "cell_type": "code",
   "execution_count": 387,
   "metadata": {},
   "outputs": [
    {
     "data": {
      "text/plain": [
       "array([7, 2, 9, 3, 3, 3, 8, 0, 5, 4])"
      ]
     },
     "execution_count": 387,
     "metadata": {},
     "output_type": "execute_result"
    }
   ],
   "source": [
    "outcomes"
   ]
  },
  {
   "cell_type": "markdown",
   "metadata": {},
   "source": [
    "`one` and `two` are sorted; `three` and `four` are drawn at random:"
   ]
  },
  {
   "cell_type": "code",
   "execution_count": 388,
   "metadata": {},
   "outputs": [
    {
     "data": {
      "text/plain": [
       "(array([0, 2, 3, 3, 3, 4, 5, 7, 8, 9]),\n",
       " array([9, 8, 7, 5, 4, 3, 3, 3, 2, 0]),\n",
       " array([3, 8, 4, 3, 3, 9, 8, 4, 2, 5]),\n",
       " array([3, 5, 7, 3, 3, 2, 3, 3, 3, 5]))"
      ]
     },
     "execution_count": 388,
     "metadata": {},
     "output_type": "execute_result"
    }
   ],
   "source": [
    "one, two, three, four"
   ]
  },
  {
   "cell_type": "markdown",
   "metadata": {},
   "source": [
    "Note that these are the *same* numbers, but *totally different* kinds of events."
   ]
  },
  {
   "cell_type": "code",
   "execution_count": 389,
   "metadata": {},
   "outputs": [
    {
     "data": {
      "text/plain": [
       "(1.0, 0.6)"
      ]
     },
     "execution_count": 389,
     "metadata": {},
     "output_type": "execute_result"
    }
   ],
   "source": [
    "((two > one) | (one > two)).mean(), ((three > four) | (four > three)).mean()"
   ]
  },
  {
   "cell_type": "markdown",
   "metadata": {},
   "source": [
    "Here we see the $P(one \\neq two)$ is certain (they are always different); and $P(three \\neq four)$ is much lower."
   ]
  }
 ],
 "metadata": {
  "kernelspec": {
   "display_name": "Python 3",
   "language": "python",
   "name": "python3"
  },
  "language_info": {
   "codemirror_mode": {
    "name": "ipython",
    "version": 3
   },
   "file_extension": ".py",
   "mimetype": "text/x-python",
   "name": "python",
   "nbconvert_exporter": "python",
   "pygments_lexer": "ipython3",
   "version": "3.8.3"
  }
 },
 "nbformat": 4,
 "nbformat_minor": 4
}
