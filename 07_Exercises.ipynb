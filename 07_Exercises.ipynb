{
 "cells": [
  {
   "cell_type": "markdown",
   "metadata": {
    "slideshow": {
     "slide_type": "slide"
    }
   },
   "source": [
    "# Python for Data Science & Analysis \n",
    "## Exploratory Data Analysis & Visualization"
   ]
  },
  {
   "cell_type": "markdown",
   "metadata": {
    "slideshow": {
     "slide_type": "slide"
    }
   },
   "source": [
    "## Objectives\n",
    "* describe a standard EDA workflow\n",
    "* EXTRA: describe a standard communication & reporting process\n",
    "* write a program which uses pandas to:\n",
    "    * obtain descriptive statistics \n",
    "    * applies a test to a column to discretize it\n",
    "    * factor a continuous column with a discrete column\n",
    "* write a program which uses seaborn and matplotlib to:\n",
    "    * show univariate plots (eg., distplot)\n",
    "    * show multivariate plots (eg., scatterplot)\n",
    "    * EXTRA: customize plots"
   ]
  },
  {
   "cell_type": "markdown",
   "metadata": {
    "slideshow": {
     "slide_type": "slide"
    }
   },
   "source": [
    "# Part 3: Visualization"
   ]
  },
  {
   "cell_type": "markdown",
   "metadata": {
    "slideshow": {
     "slide_type": "slide"
    }
   },
   "source": [
    "## How do I use pandas to plot?"
   ]
  },
  {
   "cell_type": "markdown",
   "metadata": {
    "slideshow": {
     "slide_type": "fragment"
    }
   },
   "source": [
    "Pandas has a `.plot` which you configure using its arguments (eg., `kind=hist`), this however *just uses* seaborn. \n",
    "\n",
    "Exercise:\n",
    "\n",
    "1. Import the titanic csv file as a pandas data frame saved as ti and view the first 3 rows.\n",
    "\n",
    "2. Select the age column and use .plot(kind='hist') to view a histogram of the data in the age column."
   ]
  },
  {
   "cell_type": "code",
   "execution_count": null,
   "metadata": {},
   "outputs": [],
   "source": []
  },
  {
   "cell_type": "code",
   "execution_count": null,
   "metadata": {},
   "outputs": [],
   "source": []
  },
  {
   "cell_type": "markdown",
   "metadata": {
    "slideshow": {
     "slide_type": "fragment"
    }
   },
   "source": [
    "Often pandas doesn't choose the right plot, or the right dataseries... therefore it's often easier to go straight to using seaborn. "
   ]
  },
  {
   "cell_type": "markdown",
   "metadata": {
    "slideshow": {
     "slide_type": "slide"
    }
   },
   "source": [
    "## How do I import seaborn?\n",
    "\n",
    "Exercise\n",
    "\n",
    "Import Seaborn with the alias sns"
   ]
  },
  {
   "cell_type": "code",
   "execution_count": null,
   "metadata": {},
   "outputs": [],
   "source": []
  },
  {
   "cell_type": "markdown",
   "metadata": {
    "slideshow": {
     "slide_type": "slide"
    }
   },
   "source": [
    "## What visuals does seaborn provide?"
   ]
  },
  {
   "cell_type": "markdown",
   "metadata": {
    "slideshow": {
     "slide_type": "fragment"
    }
   },
   "source": [
    "* `sns.lineplot`\n",
    "* `sns.scatterplot`\n",
    "* `sns.violinplot`\n",
    "* `sns.distplot`\n",
    "* ..."
   ]
  },
  {
   "cell_type": "markdown",
   "metadata": {
    "slideshow": {
     "slide_type": "slide"
    }
   },
   "source": [
    "## How do I use seaborn to visualize data?"
   ]
  },
  {
   "cell_type": "markdown",
   "metadata": {
    "slideshow": {
     "slide_type": "fragment"
    }
   },
   "source": [
    "There are two ways of using seaborn, you can either\n",
    "\n",
    "* supply x (, y, etc.) as individual arguments\n",
    "* OR: supply a *dataframe* and name the relevant columns\n",
    "\n",
    "Exercise\n",
    "\n",
    "1. Save two python lists (using square parentheses) as x_series (the numbers -2, -1, 0, 1, 2) and y_series (the numbers 4, 1, 0, 1, 4).\n",
    "\n",
    "2. Use .lineplot() from the Seaborn package with x_series, y_series as the arguments.\n",
    "\n",
    "3. Extend your previous answer by including a third argument: color = \"red\", to change the colour of the plot.\n",
    "\n",
    "4. To view the other 'settings' that you can change (other available arguments for the lineplot method) run: sns.lineplot?\n",
    "\n",
    "5. Create a pandas data frame called df, using pd.DataFrame() by putting the x_series and y_series columns together. Rename the columns as Xs and Ys.\n",
    "\n",
    "6. Use the lineplot function with the following arguments: data = df, x = 'Xs', y = 'Ys'."
   ]
  },
  {
   "cell_type": "code",
   "execution_count": null,
   "metadata": {},
   "outputs": [],
   "source": []
  },
  {
   "cell_type": "code",
   "execution_count": null,
   "metadata": {},
   "outputs": [],
   "source": []
  },
  {
   "cell_type": "code",
   "execution_count": null,
   "metadata": {},
   "outputs": [],
   "source": []
  },
  {
   "cell_type": "code",
   "execution_count": null,
   "metadata": {},
   "outputs": [],
   "source": []
  },
  {
   "cell_type": "markdown",
   "metadata": {
    "slideshow": {
     "slide_type": "slide"
    }
   },
   "source": [
    "## How do I use a dataframe with seaborn?"
   ]
  },
  {
   "cell_type": "markdown",
   "metadata": {
    "slideshow": {
     "slide_type": "fragment"
    }
   },
   "source": [
    "We set `data` to be the dataframe, and *name the columns* for `x` and `y`... \n",
    "\n",
    "Exercise:\n",
    "\n",
    "Use the scatterplot method from the Seaborn package with data = ti, x = 'age', y = 'fare as the arguments."
   ]
  },
  {
   "cell_type": "code",
   "execution_count": null,
   "metadata": {},
   "outputs": [],
   "source": []
  },
  {
   "cell_type": "markdown",
   "metadata": {
    "slideshow": {
     "slide_type": "slide"
    }
   },
   "source": [
    "## What are the core univariate (single-column) plots?"
   ]
  },
  {
   "cell_type": "markdown",
   "metadata": {
    "slideshow": {
     "slide_type": "fragment"
    }
   },
   "source": [
    "* sns.distplot\n",
    "* sns.violinplot\n",
    "* sns.boxplot\n",
    "* ..."
   ]
  },
  {
   "cell_type": "markdown",
   "metadata": {
    "slideshow": {
     "slide_type": "slide"
    }
   },
   "source": [
    "## How do I create a distribution plot?"
   ]
  },
  {
   "cell_type": "markdown",
   "metadata": {
    "slideshow": {
     "slide_type": "slide"
    }
   },
   "source": [
    "`kde` will infer a continuous frequency line, set `False` for just bars:\n",
    "\n",
    "Exercise:\n",
    "\n",
    "Use the distplot method from the Seaborn package (short for distribution plot). The first argument should be the age column from ti, then vertical = False, kde = True ."
   ]
  },
  {
   "cell_type": "code",
   "execution_count": null,
   "metadata": {},
   "outputs": [],
   "source": []
  },
  {
   "cell_type": "markdown",
   "metadata": {
    "slideshow": {
     "slide_type": "slide"
    }
   },
   "source": [
    "## How do I create a violin plot?"
   ]
  },
  {
   "cell_type": "markdown",
   "metadata": {
    "slideshow": {
     "slide_type": "fragment"
    }
   },
   "source": [
    "The width of a violin plot is the frequency (ie., how common) a value is within some column... \n",
    "\n",
    "Exercise\n",
    "\n",
    "Use the violinplot() method from the Seaborn package with a single argument: the age column from ti."
   ]
  },
  {
   "cell_type": "code",
   "execution_count": null,
   "metadata": {},
   "outputs": [],
   "source": []
  },
  {
   "cell_type": "markdown",
   "metadata": {
    "slideshow": {
     "slide_type": "fragment"
    }
   },
   "source": [
    "A violinplot uses *area* to visualize frequency, rather than height as in a barplot. "
   ]
  },
  {
   "cell_type": "markdown",
   "metadata": {
    "slideshow": {
     "slide_type": "slide"
    }
   },
   "source": [
    "## How do I create a box plot?"
   ]
  },
  {
   "cell_type": "markdown",
   "metadata": {
    "slideshow": {
     "slide_type": "fragment"
    }
   },
   "source": [
    "Box plots show quarties (25th, 50th, 75th) and outliers. \n",
    "\n",
    "Exercise\n",
    "\n",
    "Use the boxplot() method from the Seaborn package with the age column from the ti dataframe."
   ]
  },
  {
   "cell_type": "code",
   "execution_count": null,
   "metadata": {},
   "outputs": [],
   "source": []
  },
  {
   "cell_type": "markdown",
   "metadata": {
    "slideshow": {
     "slide_type": "slide"
    }
   },
   "source": [
    "## What are the core multivariate plots?"
   ]
  },
  {
   "cell_type": "markdown",
   "metadata": {
    "slideshow": {
     "slide_type": "fragment"
    }
   },
   "source": [
    "* columns factored by a categorical column\n",
    "    * sns.violinplot\n",
    "    * sns.barplot\n",
    "\n",
    "* real-valued columns correlated with each other: \n",
    "    * sns.lineplot\n",
    "    * sns.scatterplot"
   ]
  },
  {
   "cell_type": "markdown",
   "metadata": {
    "slideshow": {
     "slide_type": "slide"
    }
   },
   "source": [
    "## How do I create a violin plot for multiple columns?"
   ]
  },
  {
   "cell_type": "markdown",
   "metadata": {
    "slideshow": {
     "slide_type": "fragment"
    }
   },
   "source": [
    "A violin plot can show multiple distributions, each a subset of a single column, factored (or grouped) by another.\n",
    "\n",
    "Exercise\n",
    "\n",
    "1. Use the violinplot() method with data = ti, x = 'survived', y = 'age' .\n",
    "\n",
    "2. What happens if you change 'age' for 'embark_town'? Note that there are three towns passengers embarked from and this is a categorical column of data unlike age which is numerical.\n",
    "\n",
    "Extension\n",
    "\n",
    "What does the distribution of ages look like for survivors vs non-survivors?"
   ]
  },
  {
   "cell_type": "code",
   "execution_count": null,
   "metadata": {},
   "outputs": [],
   "source": []
  },
  {
   "cell_type": "markdown",
   "metadata": {
    "slideshow": {
     "slide_type": "slide"
    }
   },
   "source": [
    "## How do I create a bar plor for multiple columns?"
   ]
  },
  {
   "cell_type": "markdown",
   "metadata": {
    "slideshow": {
     "slide_type": "fragment"
    }
   },
   "source": [
    "Bar plots are useful for discrete data or for showing, here, the means:"
   ]
  },
  {
   "cell_type": "code",
   "execution_count": 15,
   "metadata": {
    "slideshow": {
     "slide_type": "fragment"
    }
   },
   "outputs": [
    {
     "data": {
      "image/png": "[encoded data removed]",
      "text/plain": [
       "<Figure size 432x288 with 1 Axes>"
      ]
     },
     "metadata": {
      "needs_background": "light"
     },
     "output_type": "display_data"
    }
   ],
   "source": [
    "sns.barplot(data=ti, x='survived', y='age');\n"
   ]
  },
  {
   "cell_type": "markdown",
   "metadata": {
    "slideshow": {
     "slide_type": "slide"
    }
   },
   "source": [
    "## How do I create a line plot?\n",
    "\n",
    "Exercise:\n",
    "\n",
    "1. Create two python lists called xs and ys. The first should be the integers 1-5 inclusive. The second list: 1, 4.2, 8.9, 16.1, 25.2 .\n",
    "\n",
    "2. Use lineplot to visualise your two lists together.\n",
    "\n",
    "Note that line plots are typically used to visualise time series (when the x axis is measuring time)."
   ]
  },
  {
   "cell_type": "code",
   "execution_count": null,
   "metadata": {},
   "outputs": [],
   "source": []
  },
  {
   "cell_type": "markdown",
   "metadata": {
    "slideshow": {
     "slide_type": "slide"
    }
   },
   "source": [
    "## How do I layer plots?"
   ]
  },
  {
   "cell_type": "code",
   "execution_count": 20,
   "metadata": {
    "slideshow": {
     "slide_type": "fragment"
    }
   },
   "outputs": [
    {
     "data": {
      "image/png": "[encoded data removed]",
      "text/plain": [
       "<Figure size 432x288 with 1 Axes>"
      ]
     },
     "metadata": {
      "needs_background": "light"
     },
     "output_type": "display_data"
    }
   ],
   "source": [
    "sns.lineplot(xs, ys);\n",
    "sns.scatterplot(xs, ys, color=\"red\");"
   ]
  },
  {
   "cell_type": "markdown",
   "metadata": {
    "slideshow": {
     "slide_type": "slide"
    }
   },
   "source": [
    "## How do I create a scatter plot?"
   ]
  },
  {
   "cell_type": "code",
   "execution_count": 31,
   "metadata": {
    "slideshow": {
     "slide_type": "fragment"
    }
   },
   "outputs": [
    {
     "data": {
      "image/png": "[encoded data removed]",
      "text/plain": [
       "<Figure size 432x288 with 1 Axes>"
      ]
     },
     "metadata": {
      "needs_background": "light"
     },
     "output_type": "display_data"
    }
   ],
   "source": [
    "sns.scatterplot(data=ti, x='age', y='fare');\n"
   ]
  },
  {
   "cell_type": "markdown",
   "metadata": {
    "slideshow": {
     "slide_type": "slide"
    }
   },
   "source": [
    "### EXTRA: Tips\n",
    "* Often for the sake of exploratory analysis, using excel is both faster and leads to better visuals for smaller data sets\n",
    "* use `df.to_csv()` to save the data behind a visual\n",
    "* use excel to heavily customize the layout (and then, eg., copy powerpoint)\n",
    "* To create really engaging visuals for reporting (rather than just exploring) there are many good examples in the Seaborn documentation, e.g. for changing the colour palette for corporate colour schemes."
   ]
  },
  {
   "cell_type": "markdown",
   "metadata": {
    "slideshow": {
     "slide_type": "slide"
    }
   },
   "source": [
    "## Exercise (25 min)\n",
    "\n",
    "* review seaborn, try a few plots"
   ]
  },
  {
   "cell_type": "markdown",
   "metadata": {
    "slideshow": {
     "slide_type": "slide"
    }
   },
   "source": [
    "### Plot\n",
    "* Univariate (single-col) plots\n",
    "    * sns.distplot \n",
    "        * of survived\n",
    "    * sns.violinplot \n",
    "        * of fare\n",
    "    * sns.boxplot\n",
    "        * of age\n",
    "        \n",
    "* HINT: `data=df, x=..., y=...`"
   ]
  },
  {
   "cell_type": "markdown",
   "metadata": {
    "slideshow": {
     "slide_type": "slide"
    }
   },
   "source": [
    "* Multivariate (here: 2-col) plots\n",
    "    * sns.violinplot\n",
    "        * age by survived\n",
    "        * fare by survived\n",
    "    * sns.lineplot\n",
    "        * fare vs. age\n",
    "    * sns.scatterplot\n",
    "        * age vs. fare"
   ]
  },
  {
   "cell_type": "markdown",
   "metadata": {},
   "source": [
    "---"
   ]
  },
  {
   "cell_type": "markdown",
   "metadata": {
    "slideshow": {
     "slide_type": "slide"
    }
   },
   "source": [
    "## EXTRA: Continue...\n",
    "\n",
    "* What affected your chances of survival on the titanic?\n",
    "    * brainstorm & execute an analysis of the titanic dataset\n",
    "* Consider:\n",
    "    * old vs. young\n",
    "    * women vs. men\n",
    "    * women & children vs. men\n",
    "    * cheaper vs. expensive tickets\n",
    "    * deck\n",
    "    * class\n",
    "    * ...location...\n",
    "* Use seaborn plots (and pandas) to obtain helpful visuals which answer the investigatory question. "
   ]
  },
  {
   "cell_type": "markdown",
   "metadata": {},
   "source": [
    "## Extension\n",
    "\n",
    "Start to create your own Seaborn cheat sheet using the full official documentation:\n",
    "\n",
    "* Using the Seaborn resources: https://seaborn.pydata.org/"
   ]
  }
 ],
 "metadata": {
  "celltoolbar": "Slideshow",
  "kernelspec": {
   "display_name": "Python 3 (ipykernel)",
   "language": "python",
   "name": "python3"
  },
  "language_info": {
   "codemirror_mode": {
    "name": "ipython",
    "version": 3
   },
   "file_extension": ".py",
   "mimetype": "text/x-python",
   "name": "python",
   "nbconvert_exporter": "python",
   "pygments_lexer": "ipython3",
   "version": "3.9.12"
  }
 },
 "nbformat": 4,
 "nbformat_minor": 4
}
