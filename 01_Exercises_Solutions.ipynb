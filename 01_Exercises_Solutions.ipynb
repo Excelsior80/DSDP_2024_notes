{
 "cells": [
  {
   "cell_type": "markdown",
   "metadata": {
    "slideshow": {
     "slide_type": "slide"
    }
   },
   "source": [
    "# Introduction to Libraries in Python\n",
    "### Python for Data Science & Analysis"
   ]
  },
  {
   "cell_type": "markdown",
   "metadata": {
    "slideshow": {
     "slide_type": "slide"
    }
   },
   "source": [
    "## What are the key data science libaries?"
   ]
  },
  {
   "cell_type": "markdown",
   "metadata": {
    "slideshow": {
     "slide_type": "fragment"
    }
   },
   "source": [
    "Anaconda includes `python` and all of the following libraries. "
   ]
  },
  {
   "cell_type": "markdown",
   "metadata": {
    "slideshow": {
     "slide_type": "slide"
    }
   },
   "source": [
    "NumPy, Numerical Python: provides fast numerical arrays. \n",
    "\n",
    "Exercise: load the numpy library with the typical alias:"
   ]
  },
  {
   "cell_type": "code",
   "execution_count": 1,
   "metadata": {
    "slideshow": {
     "slide_type": "fragment"
    }
   },
   "outputs": [],
   "source": [
    "#Solution\n",
    "import numpy as np"
   ]
  },
  {
   "cell_type": "markdown",
   "metadata": {
    "slideshow": {
     "slide_type": "fragment"
    }
   },
   "source": [
    "Pandas: fast tables, based on numpy.\n",
    "\n",
    "Exercise: load the pandas library with the typical alias:"
   ]
  },
  {
   "cell_type": "code",
   "execution_count": 2,
   "metadata": {
    "slideshow": {
     "slide_type": "fragment"
    }
   },
   "outputs": [],
   "source": [
    "#Solution\n",
    "import pandas as pd"
   ]
  },
  {
   "cell_type": "markdown",
   "metadata": {
    "slideshow": {
     "slide_type": "slide"
    }
   },
   "source": [
    "Seaborn: Simple visualization library.\n",
    "\n",
    "Exercise: load the seaborn library with the typical alias:"
   ]
  },
  {
   "cell_type": "code",
   "execution_count": 3,
   "metadata": {
    "slideshow": {
     "slide_type": "fragment"
    }
   },
   "outputs": [],
   "source": [
    "#Solution\n",
    "import seaborn as sns"
   ]
  },
  {
   "cell_type": "markdown",
   "metadata": {
    "slideshow": {
     "slide_type": "fragment"
    }
   },
   "source": [
    "Matplotlib: more customizable visulization library (seaborn uses this). \n",
    "\n",
    "Exercise: load the matplotlib.pyplot library with the typical alias:"
   ]
  },
  {
   "cell_type": "code",
   "execution_count": 4,
   "metadata": {
    "slideshow": {
     "slide_type": "fragment"
    }
   },
   "outputs": [],
   "source": [
    "#Solution\n",
    "import matplotlib.pyplot as plt"
   ]
  },
  {
   "cell_type": "markdown",
   "metadata": {
    "slideshow": {
     "slide_type": "slide"
    }
   },
   "source": [
    "Sci-Kit Learn: simple machine learning library.\n",
    "\n",
    "Exercise: load the sklearn library with the typical alias:"
   ]
  },
  {
   "cell_type": "code",
   "execution_count": 5,
   "metadata": {
    "slideshow": {
     "slide_type": "fragment"
    }
   },
   "outputs": [],
   "source": [
    "#Solution\n",
    "import sklearn as sk"
   ]
  },
  {
   "cell_type": "markdown",
   "metadata": {
    "slideshow": {
     "slide_type": "fragment"
    }
   },
   "source": [
    "Tensorflow: a library for running mathematical functions and tracking a gradient as you do so. This is mostly used for neural networks. \n",
    "\n",
    "(Aside: ie., it keeps track of how the loss changes, for almost any (complex) mathematical function). \n",
    "\n",
    "Exercise: load the tensorflow library with the typical alias:"
   ]
  },
  {
   "cell_type": "code",
   "execution_count": 6,
   "metadata": {
    "slideshow": {
     "slide_type": "fragment"
    }
   },
   "outputs": [],
   "source": [
    "#Solution\n",
    "import tensorflow as tf"
   ]
  },
  {
   "cell_type": "markdown",
   "metadata": {
    "slideshow": {
     "slide_type": "slide"
    }
   },
   "source": [
    "NetworkX: (Social) Network Analysis\n",
    "\n",
    "Exercise: load the networkx library with the typical alias:"
   ]
  },
  {
   "cell_type": "code",
   "execution_count": 7,
   "metadata": {
    "slideshow": {
     "slide_type": "fragment"
    }
   },
   "outputs": [],
   "source": [
    "#Solution\n",
    "import networkx as nx"
   ]
  },
  {
   "cell_type": "markdown",
   "metadata": {
    "slideshow": {
     "slide_type": "fragment"
    }
   },
   "source": [
    "## How do I install a python package? \n",
    "\n",
    "* package = unified libraries"
   ]
  },
  {
   "cell_type": "markdown",
   "metadata": {},
   "source": [
    "Exercise: install networkx. You should see that this is already installed (Requirement already satisfied)."
   ]
  },
  {
   "cell_type": "code",
   "execution_count": 8,
   "metadata": {
    "slideshow": {
     "slide_type": "fragment"
    }
   },
   "outputs": [
    {
     "name": "stdout",
     "output_type": "stream",
     "text": [
      "Requirement already satisfied: networkx in c:\\users\\sjcex\\anaconda3\\lib\\site-packages (2.8.8)\n"
     ]
    },
    {
     "name": "stderr",
     "output_type": "stream",
     "text": [
      "WARNING: Ignoring invalid distribution -illow (c:\\users\\sjcex\\appdata\\roaming\\python\\python38\\site-packages)\n",
      "WARNING: Ignoring invalid distribution -illow (c:\\users\\sjcex\\appdata\\roaming\\python\\python38\\site-packages)\n",
      "WARNING: Ignoring invalid distribution -rotobuf (c:\\users\\sjcex\\anaconda3\\lib\\site-packages)\n",
      "WARNING: Ignoring invalid distribution -illow (c:\\users\\sjcex\\appdata\\roaming\\python\\python38\\site-packages)\n",
      "WARNING: Ignoring invalid distribution -rotobuf (c:\\users\\sjcex\\anaconda3\\lib\\site-packages)\n",
      "WARNING: Ignoring invalid distribution -illow (c:\\users\\sjcex\\appdata\\roaming\\python\\python38\\site-packages)\n",
      "WARNING: Ignoring invalid distribution -illow (c:\\users\\sjcex\\appdata\\roaming\\python\\python38\\site-packages)\n",
      "WARNING: Ignoring invalid distribution -illow (c:\\users\\sjcex\\appdata\\roaming\\python\\python38\\site-packages)\n",
      "\n",
      "[notice] A new release of pip is available: 23.1.1 -> 23.3.2\n",
      "[notice] To update, run: python.exe -m pip install --upgrade pip\n"
     ]
    }
   ],
   "source": [
    "#Solution\n",
    "!pip install networkx"
   ]
  },
  {
   "cell_type": "markdown",
   "metadata": {
    "slideshow": {
     "slide_type": "slide"
    }
   },
   "source": [
    "## Why do you need to use libraries?"
   ]
  },
  {
   "cell_type": "markdown",
   "metadata": {
    "slideshow": {
     "slide_type": "fragment"
    }
   },
   "source": [
    "eg., NumPy provies \"fast arrays\"... why not just use lists?\n",
    "\n",
    "Python is **very** slow. So any syntax (keywords, data structures, etc.) are **slow**. \n",
    "\n",
    "How can NumPy be faster? Isn't numpy written in python? **NO!!**\n",
    "\n",
    "Almost all the code data scientists (, analysts) are using is not written in python. \n",
    "\n",
    "Exercise: repeat the example from the slides for yourself:"
   ]
  },
  {
   "cell_type": "code",
   "execution_count": 9,
   "metadata": {
    "slideshow": {
     "slide_type": "slide"
    }
   },
   "outputs": [
    {
     "data": {
      "text/plain": [
       "array([-0.11925175,  7.36898814,  8.93214173,  0.4227366 , -7.30693791,\n",
       "        2.01778611, -8.71734149, -1.75316293, -0.38634429, -7.97387441])"
      ]
     },
     "execution_count": 9,
     "metadata": {},
     "output_type": "execute_result"
    }
   ],
   "source": [
    "np.random.normal(0, 5, 10)"
   ]
  },
  {
   "cell_type": "code",
   "execution_count": 10,
   "metadata": {
    "scrolled": true,
    "slideshow": {
     "slide_type": "fragment"
    }
   },
   "outputs": [
    {
     "data": {
      "text/plain": [
       "-0.3097504071008172"
      ]
     },
     "execution_count": 10,
     "metadata": {},
     "output_type": "execute_result"
    }
   ],
   "source": [
    "x = np.random.normal(0, 5, 10)\n",
    "x.mean()"
   ]
  },
  {
   "cell_type": "markdown",
   "metadata": {
    "slideshow": {
     "slide_type": "fragment"
    }
   },
   "source": [
    "The `normal` function, and the `mean` function are written in either `FORTRAN` or `C` -- different languages which are much (, much) faster. \n",
    "\n",
    "You use a python name, eg., `x.mean`, but actually (compiled) `FORTRAN` code is being run. "
   ]
  },
  {
   "cell_type": "code",
   "execution_count": 11,
   "metadata": {
    "slideshow": {
     "slide_type": "slide"
    }
   },
   "outputs": [
    {
     "name": "stdout",
     "output_type": "stream",
     "text": [
      "308 µs ± 9.88 µs per loop (mean ± std. dev. of 7 runs, 1000 loops each)\n"
     ]
    }
   ],
   "source": [
    "%%timeit\n",
    "\n",
    "x = np.random.normal(0, 5, 10_000) # <- happening elsewhere\n",
    "x.mean()# not python! "
   ]
  },
  {
   "cell_type": "markdown",
   "metadata": {},
   "source": [
    "Exercise: \n",
    "1) Import the random and statistics packages.\n",
    "\n",
    "2) Create an empty list named x. Hint: use square brackets to creat a list in python.\n",
    "\n",
    "3) Use a for loop 10000 times with these lines of code:\n",
    "\n",
    "randNum = 5\\*random.random()\n",
    "\n",
    "x.append(randNum)\n",
    "\n",
    "4) Explain what the loop creates.\n",
    "\n",
    "5) Use statistics.mean() with the list as the argument to calculate the mean of your random numbers.\n",
    "\n",
    "6) Use %%timeit at the start of your code (ensure your previous answers in this exercise are in the same code block)\n",
    "\n",
    "7) Which was faster and by how much? C/Fortran: NumPy; or Python: random and statistics."
   ]
  },
  {
   "cell_type": "code",
   "execution_count": 13,
   "metadata": {
    "slideshow": {
     "slide_type": "fragment"
    }
   },
   "outputs": [
    {
     "name": "stdout",
     "output_type": "stream",
     "text": [
      "12.4 ms ± 246 µs per loop (mean ± std. dev. of 7 runs, 100 loops each)\n"
     ]
    }
   ],
   "source": [
    "%%timeit \n",
    "\n",
    "import random # written in python\n",
    "import statistics # written in python\n",
    "\n",
    "# list <- python data structure\n",
    "x = []\n",
    "\n",
    "# for keyword <- python loop\n",
    "for i in range(10_000):\n",
    "    # .append\n",
    "    randNum = 5*random.random() #Generates a random number with a mean of 0 and a standard deviation of 1, then multiplies by 5.\n",
    "    x.append( randNum ) # using python code to create a list of all the random numbers. As the loop continues they are appended to the list\n",
    "    \n",
    "statistics.mean(x) # using python code"
   ]
  },
  {
   "cell_type": "markdown",
   "metadata": {
    "slideshow": {
     "slide_type": "fragment"
    }
   },
   "source": [
    "#Solution\n",
    "\n",
    "Python is >30x slower"
   ]
  },
  {
   "cell_type": "code",
   "execution_count": 14,
   "metadata": {
    "slideshow": {
     "slide_type": "fragment"
    }
   },
   "outputs": [
    {
     "data": {
      "text/plain": [
       "31.570247933884296"
      ]
     },
     "execution_count": 14,
     "metadata": {},
     "output_type": "execute_result"
    }
   ],
   "source": [
    "#Solution\n",
    "7.64 / 0.242"
   ]
  },
  {
   "cell_type": "markdown",
   "metadata": {
    "slideshow": {
     "slide_type": "fragment"
    }
   },
   "source": [
    "However, note that the numpy code is likely to be the fastest you can possibly write (ie., its unlikely you will write faster in any other language). "
   ]
  },
  {
   "cell_type": "markdown",
   "metadata": {
    "slideshow": {
     "slide_type": "slide"
    }
   },
   "source": [
    "## How do the libraries work together?\n",
    "\n",
    "* NumPy \n",
    "    * arrays\n",
    "* Pandas\n",
    "    * tables (, data files, ...)\n",
    "* Seaborn\n",
    "    * visualization\n",
    "* Sklearn\n",
    "    * machine learning"
   ]
  },
  {
   "cell_type": "markdown",
   "metadata": {
    "slideshow": {
     "slide_type": "slide"
    }
   },
   "source": [
    "### 1. We use Pandas to Load a Dataset into a Table"
   ]
  },
  {
   "cell_type": "markdown",
   "metadata": {
    "slideshow": {
     "slide_type": "fragment"
    }
   },
   "source": [
    "`read_csv` loads a csv file into a *DataFrame* (aka. a table). \n",
    "\n",
    "Exercise:\n",
    "\n",
    "1) Use pd.readcsv() with the relative filepath as a string (in quotes) for the loan_train.csv file. Save this as loan.\n",
    "\n",
    "2) Use len() to calculate the length of loan (The number of rows).\n"
   ]
  },
  {
   "cell_type": "code",
   "execution_count": 15,
   "metadata": {
    "slideshow": {
     "slide_type": "fragment"
    }
   },
   "outputs": [
    {
     "data": {
      "text/plain": [
       "856"
      ]
     },
     "execution_count": 15,
     "metadata": {},
     "output_type": "execute_result"
    }
   ],
   "source": [
    "#Solution\n",
    "loan = pd.read_csv('datasets/loan_data.csv')\n",
    "\n",
    "len(loan)"
   ]
  },
  {
   "cell_type": "markdown",
   "metadata": {
    "slideshow": {
     "slide_type": "slide"
    }
   },
   "source": [
    "### 2. Use Pandas to Explore & Prepare Data\n",
    "\n",
    "* Look at samples\n",
    "* Removing missing data\n",
    "\n",
    "Exercise:\n",
    "\n",
    "1) Use the dataframe method dropna() to remove rows that contain an 'NA' (used when the data is not available). Save this as loan (This will write over your original dataframe, but your csv will remain untouched since the dataframe is a copy).\n",
    "\n",
    "Hint: loan.dropna()\n",
    "\n",
    "2) Use the dataframe method sample() with an appropriate number as an argument to view a sample of the rows in your dataframe."
   ]
  },
  {
   "cell_type": "code",
   "execution_count": 16,
   "metadata": {
    "slideshow": {
     "slide_type": "fragment"
    }
   },
   "outputs": [
    {
     "data": {
      "text/html": [
       "<div>\n",
       "<style scoped>\n",
       "    .dataframe tbody tr th:only-of-type {\n",
       "        vertical-align: middle;\n",
       "    }\n",
       "\n",
       "    .dataframe tbody tr th {\n",
       "        vertical-align: top;\n",
       "    }\n",
       "\n",
       "    .dataframe thead th {\n",
       "        text-align: right;\n",
       "    }\n",
       "</style>\n",
       "<table border=\"1\" class=\"dataframe\">\n",
       "  <thead>\n",
       "    <tr style=\"text-align: right;\">\n",
       "      <th></th>\n",
       "      <th>ID</th>\n",
       "      <th>Income</th>\n",
       "      <th>Term</th>\n",
       "      <th>Balance</th>\n",
       "      <th>Debt</th>\n",
       "      <th>Score</th>\n",
       "      <th>Default</th>\n",
       "    </tr>\n",
       "  </thead>\n",
       "  <tbody>\n",
       "    <tr>\n",
       "      <th>57</th>\n",
       "      <td>296</td>\n",
       "      <td>21200.0</td>\n",
       "      <td>Short Term</td>\n",
       "      <td>1020.0</td>\n",
       "      <td>984.0</td>\n",
       "      <td>250.0</td>\n",
       "      <td>False</td>\n",
       "    </tr>\n",
       "    <tr>\n",
       "      <th>409</th>\n",
       "      <td>403</td>\n",
       "      <td>25700.0</td>\n",
       "      <td>Long Term</td>\n",
       "      <td>1110.0</td>\n",
       "      <td>964.0</td>\n",
       "      <td>330.0</td>\n",
       "      <td>False</td>\n",
       "    </tr>\n",
       "  </tbody>\n",
       "</table>\n",
       "</div>"
      ],
      "text/plain": [
       "      ID   Income        Term  Balance   Debt  Score  Default\n",
       "57   296  21200.0  Short Term   1020.0  984.0  250.0    False\n",
       "409  403  25700.0   Long Term   1110.0  964.0  330.0    False"
      ]
     },
     "execution_count": 16,
     "metadata": {},
     "output_type": "execute_result"
    }
   ],
   "source": [
    "#Solution\n",
    "loan = loan.dropna()\n",
    "loan.sample(2)"
   ]
  },
  {
   "cell_type": "markdown",
   "metadata": {
    "slideshow": {
     "slide_type": "slide"
    }
   },
   "source": [
    "### 3. Choose Learning Columns & Extract as Fast NumPy arrays from Table\n",
    "\n",
    "Exercise:\n",
    "\n",
    "1) Run the below code and explain what it accomplishes"
   ]
  },
  {
   "cell_type": "code",
   "execution_count": 17,
   "metadata": {
    "slideshow": {
     "slide_type": "fragment"
    }
   },
   "outputs": [],
   "source": [
    "data = loan[['Balance', 'Income']].to_numpy()\n",
    "\n",
    "x = data[:, 0:1]\n",
    "y = data[:, 1]"
   ]
  },
  {
   "cell_type": "code",
   "execution_count": 18,
   "metadata": {
    "slideshow": {
     "slide_type": "fragment"
    }
   },
   "outputs": [
    {
     "data": {
      "text/plain": [
       "array([[1460.],\n",
       "       [ 890.],\n",
       "       [ 880.],\n",
       "       [1260.],\n",
       "       [1540.],\n",
       "       [1200.],\n",
       "       [1470.],\n",
       "       [ 720.],\n",
       "       [1130.],\n",
       "       [ 910.],\n",
       "       [ 820.],\n",
       "       [1300.],\n",
       "       [1060.],\n",
       "       [ 970.],\n",
       "       [ 610.],\n",
       "       [1020.],\n",
       "       [ 940.],\n",
       "       [1140.],\n",
       "       [ 810.],\n",
       "       [1030.],\n",
       "       [1260.],\n",
       "       [ 730.],\n",
       "       [ 780.],\n",
       "       [1480.],\n",
       "       [1090.],\n",
       "       [1260.],\n",
       "       [ 630.],\n",
       "       [ 800.],\n",
       "       [ 950.],\n",
       "       [ 940.],\n",
       "       [1060.],\n",
       "       [ 730.],\n",
       "       [1220.],\n",
       "       [1060.],\n",
       "       [ 800.],\n",
       "       [ 800.],\n",
       "       [ 580.],\n",
       "       [ 880.],\n",
       "       [ 940.],\n",
       "       [1640.],\n",
       "       [1110.],\n",
       "       [ 920.],\n",
       "       [ 920.],\n",
       "       [ 900.],\n",
       "       [ 640.],\n",
       "       [1360.],\n",
       "       [ 830.],\n",
       "       [ 860.],\n",
       "       [ 520.],\n",
       "       [1220.],\n",
       "       [ 640.],\n",
       "       [1360.],\n",
       "       [1040.],\n",
       "       [1080.],\n",
       "       [1020.],\n",
       "       [1070.],\n",
       "       [1200.],\n",
       "       [1070.],\n",
       "       [1180.],\n",
       "       [ 900.],\n",
       "       [ 820.],\n",
       "       [ 870.],\n",
       "       [1260.],\n",
       "       [ 390.],\n",
       "       [1290.],\n",
       "       [1140.],\n",
       "       [1090.],\n",
       "       [ 630.],\n",
       "       [ 510.],\n",
       "       [ 900.],\n",
       "       [ 930.],\n",
       "       [ 620.],\n",
       "       [1160.],\n",
       "       [1630.],\n",
       "       [1090.],\n",
       "       [ 950.],\n",
       "       [ 650.],\n",
       "       [ 970.],\n",
       "       [1170.],\n",
       "       [1160.],\n",
       "       [1640.],\n",
       "       [ 750.],\n",
       "       [ 830.],\n",
       "       [1210.],\n",
       "       [ 990.],\n",
       "       [1010.],\n",
       "       [1370.],\n",
       "       [1040.],\n",
       "       [1170.],\n",
       "       [ 980.],\n",
       "       [1080.],\n",
       "       [1550.],\n",
       "       [1380.],\n",
       "       [1050.],\n",
       "       [ 910.],\n",
       "       [1010.],\n",
       "       [ 630.],\n",
       "       [ 880.],\n",
       "       [1220.],\n",
       "       [ 850.],\n",
       "       [ 910.],\n",
       "       [ 910.],\n",
       "       [ 850.],\n",
       "       [ 990.],\n",
       "       [1300.],\n",
       "       [1230.],\n",
       "       [1190.],\n",
       "       [1070.],\n",
       "       [1470.],\n",
       "       [ 690.],\n",
       "       [ 900.],\n",
       "       [1030.],\n",
       "       [1230.],\n",
       "       [ 760.],\n",
       "       [ 700.],\n",
       "       [ 990.],\n",
       "       [1300.],\n",
       "       [1410.],\n",
       "       [1210.],\n",
       "       [1200.],\n",
       "       [1210.],\n",
       "       [ 910.],\n",
       "       [ 830.],\n",
       "       [1010.],\n",
       "       [1310.],\n",
       "       [1440.],\n",
       "       [ 970.],\n",
       "       [ 950.],\n",
       "       [1010.],\n",
       "       [1940.],\n",
       "       [1340.],\n",
       "       [1120.],\n",
       "       [1000.],\n",
       "       [ 730.],\n",
       "       [1000.],\n",
       "       [ 140.],\n",
       "       [1200.],\n",
       "       [1310.],\n",
       "       [ 640.],\n",
       "       [1140.],\n",
       "       [ 950.],\n",
       "       [ 770.],\n",
       "       [ 740.],\n",
       "       [1300.],\n",
       "       [1040.],\n",
       "       [1050.],\n",
       "       [1210.],\n",
       "       [1130.],\n",
       "       [1240.],\n",
       "       [1260.],\n",
       "       [ 690.],\n",
       "       [1030.],\n",
       "       [1020.],\n",
       "       [ 590.],\n",
       "       [1070.],\n",
       "       [ 710.],\n",
       "       [ 860.],\n",
       "       [ 860.],\n",
       "       [ 610.],\n",
       "       [1060.],\n",
       "       [1020.],\n",
       "       [1490.],\n",
       "       [1170.],\n",
       "       [ 890.],\n",
       "       [1020.],\n",
       "       [ 780.],\n",
       "       [1080.],\n",
       "       [1310.],\n",
       "       [1190.],\n",
       "       [ 980.],\n",
       "       [ 540.],\n",
       "       [ 830.],\n",
       "       [ 690.],\n",
       "       [1070.],\n",
       "       [1480.],\n",
       "       [ 940.],\n",
       "       [1040.],\n",
       "       [ 540.],\n",
       "       [1370.],\n",
       "       [1240.],\n",
       "       [ 650.],\n",
       "       [1440.],\n",
       "       [ 480.],\n",
       "       [1170.],\n",
       "       [ 800.],\n",
       "       [1100.],\n",
       "       [1080.],\n",
       "       [1210.],\n",
       "       [ 890.],\n",
       "       [ 830.],\n",
       "       [ 690.],\n",
       "       [1090.],\n",
       "       [ 790.],\n",
       "       [1070.],\n",
       "       [ 830.],\n",
       "       [1030.],\n",
       "       [ 570.],\n",
       "       [ 900.],\n",
       "       [ 980.],\n",
       "       [1110.],\n",
       "       [ 740.],\n",
       "       [1350.],\n",
       "       [1000.],\n",
       "       [ 600.],\n",
       "       [ 990.],\n",
       "       [1430.],\n",
       "       [ 890.],\n",
       "       [1030.],\n",
       "       [1180.],\n",
       "       [ 840.],\n",
       "       [ 620.],\n",
       "       [ 870.],\n",
       "       [1090.],\n",
       "       [ 650.],\n",
       "       [ 990.],\n",
       "       [ 930.],\n",
       "       [1080.],\n",
       "       [ 660.],\n",
       "       [1160.],\n",
       "       [ 640.],\n",
       "       [ 840.],\n",
       "       [ 870.],\n",
       "       [ 580.],\n",
       "       [ 720.],\n",
       "       [ 920.],\n",
       "       [1050.],\n",
       "       [ 820.],\n",
       "       [ 830.],\n",
       "       [1560.],\n",
       "       [1160.],\n",
       "       [1010.],\n",
       "       [ 930.],\n",
       "       [1250.],\n",
       "       [ 820.],\n",
       "       [1190.],\n",
       "       [ 810.],\n",
       "       [ 750.],\n",
       "       [ 930.],\n",
       "       [1240.],\n",
       "       [ 950.],\n",
       "       [ 700.],\n",
       "       [ 840.],\n",
       "       [ 610.],\n",
       "       [1010.],\n",
       "       [ 830.],\n",
       "       [1130.],\n",
       "       [1090.],\n",
       "       [1470.],\n",
       "       [1080.],\n",
       "       [1140.],\n",
       "       [1100.],\n",
       "       [1110.],\n",
       "       [ 730.],\n",
       "       [ 470.],\n",
       "       [1020.],\n",
       "       [1220.],\n",
       "       [1000.],\n",
       "       [1130.],\n",
       "       [1130.],\n",
       "       [ 660.],\n",
       "       [ 930.],\n",
       "       [1170.],\n",
       "       [1080.],\n",
       "       [ 910.],\n",
       "       [1200.],\n",
       "       [1470.],\n",
       "       [1440.],\n",
       "       [ 980.],\n",
       "       [1300.],\n",
       "       [1420.],\n",
       "       [1170.],\n",
       "       [ 750.],\n",
       "       [ 860.],\n",
       "       [1110.],\n",
       "       [ 770.],\n",
       "       [1130.],\n",
       "       [1360.],\n",
       "       [ 670.],\n",
       "       [ 990.],\n",
       "       [ 630.],\n",
       "       [ 990.],\n",
       "       [ 920.],\n",
       "       [ 840.],\n",
       "       [1080.],\n",
       "       [1080.],\n",
       "       [1240.],\n",
       "       [ 970.],\n",
       "       [1010.],\n",
       "       [1270.],\n",
       "       [ 810.],\n",
       "       [1380.],\n",
       "       [1040.],\n",
       "       [1180.],\n",
       "       [1120.],\n",
       "       [1220.],\n",
       "       [1000.],\n",
       "       [1080.],\n",
       "       [1120.],\n",
       "       [ 620.],\n",
       "       [1050.],\n",
       "       [ 660.],\n",
       "       [1210.],\n",
       "       [1000.],\n",
       "       [1240.],\n",
       "       [ 530.],\n",
       "       [ 920.],\n",
       "       [ 850.],\n",
       "       [ 530.],\n",
       "       [ 710.],\n",
       "       [1130.],\n",
       "       [1380.],\n",
       "       [1070.],\n",
       "       [1500.],\n",
       "       [ 850.],\n",
       "       [1640.],\n",
       "       [ 830.],\n",
       "       [ 610.],\n",
       "       [ 790.],\n",
       "       [ 900.],\n",
       "       [ 760.],\n",
       "       [1300.],\n",
       "       [1390.],\n",
       "       [ 540.],\n",
       "       [ 640.],\n",
       "       [1080.],\n",
       "       [1230.],\n",
       "       [1200.],\n",
       "       [ 770.],\n",
       "       [1170.],\n",
       "       [1000.],\n",
       "       [ 790.],\n",
       "       [1130.],\n",
       "       [1270.],\n",
       "       [ 620.],\n",
       "       [ 620.],\n",
       "       [ 940.],\n",
       "       [ 940.],\n",
       "       [1120.],\n",
       "       [ 750.],\n",
       "       [1080.],\n",
       "       [ 640.],\n",
       "       [ 920.],\n",
       "       [ 570.],\n",
       "       [1210.],\n",
       "       [1130.],\n",
       "       [1130.],\n",
       "       [1200.],\n",
       "       [ 760.],\n",
       "       [ 940.],\n",
       "       [1030.],\n",
       "       [ 920.],\n",
       "       [1520.],\n",
       "       [1060.],\n",
       "       [ 540.],\n",
       "       [ 900.],\n",
       "       [ 750.],\n",
       "       [1050.],\n",
       "       [ 760.],\n",
       "       [ 750.],\n",
       "       [ 870.],\n",
       "       [1230.],\n",
       "       [1360.],\n",
       "       [1190.],\n",
       "       [ 860.],\n",
       "       [ 890.],\n",
       "       [1220.],\n",
       "       [1220.],\n",
       "       [1260.],\n",
       "       [1010.],\n",
       "       [1290.],\n",
       "       [1090.],\n",
       "       [1070.],\n",
       "       [1110.],\n",
       "       [ 990.],\n",
       "       [ 630.],\n",
       "       [1290.],\n",
       "       [1470.],\n",
       "       [ 900.],\n",
       "       [ 640.],\n",
       "       [ 880.],\n",
       "       [ 830.],\n",
       "       [1120.],\n",
       "       [ 720.],\n",
       "       [1640.],\n",
       "       [1190.],\n",
       "       [ 550.],\n",
       "       [1050.],\n",
       "       [ 880.],\n",
       "       [1160.],\n",
       "       [1010.],\n",
       "       [1130.],\n",
       "       [1300.],\n",
       "       [ 780.],\n",
       "       [ 930.],\n",
       "       [1360.],\n",
       "       [ 940.],\n",
       "       [ 900.],\n",
       "       [1110.],\n",
       "       [1180.],\n",
       "       [1480.],\n",
       "       [1290.],\n",
       "       [ 860.],\n",
       "       [1410.],\n",
       "       [1230.],\n",
       "       [ 710.],\n",
       "       [1160.],\n",
       "       [1430.],\n",
       "       [1040.],\n",
       "       [1280.],\n",
       "       [ 720.],\n",
       "       [1100.],\n",
       "       [ 790.],\n",
       "       [ 530.],\n",
       "       [ 640.],\n",
       "       [1420.],\n",
       "       [ 940.],\n",
       "       [1230.],\n",
       "       [1020.],\n",
       "       [ 980.],\n",
       "       [ 960.],\n",
       "       [ 740.],\n",
       "       [ 910.],\n",
       "       [1130.],\n",
       "       [ 950.],\n",
       "       [1610.],\n",
       "       [1270.],\n",
       "       [ 950.],\n",
       "       [1060.],\n",
       "       [1410.],\n",
       "       [1110.],\n",
       "       [1080.],\n",
       "       [ 610.],\n",
       "       [1130.],\n",
       "       [ 390.],\n",
       "       [ 870.],\n",
       "       [ 890.],\n",
       "       [ 970.],\n",
       "       [1140.],\n",
       "       [1040.],\n",
       "       [ 850.],\n",
       "       [1270.],\n",
       "       [1650.],\n",
       "       [ 880.],\n",
       "       [ 830.],\n",
       "       [ 780.],\n",
       "       [ 890.],\n",
       "       [1150.],\n",
       "       [ 800.],\n",
       "       [ 910.],\n",
       "       [ 690.],\n",
       "       [1150.],\n",
       "       [1050.],\n",
       "       [ 620.],\n",
       "       [1310.],\n",
       "       [1150.],\n",
       "       [1100.],\n",
       "       [ 940.],\n",
       "       [ 930.],\n",
       "       [1280.],\n",
       "       [1450.],\n",
       "       [ 680.],\n",
       "       [1390.],\n",
       "       [ 490.],\n",
       "       [ 830.],\n",
       "       [1090.],\n",
       "       [ 870.],\n",
       "       [1190.],\n",
       "       [1460.],\n",
       "       [1090.],\n",
       "       [1400.],\n",
       "       [ 640.],\n",
       "       [1230.],\n",
       "       [ 830.],\n",
       "       [1190.],\n",
       "       [1020.],\n",
       "       [ 860.],\n",
       "       [ 910.],\n",
       "       [ 360.],\n",
       "       [ 360.],\n",
       "       [1130.],\n",
       "       [1110.],\n",
       "       [ 720.],\n",
       "       [1330.],\n",
       "       [ 710.],\n",
       "       [1050.],\n",
       "       [1070.],\n",
       "       [1070.],\n",
       "       [1450.],\n",
       "       [ 910.],\n",
       "       [1040.],\n",
       "       [1240.],\n",
       "       [1380.],\n",
       "       [1270.],\n",
       "       [ 500.],\n",
       "       [ 720.],\n",
       "       [1530.],\n",
       "       [1190.],\n",
       "       [ 890.],\n",
       "       [1250.],\n",
       "       [1040.],\n",
       "       [1390.],\n",
       "       [1460.],\n",
       "       [1160.],\n",
       "       [1210.],\n",
       "       [1120.],\n",
       "       [1140.],\n",
       "       [1410.],\n",
       "       [1330.],\n",
       "       [1570.],\n",
       "       [1650.],\n",
       "       [1490.],\n",
       "       [1320.],\n",
       "       [1410.],\n",
       "       [1420.],\n",
       "       [1590.],\n",
       "       [1570.],\n",
       "       [1810.],\n",
       "       [1700.],\n",
       "       [1070.],\n",
       "       [1820.],\n",
       "       [1110.],\n",
       "       [ 780.],\n",
       "       [ 530.],\n",
       "       [1620.],\n",
       "       [1710.],\n",
       "       [1240.],\n",
       "       [1720.],\n",
       "       [ 970.],\n",
       "       [1790.],\n",
       "       [ 760.],\n",
       "       [ 910.],\n",
       "       [1210.],\n",
       "       [1270.],\n",
       "       [1480.],\n",
       "       [1090.],\n",
       "       [1010.],\n",
       "       [1300.],\n",
       "       [1560.],\n",
       "       [1700.],\n",
       "       [1400.],\n",
       "       [1250.],\n",
       "       [1390.],\n",
       "       [ 970.],\n",
       "       [1210.],\n",
       "       [1290.],\n",
       "       [1030.],\n",
       "       [1190.],\n",
       "       [1290.],\n",
       "       [1240.],\n",
       "       [1300.],\n",
       "       [1090.],\n",
       "       [1430.],\n",
       "       [1190.],\n",
       "       [1150.],\n",
       "       [ 920.],\n",
       "       [1320.],\n",
       "       [1350.],\n",
       "       [1780.],\n",
       "       [1100.],\n",
       "       [1350.],\n",
       "       [1410.],\n",
       "       [1120.],\n",
       "       [1570.],\n",
       "       [1290.],\n",
       "       [1120.],\n",
       "       [1430.],\n",
       "       [1720.],\n",
       "       [1020.],\n",
       "       [1160.],\n",
       "       [1060.],\n",
       "       [1140.],\n",
       "       [1740.],\n",
       "       [ 860.],\n",
       "       [1000.],\n",
       "       [1230.],\n",
       "       [1540.],\n",
       "       [ 990.],\n",
       "       [1750.],\n",
       "       [1150.],\n",
       "       [1780.],\n",
       "       [1760.],\n",
       "       [1020.],\n",
       "       [1160.],\n",
       "       [1720.],\n",
       "       [1450.],\n",
       "       [1140.],\n",
       "       [1780.],\n",
       "       [1120.],\n",
       "       [1460.],\n",
       "       [ 740.],\n",
       "       [ 690.],\n",
       "       [1030.],\n",
       "       [1410.],\n",
       "       [1210.],\n",
       "       [1020.],\n",
       "       [1790.],\n",
       "       [ 890.],\n",
       "       [1540.],\n",
       "       [1630.],\n",
       "       [1420.],\n",
       "       [ 960.],\n",
       "       [1080.],\n",
       "       [1330.],\n",
       "       [1170.],\n",
       "       [1510.],\n",
       "       [1210.],\n",
       "       [1410.],\n",
       "       [1120.],\n",
       "       [1100.],\n",
       "       [1280.],\n",
       "       [1710.],\n",
       "       [1560.],\n",
       "       [1400.],\n",
       "       [1400.],\n",
       "       [1130.],\n",
       "       [1330.],\n",
       "       [1260.],\n",
       "       [1280.],\n",
       "       [ 770.],\n",
       "       [ 900.],\n",
       "       [ 910.],\n",
       "       [1060.],\n",
       "       [1620.],\n",
       "       [1640.],\n",
       "       [1660.],\n",
       "       [1250.],\n",
       "       [ 930.],\n",
       "       [ 970.],\n",
       "       [1590.],\n",
       "       [1220.],\n",
       "       [1060.],\n",
       "       [1560.],\n",
       "       [1220.],\n",
       "       [1030.],\n",
       "       [1370.],\n",
       "       [1430.],\n",
       "       [ 760.],\n",
       "       [ 860.],\n",
       "       [ 880.],\n",
       "       [1510.],\n",
       "       [1180.],\n",
       "       [1650.],\n",
       "       [1240.],\n",
       "       [ 910.],\n",
       "       [ 920.],\n",
       "       [1420.],\n",
       "       [ 700.],\n",
       "       [1630.],\n",
       "       [1640.],\n",
       "       [ 980.],\n",
       "       [1170.],\n",
       "       [1020.],\n",
       "       [1210.],\n",
       "       [1540.],\n",
       "       [1550.],\n",
       "       [1800.],\n",
       "       [1460.],\n",
       "       [1300.],\n",
       "       [1700.],\n",
       "       [1240.],\n",
       "       [ 840.],\n",
       "       [1370.],\n",
       "       [ 840.],\n",
       "       [1850.],\n",
       "       [1710.],\n",
       "       [1150.],\n",
       "       [ 640.],\n",
       "       [1500.],\n",
       "       [1300.],\n",
       "       [ 770.],\n",
       "       [ 740.],\n",
       "       [1130.],\n",
       "       [1590.],\n",
       "       [1630.],\n",
       "       [1010.],\n",
       "       [1080.],\n",
       "       [1050.],\n",
       "       [ 770.],\n",
       "       [1150.],\n",
       "       [1670.],\n",
       "       [1170.],\n",
       "       [1110.],\n",
       "       [1550.],\n",
       "       [1810.],\n",
       "       [1090.],\n",
       "       [1730.],\n",
       "       [1260.],\n",
       "       [1110.],\n",
       "       [1340.],\n",
       "       [1560.],\n",
       "       [1390.],\n",
       "       [1330.],\n",
       "       [1270.],\n",
       "       [1170.],\n",
       "       [1080.],\n",
       "       [ 690.],\n",
       "       [1570.],\n",
       "       [ 710.],\n",
       "       [1100.],\n",
       "       [1230.],\n",
       "       [1370.],\n",
       "       [1350.],\n",
       "       [1270.],\n",
       "       [1270.],\n",
       "       [1460.],\n",
       "       [1390.],\n",
       "       [1080.],\n",
       "       [1200.],\n",
       "       [1690.],\n",
       "       [1170.],\n",
       "       [1910.],\n",
       "       [1660.],\n",
       "       [1520.],\n",
       "       [2070.],\n",
       "       [2080.],\n",
       "       [1710.],\n",
       "       [2030.],\n",
       "       [1970.],\n",
       "       [1610.],\n",
       "       [1580.],\n",
       "       [2340.],\n",
       "       [1900.],\n",
       "       [1580.],\n",
       "       [1740.],\n",
       "       [1730.],\n",
       "       [2240.],\n",
       "       [1750.],\n",
       "       [1640.],\n",
       "       [1450.],\n",
       "       [2500.],\n",
       "       [1270.],\n",
       "       [1790.],\n",
       "       [2530.],\n",
       "       [ 920.],\n",
       "       [1350.],\n",
       "       [1050.],\n",
       "       [1700.],\n",
       "       [1630.],\n",
       "       [2420.],\n",
       "       [1380.],\n",
       "       [2020.],\n",
       "       [1060.],\n",
       "       [2160.],\n",
       "       [2120.],\n",
       "       [1390.],\n",
       "       [2340.],\n",
       "       [1590.],\n",
       "       [1720.],\n",
       "       [1340.],\n",
       "       [1890.],\n",
       "       [ 820.],\n",
       "       [2470.],\n",
       "       [2250.],\n",
       "       [1600.],\n",
       "       [1310.],\n",
       "       [2100.],\n",
       "       [1390.],\n",
       "       [1560.],\n",
       "       [1240.],\n",
       "       [1240.],\n",
       "       [2350.],\n",
       "       [2030.],\n",
       "       [1120.],\n",
       "       [1160.],\n",
       "       [1690.],\n",
       "       [1360.],\n",
       "       [1960.],\n",
       "       [4860.],\n",
       "       [4160.],\n",
       "       [6020.],\n",
       "       [5570.],\n",
       "       [3750.],\n",
       "       [4220.],\n",
       "       [5350.],\n",
       "       [3770.],\n",
       "       [4320.],\n",
       "       [5110.],\n",
       "       [4920.],\n",
       "       [5720.],\n",
       "       [4210.],\n",
       "       [3020.],\n",
       "       [3720.],\n",
       "       [1340.],\n",
       "       [1070.],\n",
       "       [1110.],\n",
       "       [1600.],\n",
       "       [1310.],\n",
       "       [1770.],\n",
       "       [1880.],\n",
       "       [1810.],\n",
       "       [1680.],\n",
       "       [2190.],\n",
       "       [ 690.],\n",
       "       [2080.],\n",
       "       [2550.],\n",
       "       [ 990.],\n",
       "       [2060.],\n",
       "       [1000.],\n",
       "       [ 730.],\n",
       "       [1080.],\n",
       "       [1620.],\n",
       "       [ 720.],\n",
       "       [1680.],\n",
       "       [1550.],\n",
       "       [1040.],\n",
       "       [ 970.],\n",
       "       [ 810.],\n",
       "       [1320.],\n",
       "       [1060.],\n",
       "       [1760.],\n",
       "       [1170.],\n",
       "       [1580.],\n",
       "       [2380.],\n",
       "       [ 890.],\n",
       "       [1040.],\n",
       "       [1240.],\n",
       "       [2110.],\n",
       "       [ 640.],\n",
       "       [1600.],\n",
       "       [1960.],\n",
       "       [1880.],\n",
       "       [1570.],\n",
       "       [1310.],\n",
       "       [1490.],\n",
       "       [2330.],\n",
       "       [ 980.],\n",
       "       [1000.],\n",
       "       [1760.],\n",
       "       [1500.],\n",
       "       [1510.],\n",
       "       [1510.],\n",
       "       [1270.],\n",
       "       [1550.],\n",
       "       [1830.],\n",
       "       [1500.],\n",
       "       [1190.]])"
      ]
     },
     "execution_count": 18,
     "metadata": {},
     "output_type": "execute_result"
    }
   ],
   "source": [
    "#Solution\n",
    "x"
   ]
  },
  {
   "cell_type": "markdown",
   "metadata": {
    "slideshow": {
     "slide_type": "slide"
    }
   },
   "source": [
    "### 4. Use Seaborn to Inspect\n",
    "\n",
    "Exercise:\n",
    "\n",
    "1) Use scatterplot(x[:,0],y) from the seaborn package.\n",
    "\n",
    "Hint: Don't forget to use the seaborn alias to access this function!\n",
    "\n",
    "2) What variables are on each of the axes?"
   ]
  },
  {
   "cell_type": "code",
   "execution_count": 20,
   "metadata": {
    "slideshow": {
     "slide_type": "fragment"
    }
   },
   "outputs": [
    {
     "data": {
      "image/png": "[encoded data removed]",
      "text/plain": [
       "<Figure size 432x288 with 1 Axes>"
      ]
     },
     "metadata": {
      "needs_background": "light"
     },
     "output_type": "display_data"
    }
   ],
   "source": [
    "sns.scatterplot(x=x[:, 0], y=y);"
   ]
  },
  {
   "cell_type": "markdown",
   "metadata": {
    "slideshow": {
     "slide_type": "slide"
    }
   },
   "source": [
    "### 5. Use sklearn with NumPy arrays to learn (statistical) model"
   ]
  },
  {
   "cell_type": "markdown",
   "metadata": {
    "slideshow": {
     "slide_type": "fragment"
    }
   },
   "source": [
    "#### Choose model (eg., LinearRegression)\n",
    "\n",
    "Exercise:\n",
    "\n",
    "1) Run the below line of code to import LinearRegression from the Sci-Kit Learn package.#\n",
    "\n",
    "2) Use LinearRegression().fit(x,y) and save this as model\n",
    "\n"
   ]
  },
  {
   "cell_type": "code",
   "execution_count": 21,
   "metadata": {
    "slideshow": {
     "slide_type": "fragment"
    }
   },
   "outputs": [],
   "source": [
    "from sklearn.linear_model import LinearRegression"
   ]
  },
  {
   "cell_type": "markdown",
   "metadata": {
    "slideshow": {
     "slide_type": "fragment"
    }
   },
   "source": [
    "#### Fit model on data (ie., \"Learn\")"
   ]
  },
  {
   "cell_type": "code",
   "execution_count": null,
   "metadata": {
    "slideshow": {
     "slide_type": "fragment"
    }
   },
   "outputs": [],
   "source": [
    "#Solution\n",
    "model = LinearRegression().fit(x, y)"
   ]
  },
  {
   "cell_type": "markdown",
   "metadata": {
    "slideshow": {
     "slide_type": "slide"
    }
   },
   "source": [
    "#### Logical Inspection of Model"
   ]
  },
  {
   "cell_type": "markdown",
   "metadata": {
    "slideshow": {
     "slide_type": "fragment"
    }
   },
   "source": [
    "The parameters of the model are, for linear regression, given in `coef_` and `intercept_`... Traditionally lines can be given in the form y = mx + c, where m is the coefficient of x and tells us the gradient of the line, and c is a constant term and tells us the intercept point between the line and the vertical axis when x is zero.\n",
    "\n",
    "Exercise:\n",
    "\n",
    "1) Use model.coef_ to find the gradient of the straight line model.\n",
    "\n",
    "2) Find the vertical intercept.\n",
    "\n",
    "3) Write out the equation of the line."
   ]
  },
  {
   "cell_type": "code",
   "execution_count": null,
   "metadata": {
    "slideshow": {
     "slide_type": "fragment"
    }
   },
   "outputs": [],
   "source": [
    "#Solution\n",
    "model.coef_"
   ]
  },
  {
   "cell_type": "code",
   "execution_count": null,
   "metadata": {
    "slideshow": {
     "slide_type": "fragment"
    }
   },
   "outputs": [],
   "source": [
    "#Solution\n",
    "model.intercept_"
   ]
  },
  {
   "cell_type": "markdown",
   "metadata": {
    "slideshow": {
     "slide_type": "fragment"
    }
   },
   "source": [
    "#Solution\n",
    "\n",
    "$f(x) = 1.06x + 1181968 = ax + b$"
   ]
  },
  {
   "cell_type": "markdown",
   "metadata": {
    "slideshow": {
     "slide_type": "slide"
    }
   },
   "source": [
    "#### Visual Inspection of Model\n",
    "\n",
    "Exercise:\n",
    "\n",
    "1) Run the below line of code to calculate yhat. This is the y values that the equation of the line gives for the x values we have."
   ]
  },
  {
   "cell_type": "code",
   "execution_count": null,
   "metadata": {
    "slideshow": {
     "slide_type": "fragment"
    }
   },
   "outputs": [],
   "source": [
    "yhat = model.predict(x)"
   ]
  },
  {
   "cell_type": "code",
   "execution_count": null,
   "metadata": {
    "slideshow": {
     "slide_type": "fragment"
    }
   },
   "outputs": [],
   "source": [
    "sns.scatterplot(x[:, 0], y)\n",
    "sns.lineplot(x[:, 0], yhat, color=\"red\")"
   ]
  },
  {
   "cell_type": "markdown",
   "metadata": {
    "slideshow": {
     "slide_type": "slide"
    }
   },
   "source": [
    "#### Evaluate Model"
   ]
  },
  {
   "cell_type": "code",
   "execution_count": null,
   "metadata": {
    "scrolled": true,
    "slideshow": {
     "slide_type": "fragment"
    }
   },
   "outputs": [],
   "source": [
    "model.score(x, y)"
   ]
  },
  {
   "cell_type": "markdown",
   "metadata": {
    "slideshow": {
     "slide_type": "slide"
    }
   },
   "source": [
    "## Extension\n",
    "\n",
    "Start to create your own NumPy cheat sheet:\n",
    "\n",
    "* Using the NumPy user guide: https://numpy.org/doc/stable/numpy-user.pdf\n",
    "* Read Chapter 3 to start populating your cheat sheet: include Array methods (functions), Matrix methods, and Mathematical functions. Include a short description/summary to help you use them later.\n",
    "* Full NumPy documentation is available here: https://numpy.org/doc/stable/numpy-ref.pdf"
   ]
  }
 ],
 "metadata": {
  "celltoolbar": "Slideshow",
  "kernelspec": {
   "display_name": "Python 3",
   "language": "python",
   "name": "python3"
  },
  "language_info": {
   "codemirror_mode": {
    "name": "ipython",
    "version": 3
   },
   "file_extension": ".py",
   "mimetype": "text/x-python",
   "name": "python",
   "nbconvert_exporter": "python",
   "pygments_lexer": "ipython3",
   "version": "3.8.8"
  }
 },
 "nbformat": 4,
 "nbformat_minor": 4
}
