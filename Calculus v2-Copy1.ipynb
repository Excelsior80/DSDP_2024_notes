{
 "cells": [
  {
   "cell_type": "markdown",
   "id": "aecff1ec",
   "metadata": {},
   "source": [
    "# Linear Regression\n",
    "\n",
    "Suppose we want to fit a line of best fit through the following points"
   ]
  },
  {
   "cell_type": "code",
   "execution_count": 3,
   "id": "cd6bcb3b",
   "metadata": {},
   "outputs": [
    {
     "data": {
      "image/png": "[encoded data removed]",
      "text/plain": [
       "<Figure size 432x288 with 1 Axes>"
      ]
     },
     "metadata": {
      "needs_background": "light"
     },
     "output_type": "display_data"
    }
   ],
   "source": [
    "# Generate random x and y values\n",
    "import numpy as np\n",
    "import matplotlib.pyplot as plt\n",
    "np.random.seed(0)  # Setting seed for reproducibility\n",
    "x = np.random.rand(15)  # Generate 5 random x values between 0 and 1\n",
    "y = 2*x + 1 + np.random.rand(15)  # Generate 5 random y values between 0 and 1 and add to the line y = 2x + 1.\n",
    "# Note that because we know how y has been generated we will expect the coefficients of the line of \n",
    "# best fit to be approximately 2 and 1.\n",
    "\n",
    "# Create a scatter plot\n",
    "plt.scatter(x, y, color='b', marker='o')\n",
    "\n",
    "# Add labels and a legend\n",
    "plt.xlabel('X Values')\n",
    "plt.ylabel('Y Values')\n",
    "plt.title('Scatter Plot of Random Data')\n",
    "\n",
    "# Display the plot\n",
    "plt.show()\n"
   ]
  },
  {
   "cell_type": "markdown",
   "id": "04bf7ead",
   "metadata": {},
   "source": [
    "The line of best fit will be in the form $y = \\beta_1 x + \\beta_0$.\n",
    "\n",
    "We will use gradient descent to find the best values of $\\beta_1$ and $\\beta_0$ that MINIMISES the residuals.\n",
    "\n",
    "Residuals are the vertical differences between the data points and the line - they represent the errors that would be made if predicting the y-coordinate using the regression line."
   ]
  },
  {
   "cell_type": "code",
   "execution_count": 4,
   "id": "823cb402",
   "metadata": {},
   "outputs": [],
   "source": [
    "# This function calculates the difference between a predicted value of y (using the current guess for the equation of the line)\n",
    "# and the actual y coordinate for each point.\n",
    "# We would like to minimise the total of all these differences, but some will be positive and some negative.\n",
    "# One solution to this is to square the differences before totalling.\n",
    "# This gives rise to the Ordinary Least Squares (OLS) method, though there are other ways of tackling this problem.\n",
    "\n",
    "def squared_residuals(y_pred, y_actual):\n",
    "    # The Loss Function\n",
    "    return np.sum((y_pred - y_actual)**2)\n",
    "\n",
    "# As we try different values for beta_1 and beta_0 we will calculate the predicted y coordinate\n",
    "# and then use the gradient of the total of the squared residuals to adjust beta_1 and beta_0 until it's minimised.\n",
    "\n",
    "def calculate_y_pred(x, b1, b0):\n",
    "    return b1*x + b0"
   ]
  },
  {
   "cell_type": "code",
   "execution_count": 5,
   "id": "c4841517",
   "metadata": {},
   "outputs": [],
   "source": [
    "# As in the first gradient descent example we'll initialise the learning rate and number of iterations\n",
    "# However, in this example we've set beta_1 and beta_0 to be zero initially (rather than random values)\n",
    "\n",
    "b1 = 0.0\n",
    "b0 = 0.0\n",
    "L = 0.001\n",
    "iterations = 100_000"
   ]
  },
  {
   "cell_type": "code",
   "execution_count": 6,
   "id": "89f99d23",
   "metadata": {},
   "outputs": [
    {
     "data": {
      "text/plain": [
       "119.82460536468395"
      ]
     },
     "execution_count": 6,
     "metadata": {},
     "output_type": "execute_result"
    }
   ],
   "source": [
    "# We'll begin by calculating the total of the squared residuals \n",
    "# for the initial values of b1 and b0:\n",
    "y_pred = calculate_y_pred(x, b1, b0)\n",
    "\n",
    "loss = squared_residuals(y_pred, y)\n",
    "loss"
   ]
  },
  {
   "cell_type": "markdown",
   "id": "341d660f",
   "metadata": {},
   "source": [
    "We will now use this to adjust b1 and b0 using the gradient of the loss function (which in this case is the squared residuals). To do this we will need to partially differentiate with respect to $\\beta_1$ and $\\beta_0$ seperately. And notice we will also need to use Chain Rule.\n",
    "\n",
    "$SR = (y_{pred} - y_{actual})^2$\n",
    "\n",
    "Substituting $y = \\beta_1 x + \\beta_0$ we get:\n",
    "\n",
    "$SR = (\\beta_1 x + \\beta_0 - y_{actual})^2$\n",
    "\n",
    "We can now differentiate SR partially with respect to $\\beta_1$ and then $\\beta_0$ using Chain rule:\n",
    "\n",
    "$\\frac{\\partial SR}{\\partial \\beta_1} = 2(\\beta_1 x +\\beta_0 - y_{actual})x$\n",
    "\n",
    "and\n",
    "\n",
    "$\\frac{\\partial SR}{\\partial \\beta_0} = 2(\\beta_1 x +\\beta_0 - y_{actual})$\n",
    "\n",
    "Now that we no longer need to see where the $\\beta$'s are to differentiate we can simplify to:\n",
    "\n",
    "$\\frac{\\partial SR}{\\partial \\beta_1} = 2(y_{pred} - y_{actual})x$\n",
    "\n",
    "and\n",
    "\n",
    "$\\frac{\\partial SR}{\\partial \\beta_0} = 2(y_{pred} - y_{actual})$\n"
   ]
  },
  {
   "cell_type": "code",
   "execution_count": 7,
   "id": "5d5b3ddf",
   "metadata": {},
   "outputs": [
    {
     "name": "stdout",
     "output_type": "stream",
     "text": [
      "After one iteration the coefficients have changed from zero to: 0.053336176478438545 and 0.08295313979480397\n"
     ]
    }
   ],
   "source": [
    "# Now adjust b1 and b0:\n",
    "\n",
    "b1 -= L*np.sum(2*(y_pred - y)*x)\n",
    "\n",
    "b0 -= L*np.sum(2*(y_pred - y))\n",
    "\n",
    "print('After one iteration the coefficients have changed from zero to:',b1,'and',b0)"
   ]
  },
  {
   "cell_type": "code",
   "execution_count": 8,
   "id": "f88c54e6",
   "metadata": {},
   "outputs": [
    {
     "name": "stdout",
     "output_type": "stream",
     "text": [
      "y = 2.156495686868057x + 1.4650310370766957\n"
     ]
    }
   ],
   "source": [
    "# The more iterations (repeats) of this process we do the closer we will get to the best equation for the line of best fit\n",
    "# Remember that because we generated y values using the equation y = 2x + 1 with some random noise \n",
    "# we expect to get and answer close to this\n",
    "\n",
    "for count in range(iterations):\n",
    "    y_pred = calculate_y_pred(x, b1, b0)\n",
    "    slope = squared_residuals(y_pred, y)\n",
    "    b1 -= L*np.sum(2*(y_pred - y)*x)\n",
    "    b0 -= L*np.sum(2*(y_pred - y))\n",
    "    \n",
    "# and at the end we can see the equation we have reached\n",
    "print(f'y = {b1}x + {b0}')"
   ]
  }
 ],
 "metadata": {
  "kernelspec": {
   "display_name": "Python 3",
   "language": "python",
   "name": "python3"
  },
  "language_info": {
   "codemirror_mode": {
    "name": "ipython",
    "version": 3
   },
   "file_extension": ".py",
   "mimetype": "text/x-python",
   "name": "python",
   "nbconvert_exporter": "python",
   "pygments_lexer": "ipython3",
   "version": "3.8.8"
  }
 },
 "nbformat": 4,
 "nbformat_minor": 5
}
