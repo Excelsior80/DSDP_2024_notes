{
 "cells": [
  {
   "cell_type": "markdown",
   "metadata": {
    "slideshow": {
     "slide_type": "slide"
    }
   },
   "source": [
    "# Introduction to Python Machine Learning \n",
    "### with Sci-Kit Learn"
   ]
  },
  {
   "cell_type": "markdown",
   "metadata": {
    "slideshow": {
     "slide_type": "slide"
    }
   },
   "source": [
    "## What simple library do I use for Machine Learning?"
   ]
  },
  {
   "cell_type": "markdown",
   "metadata": {
    "slideshow": {
     "slide_type": "fragment"
    }
   },
   "source": [
    "The sci-kit learn library in python is well-suited for simple machine learning problems.\n",
    "\n",
    "If you have a complex problem (eg., working with images, audio, etc.); you may find other libraries perform better (eg., tensorflow). \n",
    "\n",
    "These libraries are industry-standard, perform reasonably well; free for commercial use. \n",
    "\n",
    "If they do not suit your problem, you require very expert assistance. "
   ]
  },
  {
   "cell_type": "markdown",
   "metadata": {
    "slideshow": {
     "slide_type": "slide"
    }
   },
   "source": [
    "## How do I  import sklearn?\n",
    "\n",
    "We do not import the sklearn package itself, we always select some more specific part...\n",
    "\n",
    "Exercise:\n",
    "\n",
    "Run the below section of code to import the linear_model library."
   ]
  },
  {
   "cell_type": "code",
   "execution_count": 2,
   "metadata": {
    "slideshow": {
     "slide_type": "fragment"
    }
   },
   "outputs": [],
   "source": [
    "# from PACKAGE import SPECIFIC LIBRARY\n",
    "from sklearn import linear_model"
   ]
  },
  {
   "cell_type": "markdown",
   "metadata": {
    "slideshow": {
     "slide_type": "fragment"
    }
   },
   "source": [
    "The library here is `linear_model`..."
   ]
  },
  {
   "cell_type": "code",
   "execution_count": 4,
   "metadata": {
    "slideshow": {
     "slide_type": "fragment"
    }
   },
   "outputs": [
    {
     "data": {
      "text/plain": [
       "LinearRegression()"
      ]
     },
     "execution_count": 4,
     "metadata": {},
     "output_type": "execute_result"
    }
   ],
   "source": [
    "linear_model.LinearRegression()"
   ]
  },
  {
   "cell_type": "markdown",
   "metadata": {
    "slideshow": {
     "slide_type": "slide"
    }
   },
   "source": [
    "## What methodology do I follow ?\n",
    "\n",
    "ie., How do I solve a machine learning problem in python?"
   ]
  },
  {
   "cell_type": "markdown",
   "metadata": {
    "slideshow": {
     "slide_type": "slide"
    }
   },
   "source": [
    "* Pre-ML Phase\n",
    "    * Get Data (, Experiments, etc.)\n",
    "    * Data Preparation\n",
    "        * gather together, join...\n",
    "    * EDA (Data Understanding)"
   ]
  },
  {
   "cell_type": "markdown",
   "metadata": {
    "slideshow": {
     "slide_type": "slide"
    }
   },
   "source": [
    "* ML Phase\n",
    "    * Feature Selection\n",
    "        * Choose $x, y$\n",
    "    * (Mathematical, Statistical) Data Preparation\n",
    "        * eg., suppose we have (w, h)\n",
    "            * perhaps we compute bmi = w^2/h \n",
    "    * Modelling\n",
    "        * fit data to a model\n",
    "            * ie., find the best parameters \n",
    "        * Model Choice\n",
    "            * try lots of different models\n",
    "            * keep \"best\" -- depends on project goal\n",
    "    * (Statistical, Experimental) Evaluation\n",
    "        * try using your model for predictions\n",
    "        * how good is it?"
   ]
  },
  {
   "cell_type": "markdown",
   "metadata": {
    "slideshow": {
     "slide_type": "slide"
    }
   },
   "source": [
    "* Post-ML Phase\n",
    "    * Deployment <- put ML model into practice\n",
    "        * eg., develop software using model\n",
    "        * eg., make some business decision"
   ]
  },
  {
   "cell_type": "markdown",
   "metadata": {
    "slideshow": {
     "slide_type": "slide"
    }
   },
   "source": [
    "## How do I select features?"
   ]
  },
  {
   "cell_type": "markdown",
   "metadata": {
    "slideshow": {
     "slide_type": "fragment"
    }
   },
   "source": [
    "We typically use pandas to *provide* data...\n",
    "\n",
    "Exercise:\n",
    "\n",
    "1) Import pandas with it's typical alias.\n",
    "\n",
    "2) Use read_csv() with the appropriate filepath to import the tips.csv file. Save this as tips.\n",
    "\n",
    "3) Run the code: tips.info() to view how the tips data has been stored in python.\n",
    "\n",
    "4) Use addressing (square brackets) to select the columns for total bill, size, sex, day and save these together as features.\n",
    "\n",
    "5) Use addressing to select the tips column and save this as target."
   ]
  },
  {
   "cell_type": "code",
   "execution_count": 6,
   "metadata": {
    "slideshow": {
     "slide_type": "fragment"
    }
   },
   "outputs": [],
   "source": [
    "#Solution\n",
    "import pandas as pd\n",
    "\n",
    "tips = pd.read_csv('datasets/tips.csv')"
   ]
  },
  {
   "cell_type": "code",
   "execution_count": 8,
   "metadata": {
    "slideshow": {
     "slide_type": "fragment"
    }
   },
   "outputs": [
    {
     "name": "stdout",
     "output_type": "stream",
     "text": [
      "<class 'pandas.core.frame.DataFrame'>\n",
      "RangeIndex: 244 entries, 0 to 243\n",
      "Data columns (total 7 columns):\n",
      " #   Column      Non-Null Count  Dtype  \n",
      "---  ------      --------------  -----  \n",
      " 0   total_bill  244 non-null    float64\n",
      " 1   tip         244 non-null    float64\n",
      " 2   sex         244 non-null    object \n",
      " 3   smoker      244 non-null    object \n",
      " 4   day         244 non-null    object \n",
      " 5   time        244 non-null    object \n",
      " 6   size        244 non-null    int64  \n",
      "dtypes: float64(2), int64(1), object(4)\n",
      "memory usage: 13.5+ KB\n"
     ]
    }
   ],
   "source": [
    "#Solution\n",
    "tips.info()"
   ]
  },
  {
   "cell_type": "code",
   "execution_count": 17,
   "metadata": {
    "slideshow": {
     "slide_type": "slide"
    }
   },
   "outputs": [],
   "source": [
    "#Solution\n",
    "select_columns = ['total_bill', 'size', 'sex', 'day']\n",
    "\n",
    "features = tips[ select_columns ]\n",
    "target = tips['tip']"
   ]
  },
  {
   "cell_type": "markdown",
   "metadata": {
    "slideshow": {
     "slide_type": "slide"
    }
   },
   "source": [
    "## How do I prepare data for modelling?"
   ]
  },
  {
   "cell_type": "markdown",
   "metadata": {
    "slideshow": {
     "slide_type": "fragment"
    }
   },
   "source": [
    "Observe that one of the features is just text:\n",
    "\n",
    "Exercise:\n",
    "\n",
    "1) Run the below line of code to check your features table.\n",
    "\n",
    "2) We wish to transform the sex and day columns from being text to being numbered categories. To do this, run the next line of code to import OrdinalEncoder."
   ]
  },
  {
   "cell_type": "code",
   "execution_count": 30,
   "metadata": {
    "slideshow": {
     "slide_type": "fragment"
    }
   },
   "outputs": [
    {
     "data": {
      "text/html": [
       "<div>\n",
       "<style scoped>\n",
       "    .dataframe tbody tr th:only-of-type {\n",
       "        vertical-align: middle;\n",
       "    }\n",
       "\n",
       "    .dataframe tbody tr th {\n",
       "        vertical-align: top;\n",
       "    }\n",
       "\n",
       "    .dataframe thead th {\n",
       "        text-align: right;\n",
       "    }\n",
       "</style>\n",
       "<table border=\"1\" class=\"dataframe\">\n",
       "  <thead>\n",
       "    <tr style=\"text-align: right;\">\n",
       "      <th></th>\n",
       "      <th>total_bill</th>\n",
       "      <th>size</th>\n",
       "      <th>sex</th>\n",
       "      <th>day</th>\n",
       "    </tr>\n",
       "  </thead>\n",
       "  <tbody>\n",
       "    <tr>\n",
       "      <th>83</th>\n",
       "      <td>32.68</td>\n",
       "      <td>2</td>\n",
       "      <td>Male</td>\n",
       "      <td>Thur</td>\n",
       "    </tr>\n",
       "    <tr>\n",
       "      <th>51</th>\n",
       "      <td>10.29</td>\n",
       "      <td>2</td>\n",
       "      <td>Female</td>\n",
       "      <td>Sun</td>\n",
       "    </tr>\n",
       "  </tbody>\n",
       "</table>\n",
       "</div>"
      ],
      "text/plain": [
       "    total_bill  size     sex   day\n",
       "83       32.68     2    Male  Thur\n",
       "51       10.29     2  Female   Sun"
      ]
     },
     "execution_count": 30,
     "metadata": {},
     "output_type": "execute_result"
    }
   ],
   "source": [
    "features.sample(2)"
   ]
  },
  {
   "cell_type": "code",
   "execution_count": 31,
   "metadata": {
    "slideshow": {
     "slide_type": "slide"
    }
   },
   "outputs": [],
   "source": [
    "from sklearn.preprocessing import OrdinalEncoder"
   ]
  },
  {
   "cell_type": "markdown",
   "metadata": {
    "slideshow": {
     "slide_type": "fragment"
    }
   },
   "source": [
    "The `OrdinalEncoder` will scan *categorical* columns; determine their unique values (ie., categories) and swap these out with a integers.\n",
    "\n",
    "* Eg., Leeds, London, Machester -> 0, 1, 2\n",
    "\n",
    "Exercise:\n",
    "\n",
    "1) Use OrdinalEncoder().fit_transform(features \\[\\['sex', 'day'\\]\\]) and save this as X_categorical.\n",
    "\n",
    "2) Use addressing with X_categorical to view the first 4 rows of the sex and day columns (they should now appear as integers rather than text).\n",
    "\n",
    "3) Use addressing with the features table to view the first 4 rows of the sex and day columns (so you can see what text they had originally)."
   ]
  },
  {
   "cell_type": "code",
   "execution_count": 32,
   "metadata": {
    "slideshow": {
     "slide_type": "fragment"
    }
   },
   "outputs": [],
   "source": [
    "#Solution\n",
    "X_categorical = OrdinalEncoder().fit_transform(features[['sex', 'day']])"
   ]
  },
  {
   "cell_type": "markdown",
   "metadata": {
    "slideshow": {
     "slide_type": "slide"
    }
   },
   "source": [
    "The first rows of X:"
   ]
  },
  {
   "cell_type": "code",
   "execution_count": 34,
   "metadata": {
    "slideshow": {
     "slide_type": "fragment"
    }
   },
   "outputs": [
    {
     "data": {
      "text/plain": [
       "array([[0., 2.],\n",
       "       [1., 2.],\n",
       "       [1., 2.],\n",
       "       [1., 2.]])"
      ]
     },
     "execution_count": 34,
     "metadata": {},
     "output_type": "execute_result"
    }
   ],
   "source": [
    "#Solution\n",
    "X_categorical[0:3, :]"
   ]
  },
  {
   "cell_type": "code",
   "execution_count": 35,
   "metadata": {
    "slideshow": {
     "slide_type": "fragment"
    }
   },
   "outputs": [
    {
     "data": {
      "text/html": [
       "<div>\n",
       "<style scoped>\n",
       "    .dataframe tbody tr th:only-of-type {\n",
       "        vertical-align: middle;\n",
       "    }\n",
       "\n",
       "    .dataframe tbody tr th {\n",
       "        vertical-align: top;\n",
       "    }\n",
       "\n",
       "    .dataframe thead th {\n",
       "        text-align: right;\n",
       "    }\n",
       "</style>\n",
       "<table border=\"1\" class=\"dataframe\">\n",
       "  <thead>\n",
       "    <tr style=\"text-align: right;\">\n",
       "      <th></th>\n",
       "      <th>sex</th>\n",
       "      <th>day</th>\n",
       "    </tr>\n",
       "  </thead>\n",
       "  <tbody>\n",
       "    <tr>\n",
       "      <th>0</th>\n",
       "      <td>Female</td>\n",
       "      <td>Sun</td>\n",
       "    </tr>\n",
       "    <tr>\n",
       "      <th>1</th>\n",
       "      <td>Male</td>\n",
       "      <td>Sun</td>\n",
       "    </tr>\n",
       "    <tr>\n",
       "      <th>2</th>\n",
       "      <td>Male</td>\n",
       "      <td>Sun</td>\n",
       "    </tr>\n",
       "    <tr>\n",
       "      <th>3</th>\n",
       "      <td>Male</td>\n",
       "      <td>Sun</td>\n",
       "    </tr>\n",
       "  </tbody>\n",
       "</table>\n",
       "</div>"
      ],
      "text/plain": [
       "      sex  day\n",
       "0  Female  Sun\n",
       "1    Male  Sun\n",
       "2    Male  Sun\n",
       "3    Male  Sun"
      ]
     },
     "execution_count": 35,
     "metadata": {},
     "output_type": "execute_result"
    }
   ],
   "source": [
    "#Solution\n",
    "features.loc[0:3, ['sex', 'day']]"
   ]
  },
  {
   "cell_type": "markdown",
   "metadata": {
    "slideshow": {
     "slide_type": "fragment"
    }
   },
   "source": [
    "Note here we have columns: `total_bill`, `size`, `sex`, `day`.\n",
    "\n",
    "So, for `sex`: 0, 1; `day`: `0` thurs, ..."
   ]
  },
  {
   "cell_type": "markdown",
   "metadata": {
    "slideshow": {
     "slide_type": "slide"
    }
   },
   "source": [
    "## How do I combine my dataset into one matrix?"
   ]
  },
  {
   "cell_type": "markdown",
   "metadata": {
    "slideshow": {
     "slide_type": "fragment"
    }
   },
   "source": [
    "Now, notice we have two split datasets... the processed one called `X_categorical` which is the numerical version of the categorical columns.\n",
    "\n",
    "And we have the real-valued columns `total_bill` and `size`, still in our `features` table.\n",
    "\n",
    "Exercise:\n",
    "\n",
    "Rund the below line of code to select the total bill and size columns and save them as X_real."
   ]
  },
  {
   "cell_type": "code",
   "execution_count": 39,
   "metadata": {
    "slideshow": {
     "slide_type": "fragment"
    }
   },
   "outputs": [],
   "source": [
    "X_real = features[['total_bill', 'size']].to_numpy() # selecting the numerical columns"
   ]
  },
  {
   "cell_type": "markdown",
   "metadata": {
    "slideshow": {
     "slide_type": "slide"
    }
   },
   "source": [
    "So now we need to combine them into one feature matrix, `X`."
   ]
  },
  {
   "cell_type": "code",
   "execution_count": 41,
   "metadata": {
    "slideshow": {
     "slide_type": "fragment"
    }
   },
   "outputs": [],
   "source": [
    "import numpy as np"
   ]
  },
  {
   "cell_type": "markdown",
   "metadata": {
    "slideshow": {
     "slide_type": "fragment"
    }
   },
   "source": [
    "In numpy, `np.column_stack` means *join* -- glue columns together into one matrix. \n",
    "\n",
    "Exercise:\n",
    "\n",
    "1) Use column_stack() with X_real and X_categorical as arguments. Save this as X.\n",
    "\n",
    "2) View the first 5 rows (all columns) of X to check how your data has been stored.\n",
    "\n",
    "X is the table of prepared data we will use as the features to predict the target."
   ]
  },
  {
   "cell_type": "code",
   "execution_count": 46,
   "metadata": {
    "slideshow": {
     "slide_type": "fragment"
    }
   },
   "outputs": [
    {
     "data": {
      "text/plain": [
       "array([[16.99,  2.  ,  0.  ,  2.  ],\n",
       "       [10.34,  3.  ,  1.  ,  2.  ],\n",
       "       [21.01,  3.  ,  1.  ,  2.  ],\n",
       "       [23.68,  2.  ,  1.  ,  2.  ]])"
      ]
     },
     "execution_count": 46,
     "metadata": {},
     "output_type": "execute_result"
    }
   ],
   "source": [
    "#Solution\n",
    "X = np.column_stack((X_real, X_categorical))\n",
    "\n",
    "X[0:4,:]"
   ]
  },
  {
   "cell_type": "markdown",
   "metadata": {
    "slideshow": {
     "slide_type": "slide"
    }
   },
   "source": [
    "## How do I choose a model?"
   ]
  },
  {
   "cell_type": "markdown",
   "metadata": {
    "slideshow": {
     "slide_type": "fragment"
    }
   },
   "source": [
    "* What type of problem?\n",
    "    * Supervised Learning\n",
    "        * Regression \n",
    "            * $y$ is tip, is a number!\n",
    "* What type of regression models are there?\n",
    "    * **Linear** <- CHOOSEN!\n",
    "    * Polynomial\n",
    "    * Neural Network\n",
    "        * Half-linear, half-polynomial\n",
    "    * ... \n",
    "    \n",
    "* What should I do now?\n",
    "    * Either: try them all \n",
    "    * Or: try ones you think most likely to be accurate\n",
    "    \n",
    "    \n",
    "When we have covered the Statistics section of your programme we will look in more detail about how to determine whether linear regression is appropriate for all of the features."
   ]
  },
  {
   "cell_type": "markdown",
   "metadata": {
    "slideshow": {
     "slide_type": "slide"
    }
   },
   "source": [
    "## How do I import a model?"
   ]
  },
  {
   "cell_type": "markdown",
   "metadata": {
    "slideshow": {
     "slide_type": "fragment"
    }
   },
   "source": [
    "You will need to consult the documentation, but LinearRegression lives in `sklearn.linear_model`...\n",
    "\n",
    "Exercise:\n",
    "\n",
    "Run the below section of code to import the LinearRegression library."
   ]
  },
  {
   "cell_type": "code",
   "execution_count": 47,
   "metadata": {
    "slideshow": {
     "slide_type": "fragment"
    }
   },
   "outputs": [],
   "source": [
    "from sklearn.linear_model import LinearRegression"
   ]
  },
  {
   "cell_type": "markdown",
   "metadata": {
    "slideshow": {
     "slide_type": "slide"
    }
   },
   "source": [
    "## How do I train a model?\n",
    "\n",
    "Exercise:\n",
    "\n",
    "1) Use target.to_numpy() to save the target column in the correct format. Save this as y. Note: This has already been done to X."
   ]
  },
  {
   "cell_type": "code",
   "execution_count": 50,
   "metadata": {
    "slideshow": {
     "slide_type": "fragment"
    }
   },
   "outputs": [],
   "source": [
    "#Solution\n",
    "X = X # reminder that we have X\n",
    "y = target.to_numpy()"
   ]
  },
  {
   "cell_type": "markdown",
   "metadata": {
    "slideshow": {
     "slide_type": "fragment"
    }
   },
   "source": [
    "All the machine learning happens here:\n",
    "\n",
    "Exercise:\n",
    "\n",
    "Use LinearRegression().fit() with X and y as the arguments for fit(). We are giving the model the formatted features and target to create the model equation. Save this as model."
   ]
  },
  {
   "cell_type": "code",
   "execution_count": 76,
   "metadata": {
    "slideshow": {
     "slide_type": "fragment"
    }
   },
   "outputs": [],
   "source": [
    "#Solution\n",
    "model = LinearRegression().fit(X, y) # <- empirical loss minmization "
   ]
  },
  {
   "cell_type": "markdown",
   "metadata": {
    "slideshow": {
     "slide_type": "slide"
    }
   },
   "source": [
    "## How do I use a model to predict?"
   ]
  },
  {
   "cell_type": "markdown",
   "metadata": {
    "slideshow": {
     "slide_type": "fragment"
    }
   },
   "source": [
    "Recall that `X` has four elements per observation:\n",
    "\n",
    "Exercise:\n",
    "\n",
    "1) Use addressing to view the first couple of rows of X to refresh your memory.\n",
    "\n",
    "2) Create a row called x_newpoint with the values 20, 1, 1, 1. Hint: it must be a matrix.\n",
    "\n",
    "3) When you created the model it was stored as an object containing the equation information and a function called predict(). Use model.predict() with x_newpoint as the argument to see what target value it calculates for your new point."
   ]
  },
  {
   "cell_type": "code",
   "execution_count": 52,
   "metadata": {
    "slideshow": {
     "slide_type": "fragment"
    }
   },
   "outputs": [
    {
     "data": {
      "text/plain": [
       "array([[16.99,  2.  ,  0.  ,  2.  ],\n",
       "       [10.34,  3.  ,  1.  ,  2.  ]])"
      ]
     },
     "execution_count": 52,
     "metadata": {},
     "output_type": "execute_result"
    }
   ],
   "source": [
    "#Solution\n",
    "X[:2, :] #first two, all columns"
   ]
  },
  {
   "cell_type": "markdown",
   "metadata": {
    "slideshow": {
     "slide_type": "fragment"
    }
   },
   "source": [
    "`model.predict` requires the same structure we used in `X`..."
   ]
  },
  {
   "cell_type": "code",
   "execution_count": 53,
   "metadata": {
    "slideshow": {
     "slide_type": "fragment"
    }
   },
   "outputs": [
    {
     "data": {
      "text/plain": [
       "array([2.70323683])"
      ]
     },
     "execution_count": 53,
     "metadata": {},
     "output_type": "execute_result"
    }
   ],
   "source": [
    "#Solution\n",
    "x_newpoint = [\n",
    "    [20, 1, 1, 1]  # even though this is ONE observation, it must be a matrix\n",
    "]\n",
    "\n",
    "model.predict(x_newpoint)"
   ]
  },
  {
   "cell_type": "markdown",
   "metadata": {
    "slideshow": {
     "slide_type": "slide"
    }
   },
   "source": [
    "## How do I predict for multiple observations?\n",
    "\n",
    "Exercise:\n",
    "\n",
    "1) Create a matrix called x_newpoint with 3 rows: all three rows should have 1 for size, sex and day. For the total bill column, use 20, 30, and 40.\n",
    "\n",
    "2) Use model.predict() to view the predicted tips for x_newpoint."
   ]
  },
  {
   "cell_type": "code",
   "execution_count": 55,
   "metadata": {
    "slideshow": {
     "slide_type": "fragment"
    }
   },
   "outputs": [
    {
     "data": {
      "text/plain": [
       "array([2.70323683, 3.63332512, 4.5634134 ])"
      ]
     },
     "execution_count": 55,
     "metadata": {},
     "output_type": "execute_result"
    }
   ],
   "source": [
    "#Solution\n",
    "x_newpoint = [\n",
    "    [20, 1, 1, 1],\n",
    "    [30, 1, 1, 1],\n",
    "    [40, 1, 1, 1],\n",
    "]\n",
    "\n",
    "yhat = model.predict(x_newpoint) # predictions\n",
    "\n",
    "yhat"
   ]
  },
  {
   "cell_type": "markdown",
   "metadata": {
    "slideshow": {
     "slide_type": "slide"
    }
   },
   "source": [
    "## How do I score a model?\n",
    "\n",
    "Your object, model, that was created contains not just the information needed for the equation of the line and a function for predict(). It also contains a function called score() which gives a value on a 0-1 scale.\n",
    "\n",
    "Exercise:\n",
    "\n",
    "Run the line of code below:"
   ]
  },
  {
   "cell_type": "code",
   "execution_count": 57,
   "metadata": {
    "slideshow": {
     "slide_type": "fragment"
    }
   },
   "outputs": [
    {
     "data": {
      "text/plain": [
       "0.4679728655676543"
      ]
     },
     "execution_count": 57,
     "metadata": {},
     "output_type": "execute_result"
    }
   ],
   "source": [
    "model.score(X, y) # scores model on historical (X, y)"
   ]
  },
  {
   "cell_type": "markdown",
   "metadata": {
    "slideshow": {
     "slide_type": "fragment"
    }
   },
   "source": [
    "...this is quite low, so maybe we need a more complex model. (Or: maybe this is good enough for your use case...)"
   ]
  },
  {
   "cell_type": "markdown",
   "metadata": {
    "slideshow": {
     "slide_type": "slide"
    }
   },
   "source": [
    "## Aside: How do I choose a better model?"
   ]
  },
  {
   "cell_type": "markdown",
   "metadata": {
    "slideshow": {
     "slide_type": "fragment"
    }
   },
   "source": [
    "Two thoughts:\n",
    "* reconsider your data\n",
    "    * prepare it differently\n",
    "        * use different columns\n",
    "        * formula to combine them \n",
    "        * etc. \n",
    "    * get more data\n",
    "* try a different model\n"
   ]
  },
  {
   "cell_type": "markdown",
   "metadata": {
    "slideshow": {
     "slide_type": "slide"
    }
   },
   "source": [
    "## Trying a Different Model"
   ]
  },
  {
   "cell_type": "markdown",
   "metadata": {
    "slideshow": {
     "slide_type": "fragment"
    }
   },
   "source": [
    "The kNearest Neighbors algorithm is very simple. \n",
    "\n",
    "When you `fit(X, y)` it just remembers them exactly. \n",
    "\n",
    "`Database = (X, y)`\n",
    "\n",
    "When you `predict(z)`\n",
    "\n",
    "It finds the `k` most similar $X$s, and tells you their average $y$.\n",
    "\n",
    "eg., $(x, y) = (Age, SalesPrice)$"
   ]
  },
  {
   "cell_type": "markdown",
   "metadata": {
    "slideshow": {
     "slide_type": "fragment"
    }
   },
   "source": [
    "A prediction for an 18yo, is to find all the people \"about 18 yo\" in the dataset, find out what they paid and take the average.\n",
    "\n",
    "```\n",
    "SELECT MEAN(Price)\n",
    "FROM database\n",
    "WHERE Age CLOSE_TO age_newpoint\n",
    "LIMIT k\n",
    "```\n",
    "\n",
    "Exercise:\n",
    "\n",
    "Run the below sections of code to produce and use a KNeighborsRegressor model."
   ]
  },
  {
   "cell_type": "code",
   "execution_count": 79,
   "metadata": {
    "slideshow": {
     "slide_type": "slide"
    }
   },
   "outputs": [],
   "source": [
    "from sklearn.neighbors import KNeighborsRegressor"
   ]
  },
  {
   "cell_type": "code",
   "execution_count": 92,
   "metadata": {
    "slideshow": {
     "slide_type": "fragment"
    }
   },
   "outputs": [
    {
     "name": "stdout",
     "output_type": "stream",
     "text": [
      "0.6435960451483365\n",
      "0.5848980368607244\n",
      "0.5247895125206865\n",
      "0.4996194323723515\n",
      "0.48323409891574254\n",
      "0.47662276752680455\n",
      "0.4497514915579601\n",
      "0.4417900984789215\n"
     ]
    }
   ],
   "source": [
    "for k in range(3, 11):\n",
    "    model = KNeighborsRegressor(k).fit(X, y)\n",
    "    \n",
    "    # find the k closest points in database (X, y)\n",
    "    # report their mean(y)\n",
    "\n",
    "    print(model.score(X, y))"
   ]
  },
  {
   "cell_type": "code",
   "execution_count": 93,
   "metadata": {
    "slideshow": {
     "slide_type": "fragment"
    }
   },
   "outputs": [
    {
     "data": {
      "text/plain": [
       "0.6435960451483365"
      ]
     },
     "execution_count": 93,
     "metadata": {},
     "output_type": "execute_result"
    }
   ],
   "source": [
    "model = KNeighborsRegressor(3).fit(X, y)\n",
    "model.score(X, y)"
   ]
  },
  {
   "cell_type": "markdown",
   "metadata": {
    "slideshow": {
     "slide_type": "slide"
    }
   },
   "source": [
    "## Exercise (30min)\n"
   ]
  },
  {
   "cell_type": "markdown",
   "metadata": {
    "slideshow": {
     "slide_type": "slide"
    }
   },
   "source": [
    "### Q1. Obtain & Prepare Data\n",
    "\n",
    "* read the titianic csv using pandas\n",
    "* clean the dataset\n",
    "    * dropna to remove missing rows"
   ]
  },
  {
   "cell_type": "markdown",
   "metadata": {
    "slideshow": {
     "slide_type": "slide"
    }
   },
   "source": [
    "### Q2. Select & Prepare Columns\n",
    "\n",
    "* select the survived column as your target\n",
    "* use age, fare, pclass as your features\n",
    "    * NOTE: these do not need to be prepared as they are all numbers!"
   ]
  },
  {
   "cell_type": "markdown",
   "metadata": {
    "slideshow": {
     "slide_type": "slide"
    }
   },
   "source": [
    "### Q3. Fit & Predict\n",
    "* Use `LogisticRegression` to build a *classifier* and *predict* for a point\n",
    "    * HINT: exactly the same as `LinearRegression`\n",
    "    * HINT: `from sklearn.linear_model import LogisticRegression`\n",
    "    \n",
    "* This algorithm is a classification algorith, so it will output eg., `0`, `1` as predictions"
   ]
  },
  {
   "cell_type": "code",
   "execution_count": null,
   "metadata": {},
   "outputs": [],
   "source": [
    "#Solution"
   ]
  },
  {
   "cell_type": "code",
   "execution_count": null,
   "metadata": {},
   "outputs": [],
   "source": [
    "import pandas as pd\n",
    "\n",
    "ti = pd.read_csv(\"datasets/titanic.csv\").dropna()"
   ]
  },
  {
   "cell_type": "code",
   "execution_count": null,
   "metadata": {},
   "outputs": [],
   "source": [
    "y = ti['survived'].to_numpy()\n",
    "X = ti[['age', 'fare', 'pclass']].to_numpy()"
   ]
  },
  {
   "cell_type": "code",
   "execution_count": null,
   "metadata": {},
   "outputs": [],
   "source": [
    "from sklearn.linear_model import LogisticRegression\n",
    "\n",
    "# fit: give historical (X, y) to algorithm \n",
    "model = LogisticRegression().fit(X, y) \n",
    "\n",
    "# model: formula which takes a new observation (x_new), and predicts y_new"
   ]
  },
  {
   "cell_type": "code",
   "execution_count": null,
   "metadata": {},
   "outputs": [],
   "source": [
    "x_new = [\n",
    "    [18, 20, 2], # age=18, fare=20, pclass=2 ; 1 = SURVIVE\n",
    "    [1, 5, 1],   #  ... ; SURVIVE\n",
    "    [70, 35, 2]  #  ... ; DIE\n",
    "]\n",
    "\n",
    "yhat = model.predict(x_new) # model.predict == f\n",
    "\n",
    "yhat "
   ]
  },
  {
   "cell_type": "markdown",
   "metadata": {},
   "source": [
    "$f(x) = \\frac{1}{1-e^{ax + b}}$\n",
    "\n",
    "$y = f(5)$"
   ]
  },
  {
   "cell_type": "markdown",
   "metadata": {},
   "source": [
    "## Aside: Visually inspecting the model (predictions)"
   ]
  },
  {
   "cell_type": "markdown",
   "metadata": {},
   "source": [
    "Let's run this again with a single column, to simplify so we can plot in 2D easily..."
   ]
  },
  {
   "cell_type": "code",
   "execution_count": null,
   "metadata": {},
   "outputs": [],
   "source": [
    "import seaborn as sns\n",
    "\n",
    "\n",
    "y = ti['survived'].to_numpy()\n",
    "X = ti[['age']].to_numpy() \n",
    "\n",
    "# NB. we select the list ['age'] in order to get a matrix back\n",
    "\n",
    "model = LogisticRegression().fit(X, y) \n",
    "\n",
    "sns.scatterplot(X[:, 0],  y);\n",
    "sns.lineplot(X[:, 0], model.predict(X), color=\"red\");"
   ]
  }
 ],
 "metadata": {
  "celltoolbar": "Slideshow",
  "kernelspec": {
   "display_name": "Python 3 (ipykernel)",
   "language": "python",
   "name": "python3"
  },
  "language_info": {
   "codemirror_mode": {
    "name": "ipython",
    "version": 3
   },
   "file_extension": ".py",
   "mimetype": "text/x-python",
   "name": "python",
   "nbconvert_exporter": "python",
   "pygments_lexer": "ipython3",
   "version": "3.9.12"
  }
 },
 "nbformat": 4,
 "nbformat_minor": 4
}
