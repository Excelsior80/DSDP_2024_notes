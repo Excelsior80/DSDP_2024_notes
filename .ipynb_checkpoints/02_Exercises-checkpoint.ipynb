{
 "cells": [
  {
   "cell_type": "markdown",
   "metadata": {
    "slideshow": {
     "slide_type": "slide"
    }
   },
   "source": [
    "# Introduction to NumPy\n",
    "## Data Science for Data Scientists\n",
    "---\n"
   ]
  },
  {
   "cell_type": "markdown",
   "metadata": {
    "slideshow": {
     "slide_type": "slide"
    }
   },
   "source": [
    "## Why use NumPy?"
   ]
  },
  {
   "cell_type": "markdown",
   "metadata": {
    "slideshow": {
     "slide_type": "fragment"
    }
   },
   "source": [
    "NumPy provides fast numerical processing and fast arrays to python. \n",
    "\n",
    "Python itself is very slow. "
   ]
  },
  {
   "cell_type": "markdown",
   "metadata": {
    "slideshow": {
     "slide_type": "slide"
    }
   },
   "source": [
    "## How do I import NumPy?\n",
    "\n",
    "Exercise:\n",
    "\n",
    "Load the numpy library with it's common alias."
   ]
  },
  {
   "cell_type": "code",
   "execution_count": 2,
   "metadata": {
    "slideshow": {
     "slide_type": "fragment"
    }
   },
   "outputs": [],
   "source": []
  },
  {
   "cell_type": "markdown",
   "metadata": {
    "slideshow": {
     "slide_type": "slide"
    }
   },
   "source": [
    "## How do you create a NumPy array?"
   ]
  },
  {
   "cell_type": "markdown",
   "metadata": {
    "slideshow": {
     "slide_type": "fragment"
    }
   },
   "source": [
    "You could start with a list, and then convert it:\n",
    "\n",
    "Exercise:\n",
    "\n",
    "1) Create a python list containing four integers (in square brackets) and save this as x_age.\n",
    "\n",
    "2) Use np.array() to convert your python list into a numpy array. Save this as x.\n",
    "\n",
    "3) Use the numpy array method mean() to calculate the mean of your four values.\n",
    "\n",
    "Hint: mean() is stored with the values when you saved it as x. To access it, use a dot."
   ]
  },
  {
   "cell_type": "code",
   "execution_count": 4,
   "metadata": {
    "slideshow": {
     "slide_type": "fragment"
    }
   },
   "outputs": [],
   "source": []
  },
  {
   "cell_type": "code",
   "execution_count": 5,
   "metadata": {},
   "outputs": [],
   "source": []
  },
  {
   "cell_type": "markdown",
   "metadata": {
    "slideshow": {
     "slide_type": "slide"
    }
   },
   "source": [
    "You can also create numpy arrays using specific utilties... \n",
    "\n",
    "Exercise:\n",
    "\n",
    "1) Create a numpy array containing 0 to 8 in steps of two: use np.arange() with three arguments; the start value, the non-inclusive end value, and the step size.\n",
    "\n",
    "2) Create a numpy array with five 0's and five 1's: use np.repeat() with two arguments; the first is a python list containing the numbers to be repeated, the second is the number of repeats required.\n",
    "\n",
    "3) Create a numpy array with the results from rolling a six sided die 10 times: use np.random.choice() with two arguments; the first is a python list containing the numbers on the die, the second is the number of 'rolls' you would like to make."
   ]
  },
  {
   "cell_type": "code",
   "execution_count": 7,
   "metadata": {},
   "outputs": [
    {
     "data": {
      "text/plain": [
       "array([0, 2, 4, 6, 8])"
      ]
     },
     "execution_count": 7,
     "metadata": {},
     "output_type": "execute_result"
    }
   ],
   "source": []
  },
  {
   "cell_type": "code",
   "execution_count": 8,
   "metadata": {},
   "outputs": [
    {
     "data": {
      "text/plain": [
       "array([0, 0, 0, 0, 0, 1, 1, 1, 1, 1])"
      ]
     },
     "execution_count": 8,
     "metadata": {},
     "output_type": "execute_result"
    }
   ],
   "source": []
  },
  {
   "cell_type": "code",
   "execution_count": 10,
   "metadata": {},
   "outputs": [
    {
     "data": {
      "text/plain": [
       "array([6, 4, 2, 6, 5, 1, 5, 6, 6, 1])"
      ]
     },
     "execution_count": 10,
     "metadata": {},
     "output_type": "execute_result"
    }
   ],
   "source": []
  },
  {
   "cell_type": "markdown",
   "metadata": {
    "slideshow": {
     "slide_type": "fragment"
    }
   },
   "source": [
    "...here we are using the random library within numpy to simulate experimental data... \n",
    "\n",
    "(ie., drawing a number out of a set (1 to 6) 10 times). "
   ]
  },
  {
   "cell_type": "markdown",
   "metadata": {
    "slideshow": {
     "slide_type": "slide"
    }
   },
   "source": [
    "## How do you compute with arrays?"
   ]
  },
  {
   "cell_type": "markdown",
   "metadata": {
    "slideshow": {
     "slide_type": "fragment"
    }
   },
   "source": [
    "Suppose we generate an array which represents the ages of 10 people (mean=$30 \\pm 5$)\n",
    "\n",
    "Exercise:\n",
    "\n",
    "1) Use np.random.normal() with three arguments: the mean of the normal distribution, the standard deviation, and the number of numbers to randomly generate. Save this as x_age.\n",
    "\n",
    "2) Compare x_age with 3\\*x_age + 1. Has this worked as you expected?\n",
    "\n",
    "3) Does this work if the ages were stored as a python list?"
   ]
  },
  {
   "cell_type": "code",
   "execution_count": 11,
   "metadata": {},
   "outputs": [
    {
     "data": {
      "text/plain": [
       "array([34.1991967 , 30.24432994, 22.2981988 , 30.3467465 , 36.82930756,\n",
       "       28.61027986, 21.12384923, 31.55380876, 30.37955958, 31.69838353])"
      ]
     },
     "execution_count": 11,
     "metadata": {},
     "output_type": "execute_result"
    }
   ],
   "source": []
  },
  {
   "cell_type": "code",
   "execution_count": 12,
   "metadata": {},
   "outputs": [
    {
     "data": {
      "text/plain": [
       "array([103.5975901 ,  91.73298982,  67.89459639,  92.04023949,\n",
       "       111.48792268,  86.83083958,  64.37154769,  95.66142628,\n",
       "        92.13867873,  96.0951506 ])"
      ]
     },
     "execution_count": 12,
     "metadata": {},
     "output_type": "execute_result"
    }
   ],
   "source": []
  },
  {
   "cell_type": "code",
   "execution_count": 15,
   "metadata": {},
   "outputs": [
    {
     "data": {
      "text/plain": [
       "30"
      ]
     },
     "execution_count": 15,
     "metadata": {},
     "output_type": "execute_result"
    }
   ],
   "source": []
  },
  {
   "cell_type": "markdown",
   "metadata": {
    "slideshow": {
     "slide_type": "fragment"
    }
   },
   "source": [
    "Notice that `3*` is run on every element, as is `+1`. \n",
    "\n",
    "This is called **vectorization**. "
   ]
  },
  {
   "cell_type": "code",
   "execution_count": null,
   "metadata": {},
   "outputs": [],
   "source": []
  },
  {
   "cell_type": "markdown",
   "metadata": {
    "slideshow": {
     "slide_type": "slide"
    }
   },
   "source": [
    "## What is a Sequence?\n",
    "\n",
    "Exercise:\n",
    "\n",
    "1) Display x_age.\n",
    "\n",
    "2) Investigate what x_age.shape returns.\n",
    "\n",
    "3) Compare this to len(x_age)"
   ]
  },
  {
   "cell_type": "code",
   "execution_count": 16,
   "metadata": {},
   "outputs": [
    {
     "name": "stdout",
     "output_type": "stream",
     "text": [
      "[34.1991967  30.24432994 22.2981988  30.3467465  36.82930756 28.61027986\n",
      " 21.12384923 31.55380876 30.37955958 31.69838353]\n"
     ]
    }
   ],
   "source": [
    "\n"
   ]
  },
  {
   "cell_type": "code",
   "execution_count": 17,
   "metadata": {},
   "outputs": [
    {
     "data": {
      "text/plain": [
       "(10,)"
      ]
     },
     "execution_count": 17,
     "metadata": {},
     "output_type": "execute_result"
    }
   ],
   "source": []
  },
  {
   "cell_type": "code",
   "execution_count": 29,
   "metadata": {},
   "outputs": [
    {
     "data": {
      "text/plain": [
       "10"
      ]
     },
     "execution_count": 29,
     "metadata": {},
     "output_type": "execute_result"
    }
   ],
   "source": []
  },
  {
   "cell_type": "markdown",
   "metadata": {
    "slideshow": {
     "slide_type": "slide"
    }
   },
   "source": [
    "### How do I index a sequence?"
   ]
  },
  {
   "cell_type": "markdown",
   "metadata": {
    "slideshow": {
     "slide_type": "fragment"
    }
   },
   "source": [
    "Just the same as python lists...\n",
    "\n",
    "Exercise:\n",
    "\n",
    "1) Display the first item in your x_age array using x_age\\[0\\].\n",
    "\n",
    "2) Use 0:2 to select the first and second items from your array (Notice that the third, in the 2nd position is not included).\n",
    "\n",
    "3) Use -1 to select the last item from your array.\n"
   ]
  },
  {
   "cell_type": "code",
   "execution_count": 18,
   "metadata": {},
   "outputs": [
    {
     "data": {
      "text/plain": [
       "34.19919669861618"
      ]
     },
     "execution_count": 18,
     "metadata": {},
     "output_type": "execute_result"
    }
   ],
   "source": []
  },
  {
   "cell_type": "code",
   "execution_count": 19,
   "metadata": {},
   "outputs": [
    {
     "data": {
      "text/plain": [
       "array([34.1991967 , 30.24432994])"
      ]
     },
     "execution_count": 19,
     "metadata": {},
     "output_type": "execute_result"
    }
   ],
   "source": []
  },
  {
   "cell_type": "code",
   "execution_count": 20,
   "metadata": {},
   "outputs": [
    {
     "data": {
      "text/plain": [
       "31.698383533844563"
      ]
     },
     "execution_count": 20,
     "metadata": {},
     "output_type": "execute_result"
    }
   ],
   "source": []
  },
  {
   "cell_type": "markdown",
   "metadata": {
    "slideshow": {
     "slide_type": "slide"
    }
   },
   "source": [
    "## What is a Matrix?\n",
    "\n",
    "A table of numbers...\n",
    "\n",
    "Exercise:\n",
    "\n",
    "1) Run the section of code below to create the matrix saved as M.\n",
    "\n",
    "2) Which values are in the first row and which are in the first column?"
   ]
  },
  {
   "cell_type": "code",
   "execution_count": 21,
   "metadata": {
    "slideshow": {
     "slide_type": "fragment"
    }
   },
   "outputs": [],
   "source": [
    "M = np.array([\n",
    "    [1000, 12, +1], #eg., Loan, Duration, Settle\n",
    "    [2000, 9, -1], #eg., Loan, Duration, Settle  \n",
    "    [3000, 6, -1], #eg., Loan, Duration, Settle  \n",
    "])"
   ]
  },
  {
   "cell_type": "code",
   "execution_count": 24,
   "metadata": {},
   "outputs": [
    {
     "name": "stdout",
     "output_type": "stream",
     "text": [
      "[[1000   12    1]\n",
      " [2000    9   -1]\n",
      " [3000    6   -1]] (3, 3)\n"
     ]
    },
    {
     "data": {
      "text/plain": [
       "array([[1000,   12,    1],\n",
       "       [2000,    9,   -1],\n",
       "       [3000,    6,   -1]])"
      ]
     },
     "execution_count": 24,
     "metadata": {},
     "output_type": "execute_result"
    }
   ],
   "source": []
  },
  {
   "cell_type": "markdown",
   "metadata": {
    "slideshow": {
     "slide_type": "slide"
    }
   },
   "source": [
    "### How do I index a matrix?"
   ]
  },
  {
   "cell_type": "markdown",
   "metadata": {
    "slideshow": {
     "slide_type": "fragment"
    }
   },
   "source": [
    "`M[row-index, col-index]`\n",
    "\n",
    "Note, both indexes work like list indexes -- except now there are two. \n",
    "\n",
    "Exercise:\n",
    "\n",
    "1) Use M[r,c] with appropriate values for r and c to display the value in the first row in the first column.\n",
    "\n",
    "2) Display the value in the second row in the first column.\n",
    "\n",
    "3) Display the first and second rows (using :) from the last column."
   ]
  },
  {
   "cell_type": "code",
   "execution_count": 25,
   "metadata": {},
   "outputs": [
    {
     "data": {
      "text/plain": [
       "1000"
      ]
     },
     "execution_count": 25,
     "metadata": {},
     "output_type": "execute_result"
    }
   ],
   "source": []
  },
  {
   "cell_type": "code",
   "execution_count": 26,
   "metadata": {},
   "outputs": [
    {
     "data": {
      "text/plain": [
       "2000"
      ]
     },
     "execution_count": 26,
     "metadata": {},
     "output_type": "execute_result"
    }
   ],
   "source": []
  },
  {
   "cell_type": "code",
   "execution_count": 27,
   "metadata": {},
   "outputs": [
    {
     "data": {
      "text/plain": [
       "array([ 1, -1])"
      ]
     },
     "execution_count": 27,
     "metadata": {},
     "output_type": "execute_result"
    }
   ],
   "source": []
  },
  {
   "cell_type": "markdown",
   "metadata": {
    "slideshow": {
     "slide_type": "slide"
    }
   },
   "source": [
    "### What is a Vector?\n",
    "A vector is a matrix of one column.\n",
    "\n",
    "Exercise:\n",
    "\n",
    "1) Use np.array() to create a matrix with one column containing the numbers 10, 11, 12.\n",
    "\n",
    "2) Display your results from question 1 to check it's a column rather than a row.\n",
    "\n",
    "3) Select the first item in your vector using square brackets to address the location you want. Hint: You will still need to give the column location!\n",
    "\n",
    "4) Attempt to select the item in the first row *second* column to see what error you get when you try to address an item outside of the dimensions of your matrix."
   ]
  },
  {
   "cell_type": "code",
   "execution_count": 36,
   "metadata": {},
   "outputs": [
    {
     "name": "stdout",
     "output_type": "stream",
     "text": [
      "[[10]\n",
      " [11]\n",
      " [12]]\n"
     ]
    }
   ],
   "source": [
    "\n"
   ]
  },
  {
   "cell_type": "code",
   "execution_count": 37,
   "metadata": {},
   "outputs": [
    {
     "data": {
      "text/plain": [
       "(3, 1)"
      ]
     },
     "execution_count": 37,
     "metadata": {},
     "output_type": "execute_result"
    }
   ],
   "source": []
  },
  {
   "cell_type": "code",
   "execution_count": 38,
   "metadata": {},
   "outputs": [
    {
     "data": {
      "text/plain": [
       "10"
      ]
     },
     "execution_count": 38,
     "metadata": {},
     "output_type": "execute_result"
    }
   ],
   "source": []
  },
  {
   "cell_type": "markdown",
   "metadata": {
    "slideshow": {
     "slide_type": "slide"
    }
   },
   "source": [
    "## Why would we use a matrix of one column?"
   ]
  },
  {
   "cell_type": "markdown",
   "metadata": {
    "slideshow": {
     "slide_type": "fragment"
    }
   },
   "source": [
    "In machine learning (libraries) we must always have our features ($X$) formatted as a matrix.\n",
    "\n",
    "Each row of the feature matrix $X$ *must* be one complete observation. This is assumed in how these libraries process data. "
   ]
  },
  {
   "cell_type": "markdown",
   "metadata": {
    "slideshow": {
     "slide_type": "slide"
    }
   },
   "source": [
    "## How do I select multiple elements?\n",
    "\n",
    "Exercise:\n",
    "\n",
    "1) Display M (so you have it for reference)\n",
    "\n",
    "2) Explore the difference between M\\[0:2,0\\] and M\\[:2,0\\]\n",
    "\n",
    "3) What does M\\[:,0\\] do?\n",
    "\n",
    "4) What does M\\[(0,2),0\\] do?\n",
    "\n",
    "5) Select the first and third rows (all columns)."
   ]
  },
  {
   "cell_type": "code",
   "execution_count": 39,
   "metadata": {},
   "outputs": [
    {
     "name": "stdout",
     "output_type": "stream",
     "text": [
      "[[1000   12    1]\n",
      " [2000    9   -1]\n",
      " [3000    6   -1]]\n"
     ]
    }
   ],
   "source": []
  },
  {
   "cell_type": "code",
   "execution_count": 40,
   "metadata": {},
   "outputs": [
    {
     "data": {
      "text/plain": [
       "(array([1000, 2000]), array([1000, 2000]))"
      ]
     },
     "execution_count": 40,
     "metadata": {},
     "output_type": "execute_result"
    }
   ],
   "source": []
  },
  {
   "cell_type": "code",
   "execution_count": 41,
   "metadata": {},
   "outputs": [
    {
     "data": {
      "text/plain": [
       "array([1000, 2000, 3000])"
      ]
     },
     "execution_count": 41,
     "metadata": {},
     "output_type": "execute_result"
    }
   ],
   "source": []
  },
  {
   "cell_type": "code",
   "execution_count": 42,
   "metadata": {},
   "outputs": [
    {
     "data": {
      "text/plain": [
       "array([[1000,   12,    1],\n",
       "       [3000,    6,   -1]])"
      ]
     },
     "execution_count": 42,
     "metadata": {},
     "output_type": "execute_result"
    }
   ],
   "source": []
  },
  {
   "cell_type": "markdown",
   "metadata": {
    "slideshow": {
     "slide_type": "fragment"
    }
   },
   "source": [
    "Remember:  `label[index]`  <- always means FIND `index` in `label`\n",
    "\n",
    "Remember: `[data,]` <- always means `list`\n"
   ]
  },
  {
   "cell_type": "markdown",
   "metadata": {
    "slideshow": {
     "slide_type": "slide"
    }
   },
   "source": [
    "## How do I select elements by a condition?"
   ]
  },
  {
   "cell_type": "markdown",
   "metadata": {
    "slideshow": {
     "slide_type": "fragment"
    }
   },
   "source": [
    "Comparisons are also *vectorized*, meaning, they run across every element:\n",
    "\n",
    "Exercise:\n",
    "\n",
    "1) Display x_age. Display the results from x_age < 30. Compare them to check it worked.\n",
    "\n",
    "2) Use np.where(x_age < 30) and check that the results are the locations of the ages you have that are less than 30.\n",
    "\n",
    "3) Use the code from the previous question to select all the rows where the condition is met. Hint: put np.where(x_age < 30) in the square brackets as the address.\n",
    "\n",
    "4) Compare your previous answer to using x_age\\[ x_age < 30 \\].\n",
    "\n",
    "Extension:\n",
    "\n",
    "Use a for loop to create a list of the ages that are less than 30. Use %%timeit to compare how long this takes compared with your answers to question 3 and 4.\n",
    "\n"
   ]
  },
  {
   "cell_type": "code",
   "execution_count": 43,
   "metadata": {},
   "outputs": [
    {
     "data": {
      "text/plain": [
       "array([False, False,  True, False, False,  True,  True, False, False,\n",
       "       False])"
      ]
     },
     "execution_count": 43,
     "metadata": {},
     "output_type": "execute_result"
    }
   ],
   "source": []
  },
  {
   "cell_type": "markdown",
   "metadata": {
    "slideshow": {
     "slide_type": "slide"
    }
   },
   "source": [
    "`np.where` tells you the index of the `True` values... "
   ]
  },
  {
   "cell_type": "code",
   "execution_count": 44,
   "metadata": {},
   "outputs": [
    {
     "data": {
      "text/plain": [
       "(array([2, 5, 6], dtype=int64),)"
      ]
     },
     "execution_count": 44,
     "metadata": {},
     "output_type": "execute_result"
    }
   ],
   "source": []
  },
  {
   "cell_type": "code",
   "execution_count": null,
   "metadata": {},
   "outputs": [],
   "source": []
  },
  {
   "cell_type": "code",
   "execution_count": null,
   "metadata": {},
   "outputs": [],
   "source": []
  },
  {
   "cell_type": "code",
   "execution_count": null,
   "metadata": {},
   "outputs": [],
   "source": []
  },
  {
   "cell_type": "markdown",
   "metadata": {
    "slideshow": {
     "slide_type": "slide"
    }
   },
   "source": [
    "## How do I combine conditions?"
   ]
  },
  {
   "cell_type": "markdown",
   "metadata": {
    "slideshow": {
     "slide_type": "fragment"
    }
   },
   "source": [
    "Recall, in python:"
   ]
  },
  {
   "cell_type": "code",
   "execution_count": 103,
   "metadata": {
    "slideshow": {
     "slide_type": "fragment"
    }
   },
   "outputs": [
    {
     "data": {
      "text/plain": [
       "True"
      ]
     },
     "execution_count": 103,
     "metadata": {},
     "output_type": "execute_result"
    }
   ],
   "source": [
    "age = 18\n",
    "email = \"michael.burgess@qa.com\"\n",
    "\n",
    "(age <= 20) and (\"@\" in email)"
   ]
  },
  {
   "cell_type": "markdown",
   "metadata": {
    "slideshow": {
     "slide_type": "fragment"
    }
   },
   "source": [
    "The problem with using `and`, (`or`, `not` etc.) with numpy, is that they only work for *single* comparisons. \n",
    "\n",
    "Exercise:\n",
    "\n",
    "Run the below section of code to store the temp and hours arrays."
   ]
  },
  {
   "cell_type": "code",
   "execution_count": 108,
   "metadata": {
    "slideshow": {
     "slide_type": "slide"
    }
   },
   "outputs": [],
   "source": [
    "temp = np.array([19, 21, 23]) # eg., temp of a room \n",
    "hours = np.array([0, 0.5, 1]) # eg., duration of heating"
   ]
  },
  {
   "cell_type": "markdown",
   "metadata": {
    "slideshow": {
     "slide_type": "fragment"
    }
   },
   "source": [
    "To combine comparisons across and array we must use *vectorized* operators (ie., ones which work with arrays).\n",
    "\n",
    "* `&` and \n",
    "* `|` or\n",
    "* `~` not\n",
    "\n",
    "Exercise:\n",
    "\n",
    "Display True of False for each row:\n",
    "\n",
    "1) Temperature over 20 and house less than 0.75\n",
    "\n",
    "2) Temperature over 20 or hours 1 or more\n",
    "\n",
    "3) Not the answer to question 1.\n",
    "\n",
    "Extension\n",
    "\n",
    "Is there an alternative to question 3 that gives the same results but without using any nots?"
   ]
  },
  {
   "cell_type": "code",
   "execution_count": null,
   "metadata": {},
   "outputs": [],
   "source": []
  },
  {
   "cell_type": "code",
   "execution_count": null,
   "metadata": {},
   "outputs": [],
   "source": []
  },
  {
   "cell_type": "code",
   "execution_count": null,
   "metadata": {},
   "outputs": [],
   "source": []
  },
  {
   "cell_type": "markdown",
   "metadata": {
    "slideshow": {
     "slide_type": "slide"
    }
   },
   "source": [
    "## How do you simulate real-valued data?"
   ]
  },
  {
   "cell_type": "markdown",
   "metadata": {
    "slideshow": {
     "slide_type": "fragment"
    }
   },
   "source": [
    "10 random values, whose mean will be aproximately $30$, and which will vary from 30, on average, by $5$..."
   ]
  },
  {
   "cell_type": "code",
   "execution_count": 166,
   "metadata": {
    "slideshow": {
     "slide_type": "fragment"
    }
   },
   "outputs": [
    {
     "data": {
      "text/plain": [
       "array([19.42974668, 45.13651107, 20.74212228, 34.93130155, 29.081382  ,\n",
       "       41.01384116, 30.09996855, 15.98946629, 31.61639624, 32.35979923])"
      ]
     },
     "execution_count": 166,
     "metadata": {},
     "output_type": "execute_result"
    }
   ],
   "source": [
    "np.random.normal(30, 5, 10)"
   ]
  },
  {
   "cell_type": "markdown",
   "metadata": {
    "slideshow": {
     "slide_type": "slide"
    }
   },
   "source": [
    "## How do you simulate categorical data?"
   ]
  },
  {
   "cell_type": "markdown",
   "metadata": {
    "slideshow": {
     "slide_type": "fragment"
    }
   },
   "source": [
    "Categorical data is represented as *labels* (eg., die faces, cards, answers to questions, locations)....\n",
    "\n",
    "Exercise:\n",
    "\n",
    "Run the below sections of code to save x_like_film and calculate the probability of 'No'."
   ]
  },
  {
   "cell_type": "code",
   "execution_count": 143,
   "metadata": {
    "scrolled": true,
    "slideshow": {
     "slide_type": "fragment"
    }
   },
   "outputs": [
    {
     "data": {
      "text/plain": [
       "array(['YES', 'YES', 'YES', 'YES', 'NO', 'YES', 'YES', 'YES', 'NO', 'YES'],\n",
       "      dtype='<U3')"
      ]
     },
     "execution_count": 143,
     "metadata": {},
     "output_type": "execute_result"
    }
   ],
   "source": [
    "x_like_film = np.random.choice([\"YES\", \"NO\"], 10)\n",
    "x_like_film"
   ]
  },
  {
   "cell_type": "markdown",
   "metadata": {
    "slideshow": {
     "slide_type": "slide"
    }
   },
   "source": [
    "In numpy, `random.choice` is the easiest way to simulate a categorical variable (eg., `x_like_film`). \n",
    "\n",
    "A categorical variable *IS NOT* numerical in the ordinary sense, so if we wish to compute statistics on it, we typically convert it to a frequency distribution (ie., we count the entires). "
   ]
  },
  {
   "cell_type": "code",
   "execution_count": 147,
   "metadata": {
    "slideshow": {
     "slide_type": "fragment"
    }
   },
   "outputs": [
    {
     "data": {
      "text/plain": [
       "array([2, 8])"
      ]
     },
     "execution_count": 147,
     "metadata": {},
     "output_type": "execute_result"
    }
   ],
   "source": [
    "categories, counts = np.unique(x_like_film, return_counts=True)\n",
    "\n",
    "counts"
   ]
  },
  {
   "cell_type": "markdown",
   "metadata": {
    "slideshow": {
     "slide_type": "fragment"
    }
   },
   "source": [
    "The rate of \"NO\" (ie., $P(x=\\text{NO})$), "
   ]
  },
  {
   "cell_type": "code",
   "execution_count": 163,
   "metadata": {
    "slideshow": {
     "slide_type": "fragment"
    }
   },
   "outputs": [
    {
     "data": {
      "text/plain": [
       "0.44"
      ]
     },
     "execution_count": 163,
     "metadata": {},
     "output_type": "execute_result"
    }
   ],
   "source": [
    "counts[0] / sum(counts)"
   ]
  },
  {
   "cell_type": "markdown",
   "metadata": {
    "slideshow": {
     "slide_type": "slide"
    }
   },
   "source": [
    "## Exercise (25 min)\n",
    "\n",
    "You are hired by a cinema to make film recommendations to customers as they speak to your front desk staff.\n",
    "\n",
    "Your staff may observe: their age, budget, like_action, like_comedy. \n",
    "\n",
    "Note, $x : (age, budget, action, comedy) = (18, 10, +1, -1)$"
   ]
  },
  {
   "cell_type": "markdown",
   "metadata": {
    "slideshow": {
     "slide_type": "slide"
    }
   },
   "source": [
    "Let's simulate some data:"
   ]
  },
  {
   "cell_type": "markdown",
   "metadata": {
    "slideshow": {
     "slide_type": "fragment"
    }
   },
   "source": [
    "$x_{age} \\sim N(\\mu=35, \\sigma=5) $"
   ]
  },
  {
   "cell_type": "code",
   "execution_count": 151,
   "metadata": {
    "slideshow": {
     "slide_type": "fragment"
    }
   },
   "outputs": [],
   "source": [
    "x_age = np.random.normal(35, 15, 25) # normal = 35 +- 5\n",
    "x_budget = np.random.normal(10, 1.50, 25) # normal = 10 +- 1.50\n",
    "x_action = np.random.choice([1, 0], 25) # bernouli = coin flip\n",
    "x_comedy = np.random.choice([1, 0], 25) # bernouli = coin flip"
   ]
  },
  {
   "cell_type": "markdown",
   "metadata": {
    "slideshow": {
     "slide_type": "slide"
    }
   },
   "source": [
    "### Q1. Import and Compute\n",
    "* import the numpy library\n",
    "    * recall, use `np`\n",
    "    \n",
    "* you are given a regression and classification formula\n",
    "* use numpy to compute the $y$ predictions for each person\n",
    "* a formula to compute likely spend on consessions (food counter)\n",
    "    * $y = f(x_{age}, x_{budget}, x_{action}, x_{comedy}) = 0.1x_{age} + 0.1x_{budget} + x_{action} - x_{comedy}$\n",
    "\n",
    "* what is the expected (ie., average) spend for these customers?\n",
    "    * HINT: `.mean()`\n",
    "    \n",
    "#### EXTRA\n",
    "* a formula to compute whether they will like the blockbuster currently showing\n",
    "    * $y = f(x_{age}, x_{budget}, x_{action}, x_{comedy}) = (x_{age} < 18) \\text{ or } (x_{budget} > 10) \\text{ and } x_{action}$\n",
    "* HINT:\n",
    "    * `(age < 18) | (budget > 10) & (action == 1)`\n",
    "    \n",
    "* what is $P(y=LikeFilm)$ ?\n",
    "    * HINT: `.mean`"
   ]
  },
  {
   "cell_type": "code",
   "execution_count": null,
   "metadata": {},
   "outputs": [],
   "source": []
  },
  {
   "cell_type": "code",
   "execution_count": null,
   "metadata": {},
   "outputs": [],
   "source": []
  },
  {
   "cell_type": "code",
   "execution_count": null,
   "metadata": {},
   "outputs": [],
   "source": []
  },
  {
   "cell_type": "code",
   "execution_count": null,
   "metadata": {},
   "outputs": [],
   "source": []
  },
  {
   "cell_type": "markdown",
   "metadata": {
    "slideshow": {
     "slide_type": "slide"
    }
   },
   "source": [
    "### Q2. Select Elements & Describe\n",
    "\n",
    "* Produce a report of the simulated data\n",
    "    * show `.mean()` of all x\n",
    "    * show `.std()` of all \n",
    "    * `.min()`, `.max()`\n",
    "    \n",
    "* Show sample observations\n",
    "    * first, last\n",
    "    * first two, last two\n",
    "    * extra: the median\n",
    "    \n",
    "* EXTRA: Show the budget of people who are adults\n",
    "    * HINT: `x_budget[ x_age ... ]`\n",
    "    \n",
    "    * and other conditions of interest..."
   ]
  },
  {
   "cell_type": "code",
   "execution_count": null,
   "metadata": {},
   "outputs": [],
   "source": []
  },
  {
   "cell_type": "code",
   "execution_count": null,
   "metadata": {},
   "outputs": [],
   "source": []
  },
  {
   "cell_type": "code",
   "execution_count": null,
   "metadata": {},
   "outputs": [],
   "source": []
  },
  {
   "cell_type": "markdown",
   "metadata": {
    "slideshow": {
     "slide_type": "slide"
    }
   },
   "source": [
    "## Extension\n",
    "\n",
    "Start to create your own NumPy cheat sheet:\n",
    "\n",
    "* Using the NumPy user guide: https://numpy.org/doc/stable/numpy-user.pdf\n",
    "* Read Chapter 3 to start populating your cheat sheet: include Array methods (functions), Matrix methods, and Mathematical functions. Include a short description/summary to help you use them later.\n",
    "* Full NumPy documentation is available here: https://numpy.org/doc/stable/numpy-ref.pdf"
   ]
  }
 ],
 "metadata": {
  "celltoolbar": "Slideshow",
  "kernelspec": {
   "display_name": "Python 3",
   "language": "python",
   "name": "python3"
  },
  "language_info": {
   "codemirror_mode": {
    "name": "ipython",
    "version": 3
   },
   "file_extension": ".py",
   "mimetype": "text/x-python",
   "name": "python",
   "nbconvert_exporter": "python",
   "pygments_lexer": "ipython3",
   "version": "3.8.8"
  }
 },
 "nbformat": 4,
 "nbformat_minor": 4
}
