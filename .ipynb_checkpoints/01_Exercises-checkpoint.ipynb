{
 "cells": [
  {
   "cell_type": "markdown",
   "metadata": {
    "slideshow": {
     "slide_type": "slide"
    }
   },
   "source": [
    "# Introduction to Libraries in Python\n",
    "### Python for Data Science & Analysis"
   ]
  },
  {
   "cell_type": "markdown",
   "metadata": {
    "slideshow": {
     "slide_type": "slide"
    }
   },
   "source": [
    "## What are the key data science libaries?"
   ]
  },
  {
   "cell_type": "markdown",
   "metadata": {
    "slideshow": {
     "slide_type": "fragment"
    }
   },
   "source": [
    "Anaconda includes `python` and all of the following libraries. "
   ]
  },
  {
   "cell_type": "markdown",
   "metadata": {
    "slideshow": {
     "slide_type": "slide"
    }
   },
   "source": [
    "NumPy, Numerical Python: provides fast numerical arrays. \n",
    "\n",
    "Exercise: load the numpy library with the typical alias:"
   ]
  },
  {
   "cell_type": "code",
   "execution_count": 15,
   "metadata": {
    "slideshow": {
     "slide_type": "fragment"
    }
   },
   "outputs": [],
   "source": []
  },
  {
   "cell_type": "markdown",
   "metadata": {
    "slideshow": {
     "slide_type": "fragment"
    }
   },
   "source": [
    "Pandas: fast tables, based on numpy.\n",
    "\n",
    "Exercise: load the pandas library with the typical alias:"
   ]
  },
  {
   "cell_type": "code",
   "execution_count": 16,
   "metadata": {
    "slideshow": {
     "slide_type": "fragment"
    }
   },
   "outputs": [],
   "source": []
  },
  {
   "cell_type": "markdown",
   "metadata": {
    "slideshow": {
     "slide_type": "slide"
    }
   },
   "source": [
    "Seaborn: Simple visualization library.\n",
    "\n",
    "Exercise: load the seaborn library with the typical alias:"
   ]
  },
  {
   "cell_type": "code",
   "execution_count": 17,
   "metadata": {
    "slideshow": {
     "slide_type": "fragment"
    }
   },
   "outputs": [],
   "source": []
  },
  {
   "cell_type": "markdown",
   "metadata": {
    "slideshow": {
     "slide_type": "fragment"
    }
   },
   "source": [
    "Matplotlib: more customizable visulization library (seaborn uses this). \n",
    "\n",
    "Exercise: load the matplotlib.pyplot library with the typical alias:"
   ]
  },
  {
   "cell_type": "code",
   "execution_count": 19,
   "metadata": {
    "slideshow": {
     "slide_type": "fragment"
    }
   },
   "outputs": [],
   "source": []
  },
  {
   "cell_type": "markdown",
   "metadata": {
    "slideshow": {
     "slide_type": "slide"
    }
   },
   "source": [
    "Sci-Kit Learn: simple machine learning library.\n",
    "\n",
    "Exercise: load the sklearn library with the typical alias:"
   ]
  },
  {
   "cell_type": "code",
   "execution_count": 21,
   "metadata": {
    "slideshow": {
     "slide_type": "fragment"
    }
   },
   "outputs": [],
   "source": []
  },
  {
   "cell_type": "markdown",
   "metadata": {
    "slideshow": {
     "slide_type": "fragment"
    }
   },
   "source": [
    "Tensorflow: a library for running mathematical functions and tracking a gradient as you do so. This is mostly used for neural networks. \n",
    "\n",
    "(Aside: ie., it keeps track of how the loss changes, for almost any (complex) mathematical function). \n",
    "\n",
    "Exercise: load the tensorflow library with the typical alias:"
   ]
  },
  {
   "cell_type": "code",
   "execution_count": 22,
   "metadata": {
    "slideshow": {
     "slide_type": "fragment"
    }
   },
   "outputs": [],
   "source": []
  },
  {
   "cell_type": "markdown",
   "metadata": {
    "slideshow": {
     "slide_type": "slide"
    }
   },
   "source": [
    "NetworkX: (Social) Network Analysis\n",
    "\n",
    "Exercise: load the networkx library with the typical alias:"
   ]
  },
  {
   "cell_type": "code",
   "execution_count": 20,
   "metadata": {
    "slideshow": {
     "slide_type": "fragment"
    }
   },
   "outputs": [],
   "source": []
  },
  {
   "cell_type": "markdown",
   "metadata": {
    "slideshow": {
     "slide_type": "fragment"
    }
   },
   "source": [
    "## How do I install a python package? \n",
    "\n",
    "* package = unified libraries"
   ]
  },
  {
   "cell_type": "markdown",
   "metadata": {},
   "source": [
    "Exercise: install networkx. You should see that this is already installed (Requirement already satisfied)."
   ]
  },
  {
   "cell_type": "code",
   "execution_count": 29,
   "metadata": {
    "slideshow": {
     "slide_type": "fragment"
    }
   },
   "outputs": [
    {
     "name": "stdout",
     "output_type": "stream",
     "text": [
      "Requirement already satisfied: networkx in /opt/anaconda3/lib/python3.8/site-packages (2.4)\n",
      "Requirement already satisfied: decorator>=4.3.0 in /opt/anaconda3/lib/python3.8/site-packages (from networkx) (4.4.2)\n"
     ]
    }
   ],
   "source": []
  },
  {
   "cell_type": "markdown",
   "metadata": {
    "slideshow": {
     "slide_type": "slide"
    }
   },
   "source": [
    "## Why do you need to use libraries?"
   ]
  },
  {
   "cell_type": "markdown",
   "metadata": {
    "slideshow": {
     "slide_type": "fragment"
    }
   },
   "source": [
    "eg., NumPy provies \"fast arrays\"... why not just use lists?\n",
    "\n",
    "Python is **very** slow. So any syntax (keywords, data structures, etc.) are **slow**. \n",
    "\n",
    "How can NumPy be faster? Isn't numpy written in python? **NO!!**\n",
    "\n",
    "Almost all the code data scientists (, analysts) are using is not written in python. \n",
    "\n",
    "Exercise: repeat the example from the slides for yourself:"
   ]
  },
  {
   "cell_type": "code",
   "execution_count": 30,
   "metadata": {
    "slideshow": {
     "slide_type": "slide"
    }
   },
   "outputs": [
    {
     "data": {
      "text/plain": [
       "array([-6.70818376,  0.1262422 , -1.45490117,  3.32989769, 12.57914692,\n",
       "        2.23088554, -0.47424464,  1.33968125,  0.21156761,  3.46445087])"
      ]
     },
     "execution_count": 30,
     "metadata": {},
     "output_type": "execute_result"
    }
   ],
   "source": [
    "np.random.normal(0, 5, 10)"
   ]
  },
  {
   "cell_type": "code",
   "execution_count": 31,
   "metadata": {
    "scrolled": true,
    "slideshow": {
     "slide_type": "fragment"
    }
   },
   "outputs": [
    {
     "data": {
      "text/plain": [
       "-0.7182280008652338"
      ]
     },
     "execution_count": 31,
     "metadata": {},
     "output_type": "execute_result"
    }
   ],
   "source": [
    "x = np.random.normal(0, 5, 10)\n",
    "x.mean()"
   ]
  },
  {
   "cell_type": "markdown",
   "metadata": {
    "slideshow": {
     "slide_type": "fragment"
    }
   },
   "source": [
    "The `normal` function, and the `mean` function are written in either `FORTRAN` or `C` -- different languages which are much (, much) faster. \n",
    "\n",
    "You use a python name, eg., `x.mean`, but actually (compiled) `FORTRAN` code is being run. "
   ]
  },
  {
   "cell_type": "code",
   "execution_count": 37,
   "metadata": {
    "slideshow": {
     "slide_type": "slide"
    }
   },
   "outputs": [
    {
     "name": "stdout",
     "output_type": "stream",
     "text": [
      "242 µs ± 2.42 µs per loop (mean ± std. dev. of 7 runs, 1000 loops each)\n"
     ]
    }
   ],
   "source": [
    "%%timeit\n",
    "\n",
    "x = np.random.normal(0, 5, 10_000) # <- happening elsewhere\n",
    "x.mean()# not python! "
   ]
  },
  {
   "cell_type": "markdown",
   "metadata": {},
   "source": [
    "Exercise: \n",
    "1) Import the random and statistics packages.\n",
    "\n",
    "2) Create an empty list named x. Hint: use square brackets to creat a list in python.\n",
    "\n",
    "3) Use a for loop 10000 times with these lines of code:\n",
    "\n",
    "randNum = 5\\*random.random()\n",
    "\n",
    "x.append(randNum)\n",
    "\n",
    "4) Explain what the loop creates.\n",
    "\n",
    "5) Use statistics.mean() with the list as the argument to calculate the mean of your random numbers.\n",
    "\n",
    "6) Use %%timeit at the start of your code (ensure your previous answers in this exercise are in the same code block)\n",
    "\n",
    "7) Which was faster and by how much? C/Fortran: NumPy; or Python: random and statistics."
   ]
  },
  {
   "cell_type": "code",
   "execution_count": null,
   "metadata": {},
   "outputs": [],
   "source": []
  },
  {
   "cell_type": "code",
   "execution_count": null,
   "metadata": {},
   "outputs": [],
   "source": []
  },
  {
   "cell_type": "markdown",
   "metadata": {
    "slideshow": {
     "slide_type": "fragment"
    }
   },
   "source": [
    "However, note that the numpy code is likely to be the fastest you can possibly write (ie., its unlikely you will write faster in any other language). "
   ]
  },
  {
   "cell_type": "markdown",
   "metadata": {
    "slideshow": {
     "slide_type": "slide"
    }
   },
   "source": [
    "## How do the libraries work together?\n",
    "\n",
    "* NumPy \n",
    "    * arrays\n",
    "* Pandas\n",
    "    * tables (, data files, ...)\n",
    "* Seaborn\n",
    "    * visualization\n",
    "* Sklearn\n",
    "    * machine learning"
   ]
  },
  {
   "cell_type": "markdown",
   "metadata": {
    "slideshow": {
     "slide_type": "slide"
    }
   },
   "source": [
    "### 1. We use Pandas to Load a Dataset into a Table"
   ]
  },
  {
   "cell_type": "markdown",
   "metadata": {
    "slideshow": {
     "slide_type": "fragment"
    }
   },
   "source": [
    "`read_csv` loads a csv file into a *DataFrame* (aka. a table). \n",
    "\n",
    "Exercise:\n",
    "\n",
    "1) Use pd.readcsv() with the relative filepath as a string (in quotes) for the loan_train.csv file. Save this as loan.\n",
    "\n",
    "2) Use len() to calculate the length of loan (The number of rows).\n"
   ]
  },
  {
   "cell_type": "code",
   "execution_count": null,
   "metadata": {},
   "outputs": [],
   "source": []
  },
  {
   "cell_type": "markdown",
   "metadata": {
    "slideshow": {
     "slide_type": "slide"
    }
   },
   "source": [
    "### 2. Use Pandas to Explore & Prepare Data\n",
    "\n",
    "* Look at samples\n",
    "* Removing missing data\n",
    "\n",
    "Exercise:\n",
    "\n",
    "1) Use the dataframe method dropna() to remove rows that contain an 'NA' (used when the data is not available). Save this as loan (This will write over your original dataframe, but your csv will remain untouched since the dataframe is a copy).\n",
    "\n",
    "Hint: loan.dropna()\n",
    "\n",
    "2) Use the dataframe method sample() with an appropriate number as an argument to view a sample of the rows in your dataframe."
   ]
  },
  {
   "cell_type": "code",
   "execution_count": null,
   "metadata": {},
   "outputs": [],
   "source": []
  },
  {
   "cell_type": "markdown",
   "metadata": {
    "slideshow": {
     "slide_type": "slide"
    }
   },
   "source": [
    "### 3. Choose Learning Columns & Extract as Fast NumPy arrays from Table\n",
    "\n",
    "Exercise:\n",
    "\n",
    "1) Run the below code and explain what it accomplishes\n",
    "\n",
    "Hint: Display the results of x."
   ]
  },
  {
   "cell_type": "code",
   "execution_count": 80,
   "metadata": {
    "slideshow": {
     "slide_type": "fragment"
    }
   },
   "outputs": [],
   "source": [
    "data = loan[['Balance', 'Income']].to_numpy()\n",
    "\n",
    "x = data[:, 0:1]\n",
    "y = data[:, 1]"
   ]
  },
  {
   "cell_type": "code",
   "execution_count": null,
   "metadata": {},
   "outputs": [],
   "source": []
  },
  {
   "cell_type": "markdown",
   "metadata": {
    "slideshow": {
     "slide_type": "slide"
    }
   },
   "source": [
    "### 4. Use Seaborn to Inspect\n",
    "\n",
    "Exercise:\n",
    "\n",
    "1) Use scatterplot(x[:,0],y) from the seaborn package.\n",
    "\n",
    "Hint: Don't forget to use the seaborn alias to access this function!\n",
    "\n",
    "2) What variables are on each of the axes?"
   ]
  },
  {
   "cell_type": "code",
   "execution_count": null,
   "metadata": {},
   "outputs": [],
   "source": []
  },
  {
   "cell_type": "markdown",
   "metadata": {
    "slideshow": {
     "slide_type": "slide"
    }
   },
   "source": [
    "### 5. Use sklearn with NumPy arrays to learn (statistical) model"
   ]
  },
  {
   "cell_type": "markdown",
   "metadata": {
    "slideshow": {
     "slide_type": "fragment"
    }
   },
   "source": [
    "#### Choose model (eg., LinearRegression)\n",
    "\n",
    "Exercise:\n",
    "\n",
    "1) Run the below line of code to import LinearRegression from the Sci-Kit Learn package.#\n",
    "\n",
    "2) Use LinearRegression().fit(x,y) and save this as model\n",
    "\n"
   ]
  },
  {
   "cell_type": "code",
   "execution_count": null,
   "metadata": {
    "slideshow": {
     "slide_type": "fragment"
    }
   },
   "outputs": [],
   "source": [
    "from sklearn.linear_model import LinearRegression"
   ]
  },
  {
   "cell_type": "markdown",
   "metadata": {
    "slideshow": {
     "slide_type": "fragment"
    }
   },
   "source": [
    "#### Fit model on data (ie., \"Learn\")"
   ]
  },
  {
   "cell_type": "code",
   "execution_count": null,
   "metadata": {},
   "outputs": [],
   "source": []
  },
  {
   "cell_type": "markdown",
   "metadata": {
    "slideshow": {
     "slide_type": "slide"
    }
   },
   "source": [
    "#### Logical Inspection of Model"
   ]
  },
  {
   "cell_type": "markdown",
   "metadata": {
    "slideshow": {
     "slide_type": "fragment"
    }
   },
   "source": [
    "The parameters of the model are, for linear regression, given in `coef_` and `intercept_`... Traditionally lines can be given in the form y = mx + c, where m is the coefficient of x and tells us the gradient of the line, and c is a constant term and tells us the intercept point between the line and the vertical axis when x is zero.\n",
    "\n",
    "Exercise:\n",
    "\n",
    "1) Use model.coef_ to find the gradient of the straight line model.\n",
    "\n",
    "2) Find the vertical intercept.\n",
    "\n",
    "3) Write out the equation of the line."
   ]
  },
  {
   "cell_type": "code",
   "execution_count": null,
   "metadata": {},
   "outputs": [],
   "source": []
  },
  {
   "cell_type": "code",
   "execution_count": null,
   "metadata": {},
   "outputs": [],
   "source": []
  },
  {
   "cell_type": "markdown",
   "metadata": {
    "slideshow": {
     "slide_type": "slide"
    }
   },
   "source": [
    "#### Visual Inspection of Model\n",
    "\n",
    "Exercise:\n",
    "\n",
    "1) Run the below line of code to calculate yhat. This is the y values that the equation of the line gives for the x values we have."
   ]
  },
  {
   "cell_type": "code",
   "execution_count": 91,
   "metadata": {
    "slideshow": {
     "slide_type": "fragment"
    }
   },
   "outputs": [],
   "source": [
    "yhat = model.predict(x)"
   ]
  },
  {
   "cell_type": "code",
   "execution_count": 94,
   "metadata": {
    "slideshow": {
     "slide_type": "fragment"
    }
   },
   "outputs": [
    {
     "data": {
      "text/plain": [
       "<matplotlib.axes._subplots.AxesSubplot at 0x7fc299383640>"
      ]
     },
     "execution_count": 94,
     "metadata": {},
     "output_type": "execute_result"
    },
    {
     "data": {
      "image/png": "[encoded data removed]",
      "text/plain": [
       "<Figure size 432x288 with 1 Axes>"
      ]
     },
     "metadata": {
      "needs_background": "light"
     },
     "output_type": "display_data"
    }
   ],
   "source": [
    "sns.scatterplot(x[:, 0], y)\n",
    "sns.lineplot(x[:, 0], yhat, color=\"red\")"
   ]
  },
  {
   "cell_type": "markdown",
   "metadata": {
    "slideshow": {
     "slide_type": "slide"
    }
   },
   "source": [
    "#### Evaluate Model"
   ]
  },
  {
   "cell_type": "code",
   "execution_count": 95,
   "metadata": {
    "scrolled": true,
    "slideshow": {
     "slide_type": "fragment"
    }
   },
   "outputs": [
    {
     "data": {
      "text/plain": [
       "0.1215943777872095"
      ]
     },
     "execution_count": 95,
     "metadata": {},
     "output_type": "execute_result"
    }
   ],
   "source": [
    "model.score(x, y)"
   ]
  },
  {
   "cell_type": "markdown",
   "metadata": {
    "slideshow": {
     "slide_type": "slide"
    }
   },
   "source": [
    "## Extension\n",
    "\n",
    "Start to create your own NumPy cheat sheet:\n",
    "\n",
    "* Using the NumPy user guide: https://numpy.org/doc/stable/numpy-user.pdf\n",
    "* Read Chapter 3 to start populating your cheat sheet: include Array methods (functions), Matrix methods, and Mathematical functions. Include a short description/summary to help you use them later.\n",
    "* Full NumPy documentation is available here: https://numpy.org/doc/stable/numpy-ref.pdf"
   ]
  }
 ],
 "metadata": {
  "celltoolbar": "Slideshow",
  "kernelspec": {
   "display_name": "Python 3",
   "language": "python",
   "name": "python3"
  },
  "language_info": {
   "codemirror_mode": {
    "name": "ipython",
    "version": 3
   },
   "file_extension": ".py",
   "mimetype": "text/x-python",
   "name": "python",
   "nbconvert_exporter": "python",
   "pygments_lexer": "ipython3",
   "version": "3.8.8"
  }
 },
 "nbformat": 4,
 "nbformat_minor": 4
}
